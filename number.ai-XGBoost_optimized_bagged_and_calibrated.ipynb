{
 "cells": [
  {
   "cell_type": "markdown",
   "metadata": {},
   "source": [
    "# numer.ai"
   ]
  },
  {
   "cell_type": "markdown",
   "metadata": {},
   "source": [
    "Numerai is using breakthroughs in encryption to allow data scientists to participate in solving a stock market machine learning\n",
    "problem.\n",
    "\n",
    "https://numer.ai/about"
   ]
  },
  {
   "cell_type": "code",
   "execution_count": 1,
   "metadata": {
    "collapsed": true
   },
   "outputs": [],
   "source": [
    "import pandas as pd\n",
    "import numpy as np\n",
    "workdir = \"G:/numer.ai/\""
   ]
  },
  {
   "cell_type": "code",
   "execution_count": 2,
   "metadata": {
    "collapsed": false
   },
   "outputs": [],
   "source": [
    "traindata = pd.read_csv(workdir+'numerai_training_data.csv')"
   ]
  },
  {
   "cell_type": "code",
   "execution_count": 4,
   "metadata": {
    "collapsed": false
   },
   "outputs": [
    {
     "data": {
      "text/html": [
       "<div>\n",
       "<table border=\"1\" class=\"dataframe\">\n",
       "  <thead>\n",
       "    <tr style=\"text-align: right;\">\n",
       "      <th></th>\n",
       "      <th>feature1</th>\n",
       "      <th>feature2</th>\n",
       "      <th>feature3</th>\n",
       "      <th>feature4</th>\n",
       "      <th>feature5</th>\n",
       "      <th>feature6</th>\n",
       "      <th>feature7</th>\n",
       "      <th>feature8</th>\n",
       "      <th>feature9</th>\n",
       "      <th>feature10</th>\n",
       "      <th>...</th>\n",
       "      <th>feature13</th>\n",
       "      <th>feature14</th>\n",
       "      <th>feature15</th>\n",
       "      <th>feature16</th>\n",
       "      <th>feature17</th>\n",
       "      <th>feature18</th>\n",
       "      <th>feature19</th>\n",
       "      <th>feature20</th>\n",
       "      <th>feature21</th>\n",
       "      <th>target</th>\n",
       "    </tr>\n",
       "  </thead>\n",
       "  <tbody>\n",
       "    <tr>\n",
       "      <th>0</th>\n",
       "      <td>0.017687</td>\n",
       "      <td>0.843548</td>\n",
       "      <td>0.814934</td>\n",
       "      <td>0.276967</td>\n",
       "      <td>0.912423</td>\n",
       "      <td>0.988795</td>\n",
       "      <td>0.858665</td>\n",
       "      <td>0.179334</td>\n",
       "      <td>0.807150</td>\n",
       "      <td>0.073117</td>\n",
       "      <td>...</td>\n",
       "      <td>0.902173</td>\n",
       "      <td>0.995616</td>\n",
       "      <td>0.688415</td>\n",
       "      <td>0.555081</td>\n",
       "      <td>0.875725</td>\n",
       "      <td>0.879434</td>\n",
       "      <td>0.095635</td>\n",
       "      <td>0.070577</td>\n",
       "      <td>0.003269</td>\n",
       "      <td>0</td>\n",
       "    </tr>\n",
       "    <tr>\n",
       "      <th>1</th>\n",
       "      <td>0.355228</td>\n",
       "      <td>0.565411</td>\n",
       "      <td>0.759710</td>\n",
       "      <td>0.907185</td>\n",
       "      <td>0.717064</td>\n",
       "      <td>0.806277</td>\n",
       "      <td>0.888097</td>\n",
       "      <td>0.963211</td>\n",
       "      <td>0.821191</td>\n",
       "      <td>0.261696</td>\n",
       "      <td>...</td>\n",
       "      <td>0.856744</td>\n",
       "      <td>0.651405</td>\n",
       "      <td>0.836491</td>\n",
       "      <td>0.617654</td>\n",
       "      <td>0.832884</td>\n",
       "      <td>0.341864</td>\n",
       "      <td>0.348834</td>\n",
       "      <td>0.406405</td>\n",
       "      <td>0.427224</td>\n",
       "      <td>1</td>\n",
       "    </tr>\n",
       "  </tbody>\n",
       "</table>\n",
       "<p>2 rows × 22 columns</p>\n",
       "</div>"
      ],
      "text/plain": [
       "   feature1  feature2  feature3  feature4  feature5  feature6  feature7  \\\n",
       "0  0.017687  0.843548  0.814934  0.276967  0.912423  0.988795  0.858665   \n",
       "1  0.355228  0.565411  0.759710  0.907185  0.717064  0.806277  0.888097   \n",
       "\n",
       "   feature8  feature9  feature10   ...    feature13  feature14  feature15  \\\n",
       "0  0.179334  0.807150   0.073117   ...     0.902173   0.995616   0.688415   \n",
       "1  0.963211  0.821191   0.261696   ...     0.856744   0.651405   0.836491   \n",
       "\n",
       "   feature16  feature17  feature18  feature19  feature20  feature21  target  \n",
       "0   0.555081   0.875725   0.879434   0.095635   0.070577   0.003269       0  \n",
       "1   0.617654   0.832884   0.341864   0.348834   0.406405   0.427224       1  \n",
       "\n",
       "[2 rows x 22 columns]"
      ]
     },
     "execution_count": 4,
     "metadata": {},
     "output_type": "execute_result"
    }
   ],
   "source": [
    "traindata.head(2)"
   ]
  },
  {
   "cell_type": "code",
   "execution_count": 5,
   "metadata": {
    "collapsed": false
   },
   "outputs": [],
   "source": [
    "target = traindata[\"target\"]\n",
    "traindata.drop(\"target\", axis=1, inplace=True)"
   ]
  },
  {
   "cell_type": "code",
   "execution_count": 6,
   "metadata": {
    "collapsed": false
   },
   "outputs": [
    {
     "data": {
      "text/html": [
       "<div>\n",
       "<table border=\"1\" class=\"dataframe\">\n",
       "  <thead>\n",
       "    <tr style=\"text-align: right;\">\n",
       "      <th></th>\n",
       "      <th>feature1</th>\n",
       "      <th>feature2</th>\n",
       "      <th>feature3</th>\n",
       "      <th>feature4</th>\n",
       "      <th>feature5</th>\n",
       "      <th>feature6</th>\n",
       "      <th>feature7</th>\n",
       "      <th>feature8</th>\n",
       "      <th>feature9</th>\n",
       "      <th>feature10</th>\n",
       "      <th>...</th>\n",
       "      <th>feature12</th>\n",
       "      <th>feature13</th>\n",
       "      <th>feature14</th>\n",
       "      <th>feature15</th>\n",
       "      <th>feature16</th>\n",
       "      <th>feature17</th>\n",
       "      <th>feature18</th>\n",
       "      <th>feature19</th>\n",
       "      <th>feature20</th>\n",
       "      <th>feature21</th>\n",
       "    </tr>\n",
       "  </thead>\n",
       "  <tbody>\n",
       "    <tr>\n",
       "      <th>count</th>\n",
       "      <td>136573.000000</td>\n",
       "      <td>136573.000000</td>\n",
       "      <td>136573.000000</td>\n",
       "      <td>136573.000000</td>\n",
       "      <td>136573.000000</td>\n",
       "      <td>136573.000000</td>\n",
       "      <td>136573.000000</td>\n",
       "      <td>136573.000000</td>\n",
       "      <td>136573.000000</td>\n",
       "      <td>136573.000000</td>\n",
       "      <td>...</td>\n",
       "      <td>136573.000000</td>\n",
       "      <td>136573.000000</td>\n",
       "      <td>136573.000000</td>\n",
       "      <td>136573.000000</td>\n",
       "      <td>136573.000000</td>\n",
       "      <td>136573.000000</td>\n",
       "      <td>136573.000000</td>\n",
       "      <td>136573.000000</td>\n",
       "      <td>136573.000000</td>\n",
       "      <td>136573.000000</td>\n",
       "    </tr>\n",
       "    <tr>\n",
       "      <th>mean</th>\n",
       "      <td>0.473665</td>\n",
       "      <td>0.512631</td>\n",
       "      <td>0.511716</td>\n",
       "      <td>0.502332</td>\n",
       "      <td>0.498231</td>\n",
       "      <td>0.489776</td>\n",
       "      <td>0.493125</td>\n",
       "      <td>0.502370</td>\n",
       "      <td>0.501107</td>\n",
       "      <td>0.487738</td>\n",
       "      <td>...</td>\n",
       "      <td>0.503058</td>\n",
       "      <td>0.495264</td>\n",
       "      <td>0.508009</td>\n",
       "      <td>0.498999</td>\n",
       "      <td>0.489074</td>\n",
       "      <td>0.516172</td>\n",
       "      <td>0.510164</td>\n",
       "      <td>0.483868</td>\n",
       "      <td>0.503173</td>\n",
       "      <td>0.490400</td>\n",
       "    </tr>\n",
       "    <tr>\n",
       "      <th>std</th>\n",
       "      <td>0.291512</td>\n",
       "      <td>0.290201</td>\n",
       "      <td>0.288814</td>\n",
       "      <td>0.293186</td>\n",
       "      <td>0.293537</td>\n",
       "      <td>0.291347</td>\n",
       "      <td>0.288602</td>\n",
       "      <td>0.290478</td>\n",
       "      <td>0.278691</td>\n",
       "      <td>0.290059</td>\n",
       "      <td>...</td>\n",
       "      <td>0.288714</td>\n",
       "      <td>0.287911</td>\n",
       "      <td>0.286618</td>\n",
       "      <td>0.288140</td>\n",
       "      <td>0.287188</td>\n",
       "      <td>0.292215</td>\n",
       "      <td>0.292922</td>\n",
       "      <td>0.288383</td>\n",
       "      <td>0.287108</td>\n",
       "      <td>0.285497</td>\n",
       "    </tr>\n",
       "    <tr>\n",
       "      <th>min</th>\n",
       "      <td>0.000000</td>\n",
       "      <td>0.000000</td>\n",
       "      <td>0.000000</td>\n",
       "      <td>0.000000</td>\n",
       "      <td>0.000000</td>\n",
       "      <td>0.000000</td>\n",
       "      <td>0.000000</td>\n",
       "      <td>0.000000</td>\n",
       "      <td>0.000064</td>\n",
       "      <td>0.000000</td>\n",
       "      <td>...</td>\n",
       "      <td>0.000000</td>\n",
       "      <td>0.000000</td>\n",
       "      <td>0.000000</td>\n",
       "      <td>0.000000</td>\n",
       "      <td>0.000000</td>\n",
       "      <td>0.000000</td>\n",
       "      <td>0.000000</td>\n",
       "      <td>0.000000</td>\n",
       "      <td>0.000000</td>\n",
       "      <td>0.000000</td>\n",
       "    </tr>\n",
       "    <tr>\n",
       "      <th>25%</th>\n",
       "      <td>0.204125</td>\n",
       "      <td>0.266122</td>\n",
       "      <td>0.255894</td>\n",
       "      <td>0.241572</td>\n",
       "      <td>0.228471</td>\n",
       "      <td>0.228940</td>\n",
       "      <td>0.253284</td>\n",
       "      <td>0.252685</td>\n",
       "      <td>0.269538</td>\n",
       "      <td>0.229783</td>\n",
       "      <td>...</td>\n",
       "      <td>0.257962</td>\n",
       "      <td>0.238967</td>\n",
       "      <td>0.267147</td>\n",
       "      <td>0.247278</td>\n",
       "      <td>0.239038</td>\n",
       "      <td>0.262311</td>\n",
       "      <td>0.260789</td>\n",
       "      <td>0.236508</td>\n",
       "      <td>0.250369</td>\n",
       "      <td>0.247879</td>\n",
       "    </tr>\n",
       "    <tr>\n",
       "      <th>50%</th>\n",
       "      <td>0.456418</td>\n",
       "      <td>0.529997</td>\n",
       "      <td>0.527758</td>\n",
       "      <td>0.516066</td>\n",
       "      <td>0.504222</td>\n",
       "      <td>0.489689</td>\n",
       "      <td>0.497935</td>\n",
       "      <td>0.509452</td>\n",
       "      <td>0.491312</td>\n",
       "      <td>0.488750</td>\n",
       "      <td>...</td>\n",
       "      <td>0.501828</td>\n",
       "      <td>0.490198</td>\n",
       "      <td>0.505247</td>\n",
       "      <td>0.508547</td>\n",
       "      <td>0.478298</td>\n",
       "      <td>0.533366</td>\n",
       "      <td>0.500247</td>\n",
       "      <td>0.474127</td>\n",
       "      <td>0.512241</td>\n",
       "      <td>0.484387</td>\n",
       "    </tr>\n",
       "    <tr>\n",
       "      <th>75%</th>\n",
       "      <td>0.727077</td>\n",
       "      <td>0.761698</td>\n",
       "      <td>0.763739</td>\n",
       "      <td>0.752599</td>\n",
       "      <td>0.745930</td>\n",
       "      <td>0.740191</td>\n",
       "      <td>0.741812</td>\n",
       "      <td>0.745669</td>\n",
       "      <td>0.738147</td>\n",
       "      <td>0.746375</td>\n",
       "      <td>...</td>\n",
       "      <td>0.763938</td>\n",
       "      <td>0.746661</td>\n",
       "      <td>0.752855</td>\n",
       "      <td>0.741561</td>\n",
       "      <td>0.723346</td>\n",
       "      <td>0.766626</td>\n",
       "      <td>0.762757</td>\n",
       "      <td>0.727005</td>\n",
       "      <td>0.743788</td>\n",
       "      <td>0.732487</td>\n",
       "    </tr>\n",
       "    <tr>\n",
       "      <th>max</th>\n",
       "      <td>1.000000</td>\n",
       "      <td>1.000000</td>\n",
       "      <td>1.000000</td>\n",
       "      <td>1.000000</td>\n",
       "      <td>1.000000</td>\n",
       "      <td>1.000000</td>\n",
       "      <td>1.000000</td>\n",
       "      <td>1.000000</td>\n",
       "      <td>1.000000</td>\n",
       "      <td>1.000000</td>\n",
       "      <td>...</td>\n",
       "      <td>1.000000</td>\n",
       "      <td>1.000000</td>\n",
       "      <td>1.000000</td>\n",
       "      <td>1.000000</td>\n",
       "      <td>1.000000</td>\n",
       "      <td>1.000000</td>\n",
       "      <td>1.000000</td>\n",
       "      <td>1.000000</td>\n",
       "      <td>1.000000</td>\n",
       "      <td>1.000000</td>\n",
       "    </tr>\n",
       "  </tbody>\n",
       "</table>\n",
       "<p>8 rows × 21 columns</p>\n",
       "</div>"
      ],
      "text/plain": [
       "            feature1       feature2       feature3       feature4  \\\n",
       "count  136573.000000  136573.000000  136573.000000  136573.000000   \n",
       "mean        0.473665       0.512631       0.511716       0.502332   \n",
       "std         0.291512       0.290201       0.288814       0.293186   \n",
       "min         0.000000       0.000000       0.000000       0.000000   \n",
       "25%         0.204125       0.266122       0.255894       0.241572   \n",
       "50%         0.456418       0.529997       0.527758       0.516066   \n",
       "75%         0.727077       0.761698       0.763739       0.752599   \n",
       "max         1.000000       1.000000       1.000000       1.000000   \n",
       "\n",
       "            feature5       feature6       feature7       feature8  \\\n",
       "count  136573.000000  136573.000000  136573.000000  136573.000000   \n",
       "mean        0.498231       0.489776       0.493125       0.502370   \n",
       "std         0.293537       0.291347       0.288602       0.290478   \n",
       "min         0.000000       0.000000       0.000000       0.000000   \n",
       "25%         0.228471       0.228940       0.253284       0.252685   \n",
       "50%         0.504222       0.489689       0.497935       0.509452   \n",
       "75%         0.745930       0.740191       0.741812       0.745669   \n",
       "max         1.000000       1.000000       1.000000       1.000000   \n",
       "\n",
       "            feature9      feature10      ...            feature12  \\\n",
       "count  136573.000000  136573.000000      ...        136573.000000   \n",
       "mean        0.501107       0.487738      ...             0.503058   \n",
       "std         0.278691       0.290059      ...             0.288714   \n",
       "min         0.000064       0.000000      ...             0.000000   \n",
       "25%         0.269538       0.229783      ...             0.257962   \n",
       "50%         0.491312       0.488750      ...             0.501828   \n",
       "75%         0.738147       0.746375      ...             0.763938   \n",
       "max         1.000000       1.000000      ...             1.000000   \n",
       "\n",
       "           feature13      feature14      feature15      feature16  \\\n",
       "count  136573.000000  136573.000000  136573.000000  136573.000000   \n",
       "mean        0.495264       0.508009       0.498999       0.489074   \n",
       "std         0.287911       0.286618       0.288140       0.287188   \n",
       "min         0.000000       0.000000       0.000000       0.000000   \n",
       "25%         0.238967       0.267147       0.247278       0.239038   \n",
       "50%         0.490198       0.505247       0.508547       0.478298   \n",
       "75%         0.746661       0.752855       0.741561       0.723346   \n",
       "max         1.000000       1.000000       1.000000       1.000000   \n",
       "\n",
       "           feature17      feature18      feature19      feature20  \\\n",
       "count  136573.000000  136573.000000  136573.000000  136573.000000   \n",
       "mean        0.516172       0.510164       0.483868       0.503173   \n",
       "std         0.292215       0.292922       0.288383       0.287108   \n",
       "min         0.000000       0.000000       0.000000       0.000000   \n",
       "25%         0.262311       0.260789       0.236508       0.250369   \n",
       "50%         0.533366       0.500247       0.474127       0.512241   \n",
       "75%         0.766626       0.762757       0.727005       0.743788   \n",
       "max         1.000000       1.000000       1.000000       1.000000   \n",
       "\n",
       "           feature21  \n",
       "count  136573.000000  \n",
       "mean        0.490400  \n",
       "std         0.285497  \n",
       "min         0.000000  \n",
       "25%         0.247879  \n",
       "50%         0.484387  \n",
       "75%         0.732487  \n",
       "max         1.000000  \n",
       "\n",
       "[8 rows x 21 columns]"
      ]
     },
     "execution_count": 6,
     "metadata": {},
     "output_type": "execute_result"
    }
   ],
   "source": [
    "traindata.describe()"
   ]
  },
  {
   "cell_type": "code",
   "execution_count": 7,
   "metadata": {
    "collapsed": false
   },
   "outputs": [
    {
     "data": {
      "text/plain": [
       "count    136573.000000\n",
       "mean          0.503343\n",
       "std           0.499991\n",
       "min           0.000000\n",
       "25%           0.000000\n",
       "50%           1.000000\n",
       "75%           1.000000\n",
       "max           1.000000\n",
       "Name: target, dtype: float64"
      ]
     },
     "execution_count": 7,
     "metadata": {},
     "output_type": "execute_result"
    }
   ],
   "source": [
    "target.describe()"
   ]
  },
  {
   "cell_type": "code",
   "execution_count": 8,
   "metadata": {
    "collapsed": false
   },
   "outputs": [],
   "source": [
    "X_train = traindata.as_matrix()\n",
    "y_train = target.as_matrix().ravel()"
   ]
  },
  {
   "cell_type": "markdown",
   "metadata": {},
   "source": [
    "### Creating a model with eXtreme Gradient Boosting"
   ]
  },
  {
   "cell_type": "markdown",
   "metadata": {},
   "source": [
    "XGBoost is an optimized distributed gradient boosting library designed to be highly efficient, flexible and portable. It implements machine learning algorithms under the Gradient Boosting framework. XGBoost provides a parallel tree boosting (also known as GBDT, GBM) that solve many data science problems in a fast and accurate way. "
   ]
  },
  {
   "cell_type": "code",
   "execution_count": 16,
   "metadata": {
    "collapsed": false
   },
   "outputs": [],
   "source": [
    "from xgboost import XGBClassifier\n",
    "from sklearn.model_selection import cross_val_score"
   ]
  },
  {
   "cell_type": "code",
   "execution_count": 10,
   "metadata": {
    "collapsed": true
   },
   "outputs": [],
   "source": [
    "model = XGBClassifier()"
   ]
  },
  {
   "cell_type": "code",
   "execution_count": 19,
   "metadata": {
    "collapsed": false
   },
   "outputs": [
    {
     "name": "stdout",
     "output_type": "stream",
     "text": [
      "XGBoost default model expected logloss = 0.6921\n",
      "XGBoost default model expected accuracy = 0.520\n"
     ]
    }
   ],
   "source": [
    "print(\"XGBoost default model expected logloss = %.4f\" % (-cross_val_score(model, X_train, y_train, \n",
    "                                                                          scoring=\"neg_log_loss\", cv=3).mean()))\n",
    "print(\"XGBoost default model expected accuracy = %.3f\" % ( cross_val_score(model, X_train, y_train, \n",
    "                                                                           scoring=\"accuracy\", cv=3).mean()))"
   ]
  },
  {
   "cell_type": "markdown",
   "metadata": {},
   "source": [
    "### Hyperparameter Optimization"
   ]
  },
  {
   "cell_type": "markdown",
   "metadata": {},
   "source": [
    "hyperopt is a Python library for optimizing over awkward search spaces with real-valued, discrete, and conditional dimensions, using the Tree of Parzen Estimators (TPE) algorithm"
   ]
  },
  {
   "cell_type": "code",
   "execution_count": 20,
   "metadata": {
    "collapsed": true
   },
   "outputs": [],
   "source": [
    "from hyperopt import hp\n",
    "from hyperopt import fmin, tpe, hp, STATUS_OK, Trials\n",
    "from sklearn.model_selection import StratifiedKFold, train_test_split"
   ]
  },
  {
   "cell_type": "code",
   "execution_count": 21,
   "metadata": {
    "collapsed": true
   },
   "outputs": [],
   "source": [
    "#We'll use a small random subset of the data to speed up the optimization\n",
    "X_train, X_val, y_train, y_val = train_test_split(X_train, y_train, train_size=0.333)"
   ]
  },
  {
   "cell_type": "code",
   "execution_count": 22,
   "metadata": {
    "collapsed": true
   },
   "outputs": [],
   "source": [
    "def cross_validated_scorer(X_train, y_train, model_class, params, loss, kfolds=3):\n",
    "    params[\"n_estimators\"] = int(params[\"n_estimators\"])\n",
    "    params[\"max_depth\"] = int(params[\"max_depth\"])\n",
    "    print(\"Training with params : %s\" % (params))\n",
    "    mod = model_class(**params)\n",
    "    cv_score = -1 * cross_val_score(mod, X_train, y=y_train, scoring=loss, cv=kfolds, n_jobs=1).mean()\n",
    "    print(cv_score)\n",
    "    return cv_score\n",
    "\n",
    "def optimize(trials):\n",
    "    hyperopt_grid = {\n",
    "            'max_depth' : hp.quniform('max_depth', 1, 10, 1),\n",
    "            'learning_rate' : hp.quniform('learning_rate', 0.01, 0.5, 0.01),\n",
    "            'n_estimators' : hp.quniform('n_estimators', 25, 525, 25),\n",
    "            'gamma' : hp.quniform('gamma', 0.0, 1.0, 0.05),\n",
    "            'min_child_weight' : hp.quniform('min_child_weight', 1, 4, 1),\n",
    "            'subsample' : hp.quniform('subsample', 0.2, 1, 0.1),\n",
    "            'colsample_bytree' : hp.quniform('colsample_bytree', 0.2, 1.0, 0.1)\n",
    "    }\n",
    "    \n",
    "    def objective(params):\n",
    "        err = cross_validated_scorer(X_train, y_train, XGBClassifier, params, loss=\"neg_log_loss\")\n",
    "        return {'loss': err, 'params': params, 'status': STATUS_OK}\n",
    "    best = fmin(objective, hyperopt_grid, algo=tpe.suggest, trials=trials, max_evals=25)\n",
    "    return best"
   ]
  },
  {
   "cell_type": "code",
   "execution_count": 23,
   "metadata": {
    "collapsed": false
   },
   "outputs": [
    {
     "name": "stdout",
     "output_type": "stream",
     "text": [
      "Training with params : {'min_child_weight': 3.0, 'max_depth': 9, 'subsample': 0.9, 'learning_rate': 0.22, 'n_estimators': 75, 'gamma': 0.8500000000000001, 'colsample_bytree': 0.8}\n",
      "0.729789670704\n",
      "Training with params : {'min_child_weight': 3.0, 'max_depth': 8, 'subsample': 0.7000000000000001, 'learning_rate': 0.26, 'n_estimators': 225, 'gamma': 0.8, 'colsample_bytree': 0.6000000000000001}\n",
      "0.808850793342\n",
      "Training with params : {'min_child_weight': 2.0, 'max_depth': 8, 'subsample': 0.9, 'learning_rate': 0.42, 'n_estimators': 250, 'gamma': 0.5, 'colsample_bytree': 0.4}\n",
      "0.880625596133\n",
      "Training with params : {'min_child_weight': 2.0, 'max_depth': 3, 'subsample': 0.30000000000000004, 'learning_rate': 0.48, 'n_estimators': 275, 'gamma': 0.8, 'colsample_bytree': 0.2}\n",
      "0.772507310438\n",
      "Training with params : {'min_child_weight': 3.0, 'max_depth': 10, 'subsample': 0.5, 'learning_rate': 0.5, 'n_estimators': 500, 'gamma': 0.30000000000000004, 'colsample_bytree': 0.30000000000000004}\n",
      "1.38009342922\n",
      "Training with params : {'min_child_weight': 4.0, 'max_depth': 7, 'subsample': 0.4, 'learning_rate': 0.18, 'n_estimators': 325, 'gamma': 0.1, 'colsample_bytree': 0.5}\n",
      "0.787385398456\n",
      "Training with params : {'min_child_weight': 4.0, 'max_depth': 6, 'subsample': 0.30000000000000004, 'learning_rate': 0.46, 'n_estimators': 375, 'gamma': 0.65, 'colsample_bytree': 0.2}\n",
      "1.16398557539\n",
      "Training with params : {'min_child_weight': 4.0, 'max_depth': 7, 'subsample': 0.30000000000000004, 'learning_rate': 0.39, 'n_estimators': 300, 'gamma': 0.35000000000000003, 'colsample_bytree': 0.7000000000000001}\n",
      "1.1849541107\n",
      "Training with params : {'min_child_weight': 4.0, 'max_depth': 1, 'subsample': 0.9, 'learning_rate': 0.22, 'n_estimators': 175, 'gamma': 0.25, 'colsample_bytree': 0.4}\n",
      "0.692548418262\n",
      "Training with params : {'min_child_weight': 1.0, 'max_depth': 7, 'subsample': 0.7000000000000001, 'learning_rate': 0.17, 'n_estimators': 75, 'gamma': 0.9500000000000001, 'colsample_bytree': 0.8}\n",
      "0.711362988198\n",
      "Training with params : {'min_child_weight': 2.0, 'max_depth': 6, 'subsample': 0.4, 'learning_rate': 0.25, 'n_estimators': 225, 'gamma': 0.5, 'colsample_bytree': 0.5}\n",
      "0.789018712679\n",
      "Training with params : {'min_child_weight': 4.0, 'max_depth': 6, 'subsample': 0.2, 'learning_rate': 0.28, 'n_estimators': 50, 'gamma': 0.25, 'colsample_bytree': 0.30000000000000004}\n",
      "0.738461338511\n",
      "Training with params : {'min_child_weight': 3.0, 'max_depth': 7, 'subsample': 0.4, 'learning_rate': 0.23, 'n_estimators': 50, 'gamma': 0.15000000000000002, 'colsample_bytree': 0.30000000000000004}\n",
      "0.719773630504\n",
      "Training with params : {'min_child_weight': 3.0, 'max_depth': 5, 'subsample': 0.8, 'learning_rate': 0.21, 'n_estimators': 200, 'gamma': 0.55, 'colsample_bytree': 0.8}\n",
      "0.719566153559\n",
      "Training with params : {'min_child_weight': 1.0, 'max_depth': 8, 'subsample': 0.30000000000000004, 'learning_rate': 0.41000000000000003, 'n_estimators': 375, 'gamma': 0.6000000000000001, 'colsample_bytree': 0.8}\n",
      "1.57228331188\n",
      "Training with params : {'min_child_weight': 3.0, 'max_depth': 2, 'subsample': 0.30000000000000004, 'learning_rate': 0.18, 'n_estimators': 200, 'gamma': 0.55, 'colsample_bytree': 1.0}\n",
      "0.69822157869\n",
      "Training with params : {'min_child_weight': 3.0, 'max_depth': 5, 'subsample': 0.7000000000000001, 'learning_rate': 0.26, 'n_estimators': 450, 'gamma': 0.65, 'colsample_bytree': 0.30000000000000004}\n",
      "0.765722036564\n",
      "Training with params : {'min_child_weight': 4.0, 'max_depth': 2, 'subsample': 0.4, 'learning_rate': 0.08, 'n_estimators': 300, 'gamma': 0.35000000000000003, 'colsample_bytree': 0.7000000000000001}\n",
      "0.693793100847\n",
      "Training with params : {'min_child_weight': 1.0, 'max_depth': 9, 'subsample': 1.0, 'learning_rate': 0.09, 'n_estimators': 150, 'gamma': 0.6000000000000001, 'colsample_bytree': 0.7000000000000001}\n",
      "0.708906775868\n",
      "Training with params : {'min_child_weight': 3.0, 'max_depth': 4, 'subsample': 0.7000000000000001, 'learning_rate': 0.08, 'n_estimators': 100, 'gamma': 0.05, 'colsample_bytree': 0.5}\n",
      "0.693509161524\n",
      "Training with params : {'min_child_weight': 4.0, 'max_depth': 4, 'subsample': 1.0, 'learning_rate': 0.04, 'n_estimators': 125, 'gamma': 0.05, 'colsample_bytree': 0.5}\n",
      "0.692494731197\n",
      "Training with params : {'min_child_weight': 4.0, 'max_depth': 1, 'subsample': 1.0, 'learning_rate': 0.01, 'n_estimators': 150, 'gamma': 0.0, 'colsample_bytree': 0.4}\n",
      "0.692432466306\n",
      "Training with params : {'min_child_weight': 4.0, 'max_depth': 1, 'subsample': 1.0, 'learning_rate': 0.04, 'n_estimators': 125, 'gamma': 0.05, 'colsample_bytree': 0.4}\n",
      "0.691872310448\n",
      "Training with params : {'min_child_weight': 4.0, 'max_depth': 1, 'subsample': 1.0, 'learning_rate': 0.03, 'n_estimators': 150, 'gamma': 0.0, 'colsample_bytree': 0.4}\n",
      "0.691917130696\n",
      "Training with params : {'min_child_weight': 4.0, 'max_depth': 2, 'subsample': 0.8, 'learning_rate': 0.12, 'n_estimators': 125, 'gamma': 0.15000000000000002, 'colsample_bytree': 0.6000000000000001}\n",
      "0.692520709561\n",
      "Wall time: 13min 34s\n"
     ]
    }
   ],
   "source": [
    "%%time\n",
    "trials = Trials()\n",
    "best = optimize(trials)"
   ]
  },
  {
   "cell_type": "code",
   "execution_count": 24,
   "metadata": {
    "collapsed": true
   },
   "outputs": [],
   "source": [
    "best[\"n_estimators\"] = int(best[\"n_estimators\"])\n",
    "best[\"max_depth\"] = int(best[\"max_depth\"])"
   ]
  },
  {
   "cell_type": "code",
   "execution_count": 25,
   "metadata": {
    "collapsed": false
   },
   "outputs": [
    {
     "name": "stdout",
     "output_type": "stream",
     "text": [
      "{'min_child_weight': 4.0, 'max_depth': 1, 'subsample': 1.0, 'learning_rate': 0.04, 'n_estimators': 125, 'gamma': 0.05, 'colsample_bytree': 0.4}\n"
     ]
    }
   ],
   "source": [
    "print(best)"
   ]
  },
  {
   "cell_type": "code",
   "execution_count": 26,
   "metadata": {
    "collapsed": false
   },
   "outputs": [],
   "source": [
    "model = XGBClassifier(**best)"
   ]
  },
  {
   "cell_type": "code",
   "execution_count": 27,
   "metadata": {
    "collapsed": false
   },
   "outputs": [],
   "source": [
    "X_train = traindata.as_matrix()\n",
    "y_train = target.as_matrix().ravel()"
   ]
  },
  {
   "cell_type": "code",
   "execution_count": 30,
   "metadata": {
    "collapsed": false
   },
   "outputs": [
    {
     "name": "stdout",
     "output_type": "stream",
     "text": [
      "XBBoost optimized model expected logloss = 0.6918\n",
      "XBBoost optimized model expected accuracy = 0.521\n"
     ]
    }
   ],
   "source": [
    "print(\"XBBoost optimized model expected logloss = %.4f\" % ( -cross_val_score(model, X_train, y_train, \n",
    "                                                                             scoring=\"neg_log_loss\", cv=3).mean()))\n",
    "print(\"XBBoost optimized model expected accuracy = %.3f\" % ( cross_val_score(model, X_train, y_train, \n",
    "                                                                              scoring=\"accuracy\", cv=3).mean()))"
   ]
  },
  {
   "cell_type": "markdown",
   "metadata": {
    "collapsed": true
   },
   "source": [
    "### Bagging"
   ]
  },
  {
   "cell_type": "markdown",
   "metadata": {},
   "source": [
    "A Bagging classifier is an ensemble meta-estimator that fits base classifiers each on random subsets of the original dataset and then aggregate their individual predictions to form a final prediction. Such a meta-estimator can typically be used as a way to reduce the variance of a black-box estimator, by introducing randomization into its construction procedure and then making an ensemble out of it."
   ]
  },
  {
   "cell_type": "markdown",
   "metadata": {},
   "source": [
    "When base estimators are built on subsets of both samples and features, then the method is known as Random Patches"
   ]
  },
  {
   "cell_type": "code",
   "execution_count": 31,
   "metadata": {
    "collapsed": true
   },
   "outputs": [],
   "source": [
    "from sklearn.ensemble import BaggingClassifier\n",
    "bagged_model = BaggingClassifier(model, n_estimators=10, max_samples=0.9, max_features=0.9, bootstrap=False, n_jobs=4)"
   ]
  },
  {
   "cell_type": "code",
   "execution_count": 33,
   "metadata": {
    "collapsed": false
   },
   "outputs": [
    {
     "name": "stdout",
     "output_type": "stream",
     "text": [
      "XBBoost bagged model expected logloss = 0.6918\n",
      "XBBoost bagged model expected accuracy = 0.521\n"
     ]
    }
   ],
   "source": [
    "print(\"XBBoost bagged model expected logloss = %.4f\" % ( - cross_val_score(bagged_model, X_train, y_train, \n",
    "                                                                             scoring=\"neg_log_loss\", cv=3).mean()))\n",
    "print(\"XBBoost bagged model expected accuracy = %.3f\" % ( cross_val_score(bagged_model, X_train, y_train, \n",
    "                                                                              scoring=\"accuracy\", cv=3).mean()))"
   ]
  },
  {
   "cell_type": "markdown",
   "metadata": {
    "collapsed": true
   },
   "source": [
    "### Probability Calibration "
   ]
  },
  {
   "cell_type": "markdown",
   "metadata": {},
   "source": [
    "The calibration module allows you to better calibrate the probabilities of a given model, or to add support for probability prediction.\n",
    "Well calibrated classifiers are probabilistic classifiers for which the output of the predict_proba method can be directly interpreted as a confidence level."
   ]
  },
  {
   "cell_type": "markdown",
   "metadata": {},
   "source": [
    "We are using a parametric approach based on Platt’s sigmoid model "
   ]
  },
  {
   "cell_type": "code",
   "execution_count": 34,
   "metadata": {
    "collapsed": true
   },
   "outputs": [],
   "source": [
    "from sklearn.calibration import CalibratedClassifierCV\n",
    "best_model = CalibratedClassifierCV(base_estimator=bagged_model, method='sigmoid', cv=5)"
   ]
  },
  {
   "cell_type": "code",
   "execution_count": 36,
   "metadata": {
    "collapsed": false
   },
   "outputs": [
    {
     "name": "stdout",
     "output_type": "stream",
     "text": [
      "XGBoost calibrated model expected logloss = 0.6916\n",
      "XGBoost calibrated model expected accuracy = 0.522\n"
     ]
    }
   ],
   "source": [
    "print(\"XGBoost calibrated model expected logloss = %.4f\" % ( - cross_val_score(best_model, X_train, y_train, \n",
    "                                                                             scoring=\"neg_log_loss\", cv=3).mean()))\n",
    "print(\"XGBoost calibrated model expected accuracy = %.3f\" % ( cross_val_score(best_model, X_train, y_train, \n",
    "                                                                              scoring=\"accuracy\", cv=3).mean()))"
   ]
  },
  {
   "cell_type": "markdown",
   "metadata": {},
   "source": [
    "### Obatining final predictions"
   ]
  },
  {
   "cell_type": "code",
   "execution_count": 37,
   "metadata": {
    "collapsed": false
   },
   "outputs": [
    {
     "name": "stdout",
     "output_type": "stream",
     "text": [
      "Wall time: 2min 11s\n"
     ]
    }
   ],
   "source": [
    "%%time\n",
    "best_model = best_model.fit(X_train, y_train)"
   ]
  },
  {
   "cell_type": "code",
   "execution_count": 38,
   "metadata": {
    "collapsed": true
   },
   "outputs": [],
   "source": [
    "testdata = pd.read_csv(workdir+'numerai_tournament_data.csv')"
   ]
  },
  {
   "cell_type": "code",
   "execution_count": 39,
   "metadata": {
    "collapsed": false
   },
   "outputs": [],
   "source": [
    "ids = testdata['t_id']\n",
    "testdata.drop('t_id', axis=1, inplace=True)\n",
    "X_test = testdata.as_matrix()"
   ]
  },
  {
   "cell_type": "code",
   "execution_count": 40,
   "metadata": {
    "collapsed": false
   },
   "outputs": [],
   "source": [
    "predictions = best_model.predict_proba(X_test)[:,1]"
   ]
  },
  {
   "cell_type": "code",
   "execution_count": 41,
   "metadata": {
    "collapsed": false
   },
   "outputs": [],
   "source": [
    "results = pd.read_csv(workdir+\"example_predictions.csv\")\n",
    "results[\"probability\"] = predictions\n",
    "results.to_csv(workdir+\"submission_xgb_calib.csv\", index=False)"
   ]
  },
  {
   "cell_type": "markdown",
   "metadata": {
    "collapsed": true
   },
   "source": [
    "*submission_xgb_calib.csv has logloss of 0.68955*"
   ]
  },
  {
   "cell_type": "code",
   "execution_count": null,
   "metadata": {
    "collapsed": true
   },
   "outputs": [],
   "source": []
  }
 ],
 "metadata": {
  "anaconda-cloud": {},
  "kernelspec": {
   "display_name": "Python [conda root]",
   "language": "python",
   "name": "conda-root-py"
  },
  "language_info": {
   "codemirror_mode": {
    "name": "ipython",
    "version": 3
   },
   "file_extension": ".py",
   "mimetype": "text/x-python",
   "name": "python",
   "nbconvert_exporter": "python",
   "pygments_lexer": "ipython3",
   "version": "3.5.2"
  }
 },
 "nbformat": 4,
 "nbformat_minor": 0
}
