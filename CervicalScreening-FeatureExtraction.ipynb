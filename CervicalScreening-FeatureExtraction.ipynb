{
 "cells": [
  {
   "cell_type": "markdown",
   "metadata": {},
   "source": [
    "# Cervical Cancer Screening.\n",
    "https://www.kaggle.com/c/intel-mobileodt-cervical-cancer-screening \n",
    "\n",
    "In this competition, you'll work with an image dataset to accurately determine cervix types. Doing so is critical to providing cervical cancer treatments that work for all women regardless of their physiology."
   ]
  },
  {
   "cell_type": "code",
   "execution_count": 1,
   "metadata": {
    "collapsed": true,
    "deletable": true,
    "editable": true
   },
   "outputs": [],
   "source": [
    "from __future__ import print_function"
   ]
  },
  {
   "cell_type": "code",
   "execution_count": 2,
   "metadata": {
    "collapsed": false,
    "deletable": true,
    "editable": true
   },
   "outputs": [
    {
     "name": "stderr",
     "output_type": "stream",
     "text": [
      "Using Theano backend.\n",
      "Using gpu device 0: GRID K520 (CNMeM is disabled, cuDNN 5110)\n",
      "/usr/local/lib/python2.7/dist-packages/theano/sandbox/cuda/__init__.py:600: UserWarning: Your cuDNN version is more recent than the one Theano officially supports. If you see any problems, try updating Theano or downgrading cuDNN to version 5.\n",
      "  warnings.warn(warn)\n"
     ]
    }
   ],
   "source": [
    "from keras import backend as K\n",
    "K.set_image_dim_ordering('th')"
   ]
  },
  {
   "cell_type": "markdown",
   "metadata": {},
   "source": [
    "### The Data"
   ]
  },
  {
   "cell_type": "code",
   "execution_count": 3,
   "metadata": {
    "collapsed": true,
    "deletable": true,
    "editable": true
   },
   "outputs": [],
   "source": [
    "data_path = \"/home/ubuntu/data/\""
   ]
  },
  {
   "cell_type": "code",
   "execution_count": 4,
   "metadata": {
    "collapsed": true
   },
   "outputs": [],
   "source": [
    "#1. List of training images\n",
    "\n",
    "import os, shutil\n",
    "import pandas as pd\n",
    "dataset_path = data_path + \"train/\"\n",
    "train_images = pd.DataFrame(columns=[\"Class\", \"Image\", \"Imagepath\"])\n",
    "for (folder, subs, files) in os.walk(dataset_path):\n",
    "    for filename in files:\n",
    "        label = folder.split(\"/\")[-1]\n",
    "        imagepath = os.path.join(folder, filename)\n",
    "        train_images = train_images.append({\"Class\":label, \n",
    "                                                \"Image\":filename, \n",
    "                                                \"Imagepath\":imagepath}, \n",
    "                                               ignore_index=True)"
   ]
  },
  {
   "cell_type": "code",
   "execution_count": 8,
   "metadata": {
    "collapsed": false
   },
   "outputs": [
    {
     "data": {
      "text/html": [
       "<div>\n",
       "<table border=\"1\" class=\"dataframe\">\n",
       "  <thead>\n",
       "    <tr style=\"text-align: right;\">\n",
       "      <th></th>\n",
       "      <th>Class</th>\n",
       "      <th>Image</th>\n",
       "      <th>Imagepath</th>\n",
       "    </tr>\n",
       "  </thead>\n",
       "  <tbody>\n",
       "    <tr>\n",
       "      <th>0</th>\n",
       "      <td>Type_3</td>\n",
       "      <td>944.jpg</td>\n",
       "      <td>/home/ubuntu/data/train/Type_3/944.jpg</td>\n",
       "    </tr>\n",
       "    <tr>\n",
       "      <th>1</th>\n",
       "      <td>Type_3</td>\n",
       "      <td>427.jpg</td>\n",
       "      <td>/home/ubuntu/data/train/Type_3/427.jpg</td>\n",
       "    </tr>\n",
       "    <tr>\n",
       "      <th>2</th>\n",
       "      <td>Type_3</td>\n",
       "      <td>258.jpg</td>\n",
       "      <td>/home/ubuntu/data/train/Type_3/258.jpg</td>\n",
       "    </tr>\n",
       "    <tr>\n",
       "      <th>3</th>\n",
       "      <td>Type_3</td>\n",
       "      <td>1372.jpg</td>\n",
       "      <td>/home/ubuntu/data/train/Type_3/1372.jpg</td>\n",
       "    </tr>\n",
       "    <tr>\n",
       "      <th>4</th>\n",
       "      <td>Type_3</td>\n",
       "      <td>494.jpg</td>\n",
       "      <td>/home/ubuntu/data/train/Type_3/494.jpg</td>\n",
       "    </tr>\n",
       "  </tbody>\n",
       "</table>\n",
       "</div>"
      ],
      "text/plain": [
       "    Class     Image                                Imagepath\n",
       "0  Type_3   944.jpg   /home/ubuntu/data/train/Type_3/944.jpg\n",
       "1  Type_3   427.jpg   /home/ubuntu/data/train/Type_3/427.jpg\n",
       "2  Type_3   258.jpg   /home/ubuntu/data/train/Type_3/258.jpg\n",
       "3  Type_3  1372.jpg  /home/ubuntu/data/train/Type_3/1372.jpg\n",
       "4  Type_3   494.jpg   /home/ubuntu/data/train/Type_3/494.jpg"
      ]
     },
     "execution_count": 8,
     "metadata": {},
     "output_type": "execute_result"
    }
   ],
   "source": [
    "train_images.head()"
   ]
  },
  {
   "cell_type": "code",
   "execution_count": 10,
   "metadata": {
    "collapsed": false
   },
   "outputs": [],
   "source": [
    "train_images = train_images[train_images[\"Image\"] != \".DS_Store\"]"
   ]
  },
  {
   "cell_type": "code",
   "execution_count": 14,
   "metadata": {
    "collapsed": false
   },
   "outputs": [
    {
     "data": {
      "text/plain": [
       "<matplotlib.axes._subplots.AxesSubplot at 0x7f5be150b410>"
      ]
     },
     "execution_count": 14,
     "metadata": {},
     "output_type": "execute_result"
    },
    {
     "data": {
      "image/png": "[encoded data removed]",
      "text/plain": [
       "<matplotlib.figure.Figure at 0x7f5bef845f50>"
      ]
     },
     "metadata": {},
     "output_type": "display_data"
    }
   ],
   "source": [
    "#Class distribution\n",
    "\n",
    "%matplotlib inline\n",
    "train_images[\"Class\"].value_counts().plot(kind='bar')"
   ]
  },
  {
   "cell_type": "code",
   "execution_count": null,
   "metadata": {
    "collapsed": true
   },
   "outputs": [],
   "source": [
    "#2. Optional: Move all the images into the train directory\n",
    "\n",
    "for origin in train_images[\"Imagepath\"]:\n",
    "    l = origin.split(\"/\")\n",
    "    l.pop(-2)\n",
    "    dest = \"/\".join(l)\n",
    "    shutil.move(origin, dest)"
   ]
  },
  {
   "cell_type": "code",
   "execution_count": 15,
   "metadata": {
    "collapsed": true
   },
   "outputs": [],
   "source": [
    "#3. Save train image list\n",
    "\n",
    "train_images.to_csv(data_path+\"train_set.csv\", index=False)"
   ]
  },
  {
   "cell_type": "code",
   "execution_count": 16,
   "metadata": {
    "collapsed": true,
    "deletable": true,
    "editable": true
   },
   "outputs": [],
   "source": [
    "#4. List of test images\n",
    "\n",
    "dataset_path = data_path + \"test/\"\n",
    "test_images = pd.DataFrame(columns=[\"Image\", \"Imagepath\"])\n",
    "for (folder, subs, files) in os.walk(dataset_path):\n",
    "    for filename in files:\n",
    "        imagepath = os.path.join(folder, filename)\n",
    "        test_images = test_images.append({\"Image\":filename, \n",
    "                                                \"Imagepath\":imagepath}, \n",
    "                                               ignore_index=True)\n"
   ]
  },
  {
   "cell_type": "code",
   "execution_count": 17,
   "metadata": {
    "collapsed": false,
    "deletable": true,
    "editable": true
   },
   "outputs": [
    {
     "data": {
      "text/html": [
       "<div>\n",
       "<table border=\"1\" class=\"dataframe\">\n",
       "  <thead>\n",
       "    <tr style=\"text-align: right;\">\n",
       "      <th></th>\n",
       "      <th>Image</th>\n",
       "      <th>Imagepath</th>\n",
       "    </tr>\n",
       "  </thead>\n",
       "  <tbody>\n",
       "    <tr>\n",
       "      <th>0</th>\n",
       "      <td>427.jpg</td>\n",
       "      <td>/home/ubuntu/data/test/427.jpg</td>\n",
       "    </tr>\n",
       "    <tr>\n",
       "      <th>1</th>\n",
       "      <td>258.jpg</td>\n",
       "      <td>/home/ubuntu/data/test/258.jpg</td>\n",
       "    </tr>\n",
       "    <tr>\n",
       "      <th>2</th>\n",
       "      <td>376.jpg</td>\n",
       "      <td>/home/ubuntu/data/test/376.jpg</td>\n",
       "    </tr>\n",
       "    <tr>\n",
       "      <th>3</th>\n",
       "      <td>131.jpg</td>\n",
       "      <td>/home/ubuntu/data/test/131.jpg</td>\n",
       "    </tr>\n",
       "    <tr>\n",
       "      <th>4</th>\n",
       "      <td>494.jpg</td>\n",
       "      <td>/home/ubuntu/data/test/494.jpg</td>\n",
       "    </tr>\n",
       "  </tbody>\n",
       "</table>\n",
       "</div>"
      ],
      "text/plain": [
       "     Image                       Imagepath\n",
       "0  427.jpg  /home/ubuntu/data/test/427.jpg\n",
       "1  258.jpg  /home/ubuntu/data/test/258.jpg\n",
       "2  376.jpg  /home/ubuntu/data/test/376.jpg\n",
       "3  131.jpg  /home/ubuntu/data/test/131.jpg\n",
       "4  494.jpg  /home/ubuntu/data/test/494.jpg"
      ]
     },
     "execution_count": 17,
     "metadata": {},
     "output_type": "execute_result"
    }
   ],
   "source": [
    "test_images.head()"
   ]
  },
  {
   "cell_type": "code",
   "execution_count": 18,
   "metadata": {
    "collapsed": false,
    "deletable": true,
    "editable": true
   },
   "outputs": [],
   "source": [
    "test_images = test_images[test_images[\"Image\"] != \".DS_Store\"]"
   ]
  },
  {
   "cell_type": "code",
   "execution_count": 19,
   "metadata": {
    "collapsed": true,
    "deletable": true,
    "editable": true
   },
   "outputs": [],
   "source": [
    "#5. Save test image list\n",
    "\n",
    "test_images.to_csv(data_path+\"test_set.csv\", index=False)"
   ]
  },
  {
   "cell_type": "markdown",
   "metadata": {},
   "source": [
    "### Feature Extraction"
   ]
  },
  {
   "cell_type": "markdown",
   "metadata": {},
   "source": [
    "Extracting features with a pretrained deep model"
   ]
  },
  {
   "cell_type": "code",
   "execution_count": 20,
   "metadata": {
    "collapsed": false,
    "deletable": true,
    "editable": true
   },
   "outputs": [],
   "source": [
    "#Function to load an image as a numpy matrix\n",
    "\n",
    "import numpy as np\n",
    "from keras.preprocessing.image import img_to_array, load_img\n",
    "def get_image_as_X(path_to_image_file, target_size, dim_ordering='th'):\n",
    "    img = load_img(path_to_image_file, grayscale=False, target_size=target_size)\n",
    "    x = img_to_array(img, dim_ordering=dim_ordering)\n",
    "    x = np.expand_dims(x, axis=0)\n",
    "    return x"
   ]
  },
  {
   "cell_type": "code",
   "execution_count": 32,
   "metadata": {
    "collapsed": false,
    "deletable": true,
    "editable": true
   },
   "outputs": [],
   "source": [
    "#Function to extract features from an image with a pretrained model\n",
    "\n",
    "def extract_features(image_list, image_size, model, preprocessing_function):\n",
    "    features = []\n",
    "    processed = []\n",
    "    for image in image_list:\n",
    "        try:\n",
    "            x = get_image_as_X(image, image_size)\n",
    "            x = preprocessing_function(x)\n",
    "            p = model.predict(x)\n",
    "            features.extend(p)\n",
    "            processed.append(image)\n",
    "        except Exception as e:\n",
    "            print(\"Fail with image:\", image)\n",
    "            print(e)\n",
    "            continue\n",
    "    \n",
    "    return features, processed"
   ]
  },
  {
   "cell_type": "code",
   "execution_count": 22,
   "metadata": {
    "collapsed": false,
    "deletable": true,
    "editable": true
   },
   "outputs": [],
   "source": [
    "#Loading the model: ResNet50\n",
    "\n",
    "img_size=(224, 224)\n",
    "from keras.applications import resnet50\n",
    "model = resnet50.ResNet50(weights='imagenet', include_top=False)"
   ]
  },
  {
   "cell_type": "code",
   "execution_count": 24,
   "metadata": {
    "collapsed": false
   },
   "outputs": [],
   "source": [
    "#Image lists\n",
    "train_image_list = train_images[\"Imagepath\"].as_matrix()\n",
    "test_image_list = test_images[\"Imagepath\"].as_matrix()"
   ]
  },
  {
   "cell_type": "code",
   "execution_count": 26,
   "metadata": {
    "collapsed": false
   },
   "outputs": [
    {
     "name": "stdout",
     "output_type": "stream",
     "text": [
      "1481\n",
      "512\n"
     ]
    }
   ],
   "source": [
    "print(len(train_image_list))\n",
    "print(len(test_image_list))"
   ]
  },
  {
   "cell_type": "code",
   "execution_count": 33,
   "metadata": {
    "collapsed": false,
    "deletable": true,
    "editable": true
   },
   "outputs": [
    {
     "name": "stdout",
     "output_type": "stream",
     "text": [
      "Fail with image: /home/ubuntu/data/train/Type_1/1339.jpg\n",
      "image file is truncated (54 bytes not processed)\n",
      "(1480, 2048, 1, 1)\n",
      "CPU times: user 6min 50s, sys: 1min 8s, total: 7min 59s\n",
      "Wall time: 8min 1s\n"
     ]
    }
   ],
   "source": [
    "%%time\n",
    "\n",
    "#Extracting features of the training images\n",
    "\n",
    "features_resnet50, train_processed = extract_features(train_image_list, img_size, model, resnet50.preprocess_input)\n",
    "features_resnet50_train = np.array(features_resnet50)\n",
    "print(features_resnet50_train.shape)"
   ]
  },
  {
   "cell_type": "code",
   "execution_count": 50,
   "metadata": {
    "collapsed": false
   },
   "outputs": [],
   "source": [
    "fails = [f for f in train_image_list if f not in train_processed]\n",
    "if fails:\n",
    "    train_images = train_images[~train_images[\"Imagepath\"].isin(fails)]\n",
    "    train_images.to_csv(data_path+\"train_set.csv\", index=False)"
   ]
  },
  {
   "cell_type": "code",
   "execution_count": 38,
   "metadata": {
    "collapsed": false,
    "deletable": true,
    "editable": true
   },
   "outputs": [
    {
     "name": "stdout",
     "output_type": "stream",
     "text": [
      "(512, 2048, 1, 1)\n",
      "CPU times: user 2min 24s, sys: 18.2 s, total: 2min 42s\n",
      "Wall time: 2min 43s\n"
     ]
    }
   ],
   "source": [
    "%%time\n",
    "\n",
    "#Extracting features of the test images\n",
    "\n",
    "features_resnet50, test_processed = extract_features(test_image_list, img_size, model, resnet50.preprocess_input)\n",
    "features_resnet50_test = np.array(features_resnet50)\n",
    "print(features_resnet50_test.shape)"
   ]
  },
  {
   "cell_type": "code",
   "execution_count": 48,
   "metadata": {
    "collapsed": true
   },
   "outputs": [],
   "source": [
    "fails = [f for f in test_image_list if f not in test_processed]\n",
    "if fails:\n",
    "    test_images = test_images[~test_images[\"Imagepath\"].isin(fails)]\n"
   ]
  },
  {
   "cell_type": "code",
   "execution_count": 49,
   "metadata": {
    "collapsed": true
   },
   "outputs": [],
   "source": [
    "#Saving Features\n",
    "np.save(data_path+\"features_resnet50_train.npy\", features_resnet50_train)\n",
    "np.save(data_path+\"features_resnet50_test.npy\", features_resnet50_test)"
   ]
  },
  {
   "cell_type": "code",
   "execution_count": 52,
   "metadata": {
    "collapsed": false
   },
   "outputs": [
    {
     "name": "stdout",
     "output_type": "stream",
     "text": [
      "(1480, 2048)\n",
      "(512, 2048)\n"
     ]
    }
   ],
   "source": [
    "X_train = np.reshape(features_resnet50_train, (1480, 2048))\n",
    "X_test = np.reshape(features_resnet50_test, (512, 2048))\n",
    "print(X_train.shape)\n",
    "print(X_test.shape)"
   ]
  },
  {
   "cell_type": "code",
   "execution_count": 55,
   "metadata": {
    "collapsed": false
   },
   "outputs": [
    {
     "data": {
      "text/plain": [
       "1480"
      ]
     },
     "execution_count": 55,
     "metadata": {},
     "output_type": "execute_result"
    }
   ],
   "source": [
    "y_train = train_images[\"Class\"].as_matrix()\n",
    "len(y_train)"
   ]
  },
  {
   "cell_type": "markdown",
   "metadata": {},
   "source": [
    "### Building the model"
   ]
  },
  {
   "cell_type": "markdown",
   "metadata": {},
   "source": [
    "Default model"
   ]
  },
  {
   "cell_type": "code",
   "execution_count": 57,
   "metadata": {
    "collapsed": false
   },
   "outputs": [],
   "source": [
    "from xgboost import XGBClassifier\n",
    "from sklearn.model_selection import cross_val_score"
   ]
  },
  {
   "cell_type": "code",
   "execution_count": 58,
   "metadata": {
    "collapsed": true
   },
   "outputs": [],
   "source": [
    "model = XGBClassifier()"
   ]
  },
  {
   "cell_type": "code",
   "execution_count": 61,
   "metadata": {
    "collapsed": false
   },
   "outputs": [
    {
     "name": "stdout",
     "output_type": "stream",
     "text": [
      "CPU times: user 1min 49s, sys: 28 ms, total: 1min 49s\n",
      "Wall time: 13.8 s\n"
     ]
    }
   ],
   "source": [
    "%%time\n",
    "model = model.fit(X_train, y_train)\n",
    "predictions = model.predict_proba(X_test)"
   ]
  },
  {
   "cell_type": "code",
   "execution_count": 62,
   "metadata": {
    "collapsed": false
   },
   "outputs": [
    {
     "data": {
      "text/plain": [
       "array(['Type_1', 'Type_2', 'Type_3'], dtype=object)"
      ]
     },
     "execution_count": 62,
     "metadata": {},
     "output_type": "execute_result"
    }
   ],
   "source": [
    "model.classes_"
   ]
  },
  {
   "cell_type": "code",
   "execution_count": 66,
   "metadata": {
    "collapsed": true
   },
   "outputs": [],
   "source": [
    "import datetime\n",
    "def create_submission(path, predictions, test_id, info):\n",
    "    result1 = pd.DataFrame(predictions, columns=['Type_1', 'Type_2', 'Type_3'])\n",
    "    result1.loc[:, 'image_name'] = pd.Series(test_id, index=result1.index)\n",
    "    now = datetime.datetime.now()\n",
    "    sub_file = 'submission_' + info + '_' + str(now.strftime(\"%Y-%m-%d-%H-%M\")) + '.csv'\n",
    "    print(\"Writing \" + sub_file)\n",
    "    result1.to_csv(path+sub_file, index=False)"
   ]
  },
  {
   "cell_type": "code",
   "execution_count": 67,
   "metadata": {
    "collapsed": false
   },
   "outputs": [
    {
     "name": "stdout",
     "output_type": "stream",
     "text": [
      "Writing submission_XGB_with_resnet50_feats_2017-03-15-23-38.csv\n"
     ]
    }
   ],
   "source": [
    "create_submission(data_path, predictions, test_images[\"Image\"], \"XGB_with_resnet50_feats\")"
   ]
  },
  {
   "cell_type": "markdown",
   "metadata": {
    "deletable": true,
    "editable": true
   },
   "source": [
    "*Public Score: 0.88670*"
   ]
  },
  {
   "cell_type": "markdown",
   "metadata": {},
   "source": [
    "Model with hyperparameter optimization"
   ]
  },
  {
   "cell_type": "code",
   "execution_count": 72,
   "metadata": {
    "collapsed": true
   },
   "outputs": [],
   "source": [
    "from hyperopt import hp\n",
    "from hyperopt import fmin, tpe, hp, STATUS_OK, Trials\n",
    "from sklearn.model_selection import StratifiedKFold, train_test_split"
   ]
  },
  {
   "cell_type": "code",
   "execution_count": 74,
   "metadata": {
    "collapsed": true
   },
   "outputs": [],
   "source": [
    "def cross_validated_scorer(X_train, y_train, model_class, params, loss, kfolds=3):\n",
    "    params[\"n_estimators\"] = int(params[\"n_estimators\"])\n",
    "    params[\"max_depth\"] = int(params[\"max_depth\"])\n",
    "    print(\"Training with params : %s\" % (params))\n",
    "    mod = model_class(**params)\n",
    "    cv_score = -1 * cross_val_score(mod, X_train, y=y_train, scoring=loss, cv=kfolds, n_jobs=1).mean()\n",
    "    print(cv_score)\n",
    "    return cv_score\n",
    "\n",
    "def optimize(trials):\n",
    "    hyperopt_grid = {\n",
    "            'max_depth' : hp.quniform('max_depth', 1, 10, 1),\n",
    "            'learning_rate' : hp.quniform('learning_rate', 0.01, 0.5, 0.01),\n",
    "            'n_estimators' : hp.quniform('n_estimators', 25, 525, 25),\n",
    "            'gamma' : hp.quniform('gamma', 0.0, 1.0, 0.05),\n",
    "            'min_child_weight' : hp.quniform('min_child_weight', 1, 4, 1),\n",
    "            'subsample' : hp.quniform('subsample', 0.2, 1, 0.1),\n",
    "            'colsample_bytree' : hp.quniform('colsample_bytree', 0.2, 1.0, 0.1)\n",
    "    }\n",
    "    \n",
    "    def objective(params):\n",
    "        err = cross_validated_scorer(X_train, y_train, XGBClassifier, params, loss=\"neg_log_loss\")\n",
    "        return {'loss': err, 'params': params, 'status': STATUS_OK}\n",
    "    best = fmin(objective, hyperopt_grid, algo=tpe.suggest, trials=trials, max_evals=25)\n",
    "    return best"
   ]
  },
  {
   "cell_type": "code",
   "execution_count": 75,
   "metadata": {
    "collapsed": false
   },
   "outputs": [
    {
     "name": "stdout",
     "output_type": "stream",
     "text": [
      "Training with params : {'n_estimators': 400, 'subsample': 0.5, 'colsample_bytree': 0.6000000000000001, 'gamma': 0.8500000000000001, 'learning_rate': 0.21, 'max_depth': 10, 'min_child_weight': 1.0}\n",
      "0.966873901842\n",
      "Training with params : {'n_estimators': 100, 'subsample': 0.5, 'colsample_bytree': 0.30000000000000004, 'gamma': 0.0, 'learning_rate': 0.32, 'max_depth': 5, 'min_child_weight': 3.0}\n",
      "1.0971647344\n",
      "Training with params : {'n_estimators': 325, 'subsample': 0.2, 'colsample_bytree': 0.9, 'gamma': 0.4, 'learning_rate': 0.08, 'max_depth': 5, 'min_child_weight': 3.0}\n",
      "1.00481793258\n",
      "Training with params : {'n_estimators': 475, 'subsample': 0.7000000000000001, 'colsample_bytree': 0.30000000000000004, 'gamma': 0.25, 'learning_rate': 0.08, 'max_depth': 3, 'min_child_weight': 3.0}\n",
      "0.998628793638\n",
      "Training with params : {'n_estimators': 400, 'subsample': 0.8, 'colsample_bytree': 0.6000000000000001, 'gamma': 0.45, 'learning_rate': 0.36, 'max_depth': 4, 'min_child_weight': 3.0}\n",
      "1.03067603484\n",
      "Training with params : {'n_estimators': 125, 'subsample': 0.5, 'colsample_bytree': 0.8, 'gamma': 0.9, 'learning_rate': 0.08, 'max_depth': 9, 'min_child_weight': 3.0}\n",
      "0.935639031755\n",
      "Training with params : {'n_estimators': 450, 'subsample': 0.2, 'colsample_bytree': 0.30000000000000004, 'gamma': 0.5, 'learning_rate': 0.15, 'max_depth': 4, 'min_child_weight': 2.0}\n",
      "1.10533753207\n",
      "Training with params : {'n_estimators': 250, 'subsample': 0.5, 'colsample_bytree': 0.9, 'gamma': 0.4, 'learning_rate': 0.34, 'max_depth': 9, 'min_child_weight': 3.0}\n",
      "1.10456043168\n",
      "Training with params : {'n_estimators': 50, 'subsample': 0.8, 'colsample_bytree': 0.6000000000000001, 'gamma': 0.25, 'learning_rate': 0.17, 'max_depth': 7, 'min_child_weight': 3.0}\n",
      "0.954471387783\n",
      "Training with params : {'n_estimators': 225, 'subsample': 0.8, 'colsample_bytree': 0.5, 'gamma': 0.8500000000000001, 'learning_rate': 0.15, 'max_depth': 1, 'min_child_weight': 3.0}\n",
      "0.902648010666\n",
      "Training with params : {'n_estimators': 475, 'subsample': 0.8, 'colsample_bytree': 0.4, 'gamma': 0.45, 'learning_rate': 0.15, 'max_depth': 7, 'min_child_weight': 4.0}\n",
      "0.960994273692\n",
      "Training with params : {'n_estimators': 375, 'subsample': 0.9, 'colsample_bytree': 0.7000000000000001, 'gamma': 0.55, 'learning_rate': 0.16, 'max_depth': 5, 'min_child_weight': 3.0}\n",
      "0.964092654112\n",
      "Training with params : {'n_estimators': 75, 'subsample': 0.4, 'colsample_bytree': 0.8, 'gamma': 0.55, 'learning_rate': 0.1, 'max_depth': 5, 'min_child_weight': 3.0}\n",
      "0.921160960466\n",
      "Training with params : {'n_estimators': 400, 'subsample': 0.6000000000000001, 'colsample_bytree': 0.6000000000000001, 'gamma': 0.9500000000000001, 'learning_rate': 0.12, 'max_depth': 6, 'min_child_weight': 4.0}\n",
      "0.929873478253\n",
      "Training with params : {'n_estimators': 375, 'subsample': 1.0, 'colsample_bytree': 0.30000000000000004, 'gamma': 0.45, 'learning_rate': 0.43, 'max_depth': 6, 'min_child_weight': 1.0}\n",
      "1.0449332093\n",
      "Training with params : {'n_estimators': 175, 'subsample': 0.6000000000000001, 'colsample_bytree': 0.4, 'gamma': 0.25, 'learning_rate': 0.46, 'max_depth': 9, 'min_child_weight': 3.0}\n",
      "1.169182731\n",
      "Training with params : {'n_estimators': 200, 'subsample': 0.7000000000000001, 'colsample_bytree': 0.9, 'gamma': 0.7000000000000001, 'learning_rate': 0.21, 'max_depth': 10, 'min_child_weight': 3.0}\n",
      "0.980760579385\n",
      "Training with params : {'n_estimators': 225, 'subsample': 0.8, 'colsample_bytree': 0.7000000000000001, 'gamma': 1.0, 'learning_rate': 0.2, 'max_depth': 9, 'min_child_weight': 2.0}\n",
      "0.936356327503\n",
      "Training with params : {'n_estimators': 450, 'subsample': 0.8, 'colsample_bytree': 0.6000000000000001, 'gamma': 0.45, 'learning_rate': 0.09, 'max_depth': 10, 'min_child_weight': 2.0}\n",
      "0.950363794858\n",
      "Training with params : {'n_estimators': 475, 'subsample': 0.4, 'colsample_bytree': 0.7000000000000001, 'gamma': 0.9, 'learning_rate': 0.17, 'max_depth': 3, 'min_child_weight': 1.0}\n",
      "0.987163351108\n",
      "Training with params : {'n_estimators': 50, 'subsample': 0.30000000000000004, 'colsample_bytree': 1.0, 'gamma': 0.75, 'learning_rate': 0.02, 'max_depth': 2, 'min_child_weight': 4.0}\n",
      "0.962650423533\n",
      "Training with params : {'n_estimators': 300, 'subsample': 0.30000000000000004, 'colsample_bytree': 0.5, 'gamma': 0.65, 'learning_rate': 0.01, 'max_depth': 1, 'min_child_weight': 4.0}\n",
      "0.914526580094\n",
      "Training with params : {'n_estimators': 300, 'subsample': 1.0, 'colsample_bytree': 0.5, 'gamma': 0.7000000000000001, 'learning_rate': 0.01, 'max_depth': 1, 'min_child_weight': 4.0}\n",
      "0.921856917853\n",
      "Training with params : {'n_estimators': 275, 'subsample': 0.9, 'colsample_bytree': 0.5, 'gamma': 0.8, 'learning_rate': 0.26, 'max_depth': 1, 'min_child_weight': 4.0}\n",
      "0.964574393138\n",
      "Training with params : {'n_estimators': 150, 'subsample': 0.7000000000000001, 'colsample_bytree': 0.5, 'gamma': 0.6000000000000001, 'learning_rate': 0.04, 'max_depth': 2, 'min_child_weight': 4.0}\n",
      "0.882096308913\n",
      "CPU times: user 2h 24min 10s, sys: 3.91 s, total: 2h 24min 14s\n",
      "Wall time: 18min 6s\n"
     ]
    }
   ],
   "source": [
    "%%time\n",
    "trials = Trials()\n",
    "best = optimize(trials)"
   ]
  },
  {
   "cell_type": "code",
   "execution_count": 76,
   "metadata": {
    "collapsed": false
   },
   "outputs": [
    {
     "name": "stdout",
     "output_type": "stream",
     "text": [
      "{'colsample_bytree': 0.5, 'learning_rate': 0.04, 'min_child_weight': 4.0, 'n_estimators': 150, 'subsample': 0.7000000000000001, 'max_depth': 2, 'gamma': 0.6000000000000001}\n"
     ]
    }
   ],
   "source": [
    "best[\"n_estimators\"] = int(best[\"n_estimators\"])\n",
    "best[\"max_depth\"] = int(best[\"max_depth\"])\n",
    "print(best)"
   ]
  },
  {
   "cell_type": "code",
   "execution_count": 77,
   "metadata": {
    "collapsed": false
   },
   "outputs": [
    {
     "name": "stdout",
     "output_type": "stream",
     "text": [
      "CPU times: user 53.7 s, sys: 8 ms, total: 53.7 s\n",
      "Wall time: 6.77 s\n"
     ]
    }
   ],
   "source": [
    "%%time\n",
    "model = XGBClassifier(**best)\n",
    "model = model.fit(X_train, y_train)\n",
    "predictions = model.predict_proba(X_test)"
   ]
  },
  {
   "cell_type": "code",
   "execution_count": 78,
   "metadata": {
    "collapsed": false
   },
   "outputs": [
    {
     "name": "stdout",
     "output_type": "stream",
     "text": [
      "Writing submission_XGB_with_resnet50_feats_opt_2017-03-16-00-16.csv\n"
     ]
    }
   ],
   "source": [
    "create_submission(data_path, predictions, test_images[\"Image\"], \"XGB_with_resnet50_feats_opt\")"
   ]
  },
  {
   "cell_type": "markdown",
   "metadata": {},
   "source": [
    "*Public Score: 0.86861*"
   ]
  },
  {
   "cell_type": "markdown",
   "metadata": {},
   "source": [
    "Model probability calibration"
   ]
  },
  {
   "cell_type": "code",
   "execution_count": 83,
   "metadata": {
    "collapsed": true
   },
   "outputs": [],
   "source": [
    "from sklearn.calibration import CalibratedClassifierCV\n",
    "best_model = CalibratedClassifierCV(base_estimator=model, method='sigmoid', cv=10)"
   ]
  },
  {
   "cell_type": "code",
   "execution_count": 84,
   "metadata": {
    "collapsed": false
   },
   "outputs": [
    {
     "name": "stdout",
     "output_type": "stream",
     "text": [
      "CPU times: user 8min 2s, sys: 184 ms, total: 8min 2s\n",
      "Wall time: 1min 1s\n"
     ]
    }
   ],
   "source": [
    "%%time\n",
    "best_model = best_model.fit(X_train, y_train)\n",
    "predictions = best_model.predict_proba(X_test)"
   ]
  },
  {
   "cell_type": "code",
   "execution_count": 85,
   "metadata": {
    "collapsed": false
   },
   "outputs": [
    {
     "name": "stdout",
     "output_type": "stream",
     "text": [
      "Writing submission_XGB_with_resnet50_feats-opt-calibrated_2017-03-16-00-23.csv\n"
     ]
    }
   ],
   "source": [
    "create_submission(data_path, predictions, test_images[\"Image\"], \"XGB_with_resnet50_feats-opt-calibrated\")"
   ]
  },
  {
   "cell_type": "markdown",
   "metadata": {},
   "source": [
    "*Public Score: 0.86595*"
   ]
  },
  {
   "cell_type": "code",
   "execution_count": null,
   "metadata": {
    "collapsed": true
   },
   "outputs": [],
   "source": []
  }
 ],
 "metadata": {
  "kernelspec": {
   "display_name": "Python 2",
   "language": "python",
   "name": "python2"
  },
  "language_info": {
   "codemirror_mode": {
    "name": "ipython",
    "version": 2
   },
   "file_extension": ".py",
   "mimetype": "text/x-python",
   "name": "python",
   "nbconvert_exporter": "python",
   "pygments_lexer": "ipython2",
   "version": "2.7.12"
  }
 },
 "nbformat": 4,
 "nbformat_minor": 2
}
