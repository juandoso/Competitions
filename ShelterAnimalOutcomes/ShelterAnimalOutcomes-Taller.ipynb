{
 "cells": [
  {
   "cell_type": "markdown",
   "metadata": {},
   "source": [
    "# Shelter Animal Outcomes\n",
    "- Mon 21 Mar 2016 - Sun 31 Jul 2016\n",
    "\n",
    "Using a dataset of intake information including breed, color, sex, and age from the Austin Animal Center, we're asking Kagglers to predict the outcome for each animal.\n",
    "\n",
    "https://www.kaggle.com/c/shelter-animal-outcomes"
   ]
  },
  {
   "cell_type": "markdown",
   "metadata": {},
   "source": [
    "### The Data"
   ]
  },
  {
   "cell_type": "code",
   "execution_count": null,
   "metadata": {
    "collapsed": false
   },
   "outputs": [],
   "source": [
    "import numpy as np\n",
    "import pandas as pd"
   ]
  },
  {
   "cell_type": "code",
   "execution_count": null,
   "metadata": {
    "collapsed": false
   },
   "outputs": [],
   "source": [
    "datapath = \"G:/KagglePast/ShelterAnimalOutcomes/\"\n",
    "train_file = pd.read_csv(datapath+\"train.csv\")\n",
    "test_file = pd.read_csv(datapath+\"test.csv\")"
   ]
  },
  {
   "cell_type": "code",
   "execution_count": null,
   "metadata": {
    "collapsed": false
   },
   "outputs": [],
   "source": [
    "train_file.head(3)"
   ]
  },
  {
   "cell_type": "markdown",
   "metadata": {},
   "source": [
    "### Some Feature Engineering"
   ]
  },
  {
   "cell_type": "code",
   "execution_count": null,
   "metadata": {
    "collapsed": false
   },
   "outputs": [],
   "source": [
    "#Removing Names and Subtypes of Outcome\n",
    "train_file.drop([\"Name\", \"OutcomeSubtype\"], axis=1, inplace=True)\n",
    "test_file.drop([\"Name\"], axis=1, inplace=True)"
   ]
  },
  {
   "cell_type": "code",
   "execution_count": null,
   "metadata": {
    "collapsed": false
   },
   "outputs": [],
   "source": [
    "#Converting Dates to categorical Year, Month and Day of the Week\n",
    "\n",
    "from datetime import datetime\n",
    "def convert_date(dt):\n",
    "    d = datetime.strptime(dt, \"%Y-%m-%d %H:%M:%S\")\n",
    "    return d.year, d.month, d.isoweekday()\n",
    "\n",
    "train_file[\"Year\"], train_file[\"Month\"], train_file[\"WeekDay\"] = zip(*train_file[\"DateTime\"].map(convert_date))\n",
    "test_file[\"Year\"], test_file[\"Month\"], test_file[\"WeekDay\"] = zip(*test_file[\"DateTime\"].map(convert_date))\n",
    "\n",
    "train_file.drop([\"DateTime\"], axis=1, inplace=True)\n",
    "test_file.drop([\"DateTime\"], axis=1, inplace=True)"
   ]
  },
  {
   "cell_type": "code",
   "execution_count": null,
   "metadata": {
    "collapsed": false
   },
   "outputs": [],
   "source": [
    "#Separating IDs\n",
    "train_id = train_file[[\"AnimalID\"]]\n",
    "test_id = test_file[[\"ID\"]]\n",
    "train_file.drop([\"AnimalID\"], axis=1, inplace=True)\n",
    "test_file.drop([\"ID\"], axis=1, inplace=True)"
   ]
  },
  {
   "cell_type": "code",
   "execution_count": null,
   "metadata": {
    "collapsed": false
   },
   "outputs": [],
   "source": [
    "#Target variable\n",
    "train_outcome = train_file[\"OutcomeType\"]\n",
    "train_file.drop([\"OutcomeType\"], axis=1, inplace=True)"
   ]
  },
  {
   "cell_type": "code",
   "execution_count": null,
   "metadata": {
    "collapsed": false
   },
   "outputs": [],
   "source": [
    "#Converting Age to weeks\n",
    "def age_to_weeks(age1):\n",
    "    if age1 is np.nan:\n",
    "        return 25.0\n",
    "    parts = age1.split()\n",
    "    if parts[0] == '0':\n",
    "        return 10.0\n",
    "    if parts[1] == \"weeks\":\n",
    "        return float(parts[0]) \n",
    "    elif parts[1] == \"months\":\n",
    "        return float(parts[0]) * 4\n",
    "    else:\n",
    "        return float(parts[0]) * 52"
   ]
  },
  {
   "cell_type": "code",
   "execution_count": null,
   "metadata": {
    "collapsed": false
   },
   "outputs": [],
   "source": [
    "train_file[\"AgeuponOutcome\"] = train_file[\"AgeuponOutcome\"].map(age_to_weeks)\n",
    "test_file[\"AgeuponOutcome\"] = test_file[\"AgeuponOutcome\"].map(age_to_weeks)"
   ]
  },
  {
   "cell_type": "code",
   "execution_count": null,
   "metadata": {
    "collapsed": false
   },
   "outputs": [],
   "source": [
    "#Checking that train and test sets are similar\n",
    "print(train_file.head(1))\n",
    "print(test_file.head(1))"
   ]
  },
  {
   "cell_type": "markdown",
   "metadata": {},
   "source": [
    "### Binary encoding of the categorical variables\n",
    "To correctly encode the variables, the encoding of the classes on both sets should be the same. \n",
    "To do this, we'll create a big set with the concatenation of both sets"
   ]
  },
  {
   "cell_type": "code",
   "execution_count": null,
   "metadata": {
    "collapsed": false
   },
   "outputs": [],
   "source": [
    "categorical_variables = ['AnimalType', 'SexuponOutcome', 'Breed', 'Color', 'Year', 'Month', 'WeekDay']"
   ]
  },
  {
   "cell_type": "code",
   "execution_count": null,
   "metadata": {
    "collapsed": false
   },
   "outputs": [],
   "source": [
    "#Mark the training set\n",
    "train_file[\"Train\"] = 1\n",
    "test_file[\"Train\"] = 0\n",
    "\n",
    "#Concatenate the sets\n",
    "conjunto = pd.concat([train_file, test_file])"
   ]
  },
  {
   "cell_type": "code",
   "execution_count": null,
   "metadata": {
    "collapsed": false
   },
   "outputs": [],
   "source": [
    "#Get the encoded set\n",
    "conjunto_encoded = pd.get_dummies(conjunto, columns=categorical_variables)"
   ]
  },
  {
   "cell_type": "code",
   "execution_count": null,
   "metadata": {
    "collapsed": false
   },
   "outputs": [],
   "source": [
    "#Separate the sets\n",
    "train = conjunto_encoded[conjunto_encoded[\"Train\"] == 1]\n",
    "test = conjunto_encoded[conjunto_encoded[\"Train\"] == 0]\n",
    "train = train.drop([\"Train\"], axis=1)\n",
    "test = test.drop([\"Train\"], axis=1)"
   ]
  },
  {
   "cell_type": "code",
   "execution_count": null,
   "metadata": {
    "collapsed": false
   },
   "outputs": [],
   "source": [
    "#Separating a validation set\n",
    "from sklearn.model_selection import train_test_split\n",
    "X_train, X_val, y_train, y_val = train_test_split(train, train_outcome, test_size=0.2)"
   ]
  },
  {
   "cell_type": "markdown",
   "metadata": {},
   "source": [
    "### Training Models"
   ]
  },
  {
   "cell_type": "code",
   "execution_count": null,
   "metadata": {
    "collapsed": false
   },
   "outputs": [],
   "source": [
    "#First Model: Logistic Regression\n",
    "#http://scikit-learn.org/stable/modules/generated/sklearn.linear_model.LogisticRegression.html\n",
    "from sklearn.linear_model import LogisticRegression"
   ]
  },
  {
   "cell_type": "code",
   "execution_count": null,
   "metadata": {
    "collapsed": false
   },
   "outputs": [],
   "source": [
    "model1 = LogisticRegression()"
   ]
  },
  {
   "cell_type": "code",
   "execution_count": null,
   "metadata": {
    "collapsed": false
   },
   "outputs": [],
   "source": [
    "model1.fit(X_train, y_train)"
   ]
  },
  {
   "cell_type": "code",
   "execution_count": null,
   "metadata": {
    "collapsed": true
   },
   "outputs": [],
   "source": [
    "y_pred = model1.predict(X_val)"
   ]
  },
  {
   "cell_type": "code",
   "execution_count": null,
   "metadata": {
    "collapsed": false
   },
   "outputs": [],
   "source": [
    "#Evaluation the Model: Accuracy\n",
    "from sklearn.metrics import accuracy_score\n",
    "accuracy_score(y_val, y_pred)"
   ]
  },
  {
   "cell_type": "code",
   "execution_count": null,
   "metadata": {
    "collapsed": false
   },
   "outputs": [],
   "source": [
    "#A prettier representation\n",
    "print(\"Model Accuracy: {:.2%}\".format(accuracy_score(y_val, y_pred)))"
   ]
  },
  {
   "cell_type": "code",
   "execution_count": null,
   "metadata": {
    "collapsed": false
   },
   "outputs": [],
   "source": [
    "#Evaluation the Model: the Confusion Matrix\n",
    "from sklearn.metrics import confusion_matrix\n",
    "confusion_matrix(y_val, y_pred)"
   ]
  },
  {
   "cell_type": "markdown",
   "metadata": {},
   "source": [
    "### Ejercicios"
   ]
  },
  {
   "cell_type": "markdown",
   "metadata": {},
   "source": [
    "Obtenga las métricas: precision, recall. ¿Qué miden estas funciones?"
   ]
  },
  {
   "cell_type": "code",
   "execution_count": null,
   "metadata": {
    "collapsed": true
   },
   "outputs": [],
   "source": []
  },
  {
   "cell_type": "markdown",
   "metadata": {},
   "source": [
    "Obtenga los coeficientes de las variables en el modelo entrenado. ¿Cómo se podrían interpretar?"
   ]
  },
  {
   "cell_type": "code",
   "execution_count": null,
   "metadata": {
    "collapsed": true
   },
   "outputs": [],
   "source": []
  },
  {
   "cell_type": "markdown",
   "metadata": {},
   "source": [
    "Entrene otros modelos (por ejemplo: Decision Trees y Random Forest) y obtenga las métricas. "
   ]
  },
  {
   "cell_type": "code",
   "execution_count": null,
   "metadata": {
    "collapsed": true
   },
   "outputs": [],
   "source": []
  },
  {
   "cell_type": "markdown",
   "metadata": {},
   "source": [
    "De alguno de los sugeridos en el punto anterior obtenga la importancia de las variables para el modelo entrenado"
   ]
  },
  {
   "cell_type": "code",
   "execution_count": null,
   "metadata": {
    "collapsed": true
   },
   "outputs": [],
   "source": []
  }
 ],
 "metadata": {
  "anaconda-cloud": {},
  "kernelspec": {
   "display_name": "Python [conda root]",
   "language": "python",
   "name": "conda-root-py"
  },
  "language_info": {
   "codemirror_mode": {
    "name": "ipython",
    "version": 3
   },
   "file_extension": ".py",
   "mimetype": "text/x-python",
   "name": "python",
   "nbconvert_exporter": "python",
   "pygments_lexer": "ipython3",
   "version": "3.5.2"
  }
 },
 "nbformat": 4,
 "nbformat_minor": 0
}
