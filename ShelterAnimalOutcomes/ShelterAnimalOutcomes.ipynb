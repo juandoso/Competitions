{
 "cells": [
  {
   "cell_type": "markdown",
   "metadata": {},
   "source": [
    "# Shelter Animal Outcomes\n",
    "- Mon 21 Mar 2016 - Sun 31 Jul 2016\n",
    "\n",
    "Using a dataset of intake information including breed, color, sex, and age from the Austin Animal Center, we're asking Kagglers to predict the outcome for each animal.\n",
    "\n",
    "https://www.kaggle.com/c/shelter-animal-outcomes"
   ]
  },
  {
   "cell_type": "code",
   "execution_count": 1,
   "metadata": {
    "collapsed": false
   },
   "outputs": [],
   "source": [
    "from __future__ import print_function\n",
    "import numpy as np\n",
    "import pandas as pd"
   ]
  },
  {
   "cell_type": "code",
   "execution_count": 2,
   "metadata": {
    "collapsed": false
   },
   "outputs": [],
   "source": [
    "datapath = \"F:/ShelterAnimalOutcomes/\"\n",
    "train_file = pd.read_csv(datapath+\"train.csv\")\n",
    "test_file = pd.read_csv(datapath+\"test.csv\")"
   ]
  },
  {
   "cell_type": "markdown",
   "metadata": {},
   "source": [
    "### Some Feature Engineering"
   ]
  },
  {
   "cell_type": "code",
   "execution_count": 3,
   "metadata": {
    "collapsed": false
   },
   "outputs": [],
   "source": [
    "#Removing Names and Subtypes of Outcome, for now\n",
    "train_file.drop([\"Name\", \"OutcomeSubtype\"], axis=1, inplace=True)\n",
    "test_file.drop([\"Name\"], axis=1, inplace=True)"
   ]
  },
  {
   "cell_type": "code",
   "execution_count": 4,
   "metadata": {
    "collapsed": false
   },
   "outputs": [],
   "source": [
    "#Converting Dates to categorical Year, Month and Day of the Week\n",
    "\n",
    "from datetime import datetime\n",
    "def convert_date(dt):\n",
    "    d = datetime.strptime(dt, \"%Y-%m-%d %H:%M:%S\")\n",
    "    return d.year, d.month, d.isoweekday()\n",
    "\n",
    "train_file[\"Year\"], train_file[\"Month\"], train_file[\"WeekDay\"] = zip(*train_file[\"DateTime\"].map(convert_date))\n",
    "test_file[\"Year\"], test_file[\"Month\"], test_file[\"WeekDay\"] = zip(*test_file[\"DateTime\"].map(convert_date))\n",
    "\n",
    "train_file.drop([\"DateTime\"], axis=1, inplace=True)\n",
    "test_file.drop([\"DateTime\"], axis=1, inplace=True)"
   ]
  },
  {
   "cell_type": "code",
   "execution_count": 5,
   "metadata": {
    "collapsed": false
   },
   "outputs": [],
   "source": [
    "#Separating IDs\n",
    "train_id = train_file[[\"AnimalID\"]]\n",
    "test_id = test_file[[\"ID\"]]\n",
    "train_file.drop([\"AnimalID\"], axis=1, inplace=True)\n",
    "test_file.drop([\"ID\"], axis=1, inplace=True)"
   ]
  },
  {
   "cell_type": "code",
   "execution_count": 6,
   "metadata": {
    "collapsed": false
   },
   "outputs": [],
   "source": [
    "#Target variable\n",
    "train_outcome = train_file[\"OutcomeType\"]\n",
    "train_file.drop([\"OutcomeType\"], axis=1, inplace=True)"
   ]
  },
  {
   "cell_type": "code",
   "execution_count": 7,
   "metadata": {
    "collapsed": false
   },
   "outputs": [],
   "source": [
    "#Converting Age to weeks\n",
    "def age_to_weeks(age1):\n",
    "    if age1 is np.nan:\n",
    "        return 25.0\n",
    "    parts = age1.split()\n",
    "    if parts[0] == '0':\n",
    "        return 10.0\n",
    "    if parts[1] == \"weeks\":\n",
    "        return float(parts[0]) \n",
    "    elif parts[1] == \"months\":\n",
    "        return float(parts[0]) * 4\n",
    "    else:\n",
    "        return float(parts[0]) * 52"
   ]
  },
  {
   "cell_type": "code",
   "execution_count": 8,
   "metadata": {
    "collapsed": false
   },
   "outputs": [],
   "source": [
    "train_file[\"AgeuponOutcome\"] = train_file[\"AgeuponOutcome\"].map(age_to_weeks)\n",
    "test_file[\"AgeuponOutcome\"] = test_file[\"AgeuponOutcome\"].map(age_to_weeks)"
   ]
  },
  {
   "cell_type": "code",
   "execution_count": 9,
   "metadata": {
    "collapsed": false
   },
   "outputs": [
    {
     "name": "stdout",
     "output_type": "stream",
     "text": [
      "  AnimalType SexuponOutcome  AgeuponOutcome                  Breed  \\\n",
      "0        Dog  Neutered Male              52  Shetland Sheepdog Mix   \n",
      "\n",
      "         Color  Year  Month  WeekDay  \n",
      "0  Brown/White  2014      2        3  \n",
      "  AnimalType SexuponOutcome  AgeuponOutcome                   Breed  \\\n",
      "0        Dog  Intact Female              40  Labrador Retriever Mix   \n",
      "\n",
      "       Color  Year  Month  WeekDay  \n",
      "0  Red/White  2015     10        1  \n"
     ]
    }
   ],
   "source": [
    "#Checking that train and test sets are similar\n",
    "print(train_file.head(1))\n",
    "print(test_file.head(1))"
   ]
  },
  {
   "cell_type": "markdown",
   "metadata": {},
   "source": [
    "### Binary encoding of the categorical variables\n",
    "To correctly encode the variables, the encoding of the classes on both sets should be the same. \n",
    "To do this, we'll create a big set with the concatenation of both sets"
   ]
  },
  {
   "cell_type": "code",
   "execution_count": 10,
   "metadata": {
    "collapsed": false
   },
   "outputs": [],
   "source": [
    "categorical_variables = ['AnimalType', 'SexuponOutcome', 'Breed', 'Color', 'Year', 'Month', 'WeekDay']"
   ]
  },
  {
   "cell_type": "code",
   "execution_count": 11,
   "metadata": {
    "collapsed": false
   },
   "outputs": [],
   "source": [
    "#Mark the training set\n",
    "train_file[\"Train\"] = 1\n",
    "test_file[\"Train\"] = 0\n",
    "\n",
    "#Concatenate the sets\n",
    "conjunto = pd.concat([train_file, test_file])"
   ]
  },
  {
   "cell_type": "code",
   "execution_count": 12,
   "metadata": {
    "collapsed": false
   },
   "outputs": [],
   "source": [
    "#Get the encoded set\n",
    "conjunto_encoded = pd.get_dummies(conjunto, columns=categorical_variables)"
   ]
  },
  {
   "cell_type": "code",
   "execution_count": 13,
   "metadata": {
    "collapsed": false
   },
   "outputs": [],
   "source": [
    "#Separate the sets\n",
    "train = conjunto_encoded[conjunto_encoded[\"Train\"] == 1]\n",
    "test = conjunto_encoded[conjunto_encoded[\"Train\"] == 0]\n",
    "train = train.drop([\"Train\"], axis=1)\n",
    "test = test.drop([\"Train\"], axis=1)"
   ]
  },
  {
   "cell_type": "markdown",
   "metadata": {},
   "source": [
    "### Parameter Search"
   ]
  },
  {
   "cell_type": "code",
   "execution_count": 14,
   "metadata": {
    "collapsed": false
   },
   "outputs": [],
   "source": [
    "from sklearn.grid_search import GridSearchCV"
   ]
  },
  {
   "cell_type": "code",
   "execution_count": 20,
   "metadata": {
    "collapsed": false
   },
   "outputs": [],
   "source": [
    "from sklearn.ensemble import RandomForestClassifier\n",
    "params = {\"n_estimators\": [500, 1000, 1500, 2000]}\n",
    "est = RandomForestClassifier()"
   ]
  },
  {
   "cell_type": "code",
   "execution_count": 21,
   "metadata": {
    "collapsed": false
   },
   "outputs": [],
   "source": [
    "model = GridSearchCV(estimator=est, param_grid=params, scoring=\"log_loss\", n_jobs=4)"
   ]
  },
  {
   "cell_type": "code",
   "execution_count": null,
   "metadata": {
    "collapsed": false
   },
   "outputs": [],
   "source": [
    "model.fit(train, train_outcome)"
   ]
  },
  {
   "cell_type": "code",
   "execution_count": 19,
   "metadata": {
    "collapsed": false
   },
   "outputs": [
    {
     "name": "stdout",
     "output_type": "stream",
     "text": [
      "The best parameters are {'n_estimators': 1500} with a score of -1.38\n"
     ]
    }
   ],
   "source": [
    "print(\"The best parameters are %s with a score of %0.2f\" % (model.best_params_, model.best_score_))"
   ]
  },
  {
   "cell_type": "markdown",
   "metadata": {},
   "source": [
    "### Obtaining the submission"
   ]
  },
  {
   "cell_type": "code",
   "execution_count": null,
   "metadata": {
    "collapsed": false
   },
   "outputs": [],
   "source": [
    "#Getting predicted probabilities\n",
    "y_pred = model.predict_proba(test)"
   ]
  },
  {
   "cell_type": "code",
   "execution_count": null,
   "metadata": {
    "collapsed": false
   },
   "outputs": [],
   "source": [
    "results = pd.read_csv(datapath+\"sample_submission.csv\")"
   ]
  },
  {
   "cell_type": "code",
   "execution_count": null,
   "metadata": {
    "collapsed": false
   },
   "outputs": [],
   "source": [
    "results['Adoption'], results['Died'], results['Euthanasia'], results['Return_to_owner'], results['Transfer'] = y_pred[:,0], y_pred[:,1], y_pred[:,2], y_pred[:,3], y_pred[:,4]"
   ]
  },
  {
   "cell_type": "code",
   "execution_count": null,
   "metadata": {
    "collapsed": false
   },
   "outputs": [],
   "source": [
    "#Submission File\n",
    "results.to_csv(datapath+\"adaboost_submission.csv\", index=False)"
   ]
  },
  {
   "cell_type": "code",
   "execution_count": null,
   "metadata": {
    "collapsed": false
   },
   "outputs": [],
   "source": []
  }
 ],
 "metadata": {
  "anaconda-cloud": {},
  "kernelspec": {
   "display_name": "Python [Root]",
   "language": "python",
   "name": "Python [Root]"
  },
  "language_info": {
   "codemirror_mode": {
    "name": "ipython",
    "version": 2
   },
   "file_extension": ".py",
   "mimetype": "text/x-python",
   "name": "python",
   "nbconvert_exporter": "python",
   "pygments_lexer": "ipython2",
   "version": "2.7.12"
  }
 },
 "nbformat": 4,
 "nbformat_minor": 0
}
