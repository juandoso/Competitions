{
 "cells": [
  {
   "cell_type": "markdown",
   "metadata": {},
   "source": [
    "Data set split into training, validation and testing sets with stratification according to classes"
   ]
  },
  {
   "cell_type": "code",
   "execution_count": 1,
   "metadata": {
    "collapsed": true
   },
   "outputs": [],
   "source": [
    "data_path = \"G:/Kaggle_FisheriesMonitoring/\"\n",
    "import os, shutil\n",
    "import pandas as pd"
   ]
  },
  {
   "cell_type": "code",
   "execution_count": 4,
   "metadata": {
    "collapsed": true
   },
   "outputs": [],
   "source": [
    "dataset_path = data_path + \"train/\"\n",
    "imaglist_train = pd.DataFrame(columns=[\"Class\", \"Image\", \"Imagepath\"])\n",
    "for (folder, subs, files) in os.walk(dataset_path):\n",
    "    for filename in files:\n",
    "        fish = folder.split(\"/\")[-1]\n",
    "        imagepath = os.path.join(folder, filename)\n",
    "        imaglist_train = imaglist_train.append({\"Class\":fish, \n",
    "                                                \"Image\":filename, \n",
    "                                                \"Imagepath\":imagepath}, \n",
    "                                               ignore_index=True)"
   ]
  },
  {
   "cell_type": "code",
   "execution_count": 8,
   "metadata": {
    "collapsed": false
   },
   "outputs": [],
   "source": [
    "classes = list(imaglist_train[\"Class\"].unique())"
   ]
  },
  {
   "cell_type": "code",
   "execution_count": 9,
   "metadata": {
    "collapsed": true
   },
   "outputs": [],
   "source": [
    "for d in [\"1trainDir\", \"1valDir\", \"1testDir\"]:\n",
    "    dire = \"%s/%s\" % (data_path, d)\n",
    "    if not os.path.exists(dire):\n",
    "        os.mkdir(dire)\n",
    "        \n",
    "    for cl in classes:\n",
    "        dire1 = \"%s/%s/%s\" % (data_path, d, cl)\n",
    "        if not os.path.exists(dire1):\n",
    "            os.mkdir(dire1)\n"
   ]
  },
  {
   "cell_type": "code",
   "execution_count": 11,
   "metadata": {
    "collapsed": false
   },
   "outputs": [],
   "source": [
    "from sklearn.model_selection import train_test_split"
   ]
  },
  {
   "cell_type": "code",
   "execution_count": 29,
   "metadata": {
    "collapsed": true
   },
   "outputs": [],
   "source": [
    "all_files = imaglist_train[\"Image\"]\n",
    "all_classes = imaglist_train[\"Class\"]"
   ]
  },
  {
   "cell_type": "code",
   "execution_count": 30,
   "metadata": {
    "collapsed": false
   },
   "outputs": [],
   "source": [
    "files_train_and_val, files_test, classes_train_and_val, classes_test = train_test_split(all_files, all_classes, \n",
    "                                                                                        train_size=0.9, stratify=all_classes)"
   ]
  },
  {
   "cell_type": "code",
   "execution_count": 31,
   "metadata": {
    "collapsed": false
   },
   "outputs": [],
   "source": [
    "files_train, files_val, classes_train, classes_val = train_test_split(files_train_and_val, classes_train_and_val, \n",
    "                                                                     train_size=0.9, stratify=classes_train_and_val)"
   ]
  },
  {
   "cell_type": "code",
   "execution_count": 32,
   "metadata": {
    "collapsed": false
   },
   "outputs": [],
   "source": [
    "#Test dir\n",
    "for f, c in zip(files_test, classes_test):\n",
    "    origin = \"%s/%s/%s/%s\" % (data_path, \"train\", c, f)\n",
    "    dest = \"%s/%s/%s/%s\" % (data_path, \"1testDir\", c, f)\n",
    "    shutil.copy(origin, dest)"
   ]
  },
  {
   "cell_type": "code",
   "execution_count": 34,
   "metadata": {
    "collapsed": false
   },
   "outputs": [],
   "source": [
    "#Val dir\n",
    "for f, c in zip(files_val, classes_val):\n",
    "    origin = \"%s/%s/%s/%s\" % (data_path, \"train\", c, f)\n",
    "    dest = \"%s/%s/%s/%s\" % (data_path, \"1valDir\", c, f)\n",
    "    shutil.copy(origin, dest)"
   ]
  },
  {
   "cell_type": "code",
   "execution_count": 35,
   "metadata": {
    "collapsed": true
   },
   "outputs": [],
   "source": [
    "#Train dir\n",
    "for f, c in zip(files_train, classes_train):\n",
    "    origin = \"%s/%s/%s/%s\" % (data_path, \"train\", c, f)\n",
    "    dest = \"%s/%s/%s/%s\" % (data_path, \"1trainDir\", c, f)\n",
    "    shutil.copy(origin, dest)"
   ]
  },
  {
   "cell_type": "code",
   "execution_count": null,
   "metadata": {
    "collapsed": true
   },
   "outputs": [],
   "source": []
  }
 ],
 "metadata": {
  "kernelspec": {
   "display_name": "Python [conda root]",
   "language": "python",
   "name": "conda-root-py"
  },
  "language_info": {
   "codemirror_mode": {
    "name": "ipython",
    "version": 3
   },
   "file_extension": ".py",
   "mimetype": "text/x-python",
   "name": "python",
   "nbconvert_exporter": "python",
   "pygments_lexer": "ipython3",
   "version": "3.5.2"
  }
 },
 "nbformat": 4,
 "nbformat_minor": 1
}
