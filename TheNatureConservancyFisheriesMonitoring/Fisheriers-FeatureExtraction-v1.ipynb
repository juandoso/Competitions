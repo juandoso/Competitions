{
 "cells": [
  {
   "cell_type": "code",
   "execution_count": 1,
   "metadata": {
    "collapsed": false,
    "deletable": true,
    "editable": true
   },
   "outputs": [
    {
     "name": "stderr",
     "output_type": "stream",
     "text": [
      "Using Theano backend.\n",
      "WARNING (theano.sandbox.cuda): The cuda backend is deprecated and will be removed in the next release (v0.10).  Please switch to the gpuarray backend. You can get more information about how to switch at this URL:\n",
      " https://github.com/Theano/Theano/wiki/Converting-to-the-new-gpu-back-end%28gpuarray%29\n",
      "\n",
      "Using gpu device 0: Tesla K80 (CNMeM is disabled, cuDNN 5110)\n"
     ]
    }
   ],
   "source": [
    "from __future__ import print_function\n",
    "from keras.models import Model"
   ]
  },
  {
   "cell_type": "markdown",
   "metadata": {
    "deletable": true,
    "editable": true
   },
   "source": [
    "### The Data"
   ]
  },
  {
   "cell_type": "code",
   "execution_count": 2,
   "metadata": {
    "collapsed": true,
    "deletable": true,
    "editable": true
   },
   "outputs": [],
   "source": [
    "data_path = \"/home/ubuntu/data/\""
   ]
  },
  {
   "cell_type": "code",
   "execution_count": 3,
   "metadata": {
    "collapsed": false,
    "deletable": true,
    "editable": true
   },
   "outputs": [],
   "source": [
    "#List of training images\n",
    "\n",
    "import os, shutil\n",
    "import pandas as pd\n",
    "dataset_path = data_path + \"train/\"\n",
    "train_images = pd.DataFrame(columns=[\"Class\", \"Image\", \"Imagepath\"])\n",
    "for (folder, subs, files) in os.walk(dataset_path):\n",
    "    for filename in files:\n",
    "        label = folder.split(\"/\")[-1]\n",
    "        imagepath = os.path.join(folder, filename)\n",
    "        train_images = train_images.append({\"Class\":label, \n",
    "                                                \"Image\":filename, \n",
    "                                                \"Imagepath\":imagepath}, \n",
    "                                               ignore_index=True)"
   ]
  },
  {
   "cell_type": "code",
   "execution_count": 4,
   "metadata": {
    "collapsed": false,
    "deletable": true,
    "editable": true
   },
   "outputs": [],
   "source": [
    "train_images = train_images[train_images[\"Image\"] != \".DS_Store\"]"
   ]
  },
  {
   "cell_type": "code",
   "execution_count": 5,
   "metadata": {
    "collapsed": true,
    "deletable": true,
    "editable": true
   },
   "outputs": [],
   "source": [
    "#Save train image list\n",
    "train_images.to_csv(data_path+\"train_set.csv\", index=False)"
   ]
  },
  {
   "cell_type": "code",
   "execution_count": 6,
   "metadata": {
    "collapsed": false,
    "deletable": true,
    "editable": true
   },
   "outputs": [],
   "source": [
    "#List of test images\n",
    "\n",
    "dataset_path = data_path + \"test_stg1/\"\n",
    "test_images = pd.DataFrame(columns=[\"Image\", \"Imagepath\"])\n",
    "for (folder, subs, files) in os.walk(dataset_path):\n",
    "    for filename in files:\n",
    "        imagepath = os.path.join(folder, filename)\n",
    "        test_images = test_images.append({\"Image\":filename, \n",
    "                                                \"Imagepath\":imagepath}, \n",
    "                                               ignore_index=True)"
   ]
  },
  {
   "cell_type": "code",
   "execution_count": 7,
   "metadata": {
    "collapsed": true,
    "deletable": true,
    "editable": true
   },
   "outputs": [],
   "source": [
    "test_images = test_images[test_images[\"Image\"] != \".DS_Store\"]"
   ]
  },
  {
   "cell_type": "code",
   "execution_count": 8,
   "metadata": {
    "collapsed": false,
    "deletable": true,
    "editable": true
   },
   "outputs": [],
   "source": [
    "#Save test image list\n",
    "test_images.to_csv(data_path+\"test_set.csv\", index=False)"
   ]
  },
  {
   "cell_type": "code",
   "execution_count": 9,
   "metadata": {
    "collapsed": false,
    "deletable": true,
    "editable": true
   },
   "outputs": [
    {
     "name": "stdout",
     "output_type": "stream",
     "text": [
      "3777\n",
      "1000\n"
     ]
    }
   ],
   "source": [
    "#Image lists\n",
    "train_image_list = train_images[\"Imagepath\"].as_matrix()\n",
    "test_image_list = test_images[\"Imagepath\"].as_matrix()\n",
    "\n",
    "print(len(train_image_list))\n",
    "print(len(test_image_list))"
   ]
  },
  {
   "cell_type": "markdown",
   "metadata": {
    "deletable": true,
    "editable": true
   },
   "source": [
    "### Feature Extraction"
   ]
  },
  {
   "cell_type": "markdown",
   "metadata": {
    "deletable": true,
    "editable": true
   },
   "source": [
    "Extracting features with pretrained deep models"
   ]
  },
  {
   "cell_type": "code",
   "execution_count": 10,
   "metadata": {
    "collapsed": true,
    "deletable": true,
    "editable": true
   },
   "outputs": [],
   "source": [
    "#Function to load an image as a numpy matrix\n",
    "\n",
    "import numpy as np\n",
    "from keras.preprocessing.image import img_to_array, load_img\n",
    "def get_image_as_X(path_to_image_file, target_size, dim_ordering='th'):\n",
    "    img = load_img(path_to_image_file, grayscale=False, target_size=target_size)\n",
    "    x = img_to_array(img, dim_ordering=dim_ordering)\n",
    "    x = np.expand_dims(x, axis=0)\n",
    "    return x"
   ]
  },
  {
   "cell_type": "code",
   "execution_count": 11,
   "metadata": {
    "collapsed": true,
    "deletable": true,
    "editable": true
   },
   "outputs": [],
   "source": [
    "#Function to extract features from an image with a pretrained model\n",
    "\n",
    "def extract_features(image_list, image_size, model, preprocessing_function, dim_ordering='th'):\n",
    "    features = []\n",
    "    processed = []\n",
    "    for image in image_list:\n",
    "        try:\n",
    "            x = get_image_as_X(image, image_size, dim_ordering)\n",
    "            x = preprocessing_function(x)\n",
    "            p = model.predict(x)\n",
    "            features.extend(p)\n",
    "            processed.append(image)\n",
    "        except Exception as e:\n",
    "            print(\"Fail with image:\", image)\n",
    "            print(e)\n",
    "            continue\n",
    "    \n",
    "    return features, processed"
   ]
  },
  {
   "cell_type": "code",
   "execution_count": 12,
   "metadata": {
    "collapsed": false,
    "deletable": true,
    "editable": true
   },
   "outputs": [],
   "source": [
    "from keras import backend as K\n",
    "K.set_image_dim_ordering('th')"
   ]
  },
  {
   "cell_type": "code",
   "execution_count": 13,
   "metadata": {
    "collapsed": true,
    "deletable": true,
    "editable": true
   },
   "outputs": [],
   "source": [
    "import warnings\n",
    "warnings.filterwarnings(\"ignore\")"
   ]
  },
  {
   "cell_type": "markdown",
   "metadata": {
    "deletable": true,
    "editable": true
   },
   "source": [
    "Model: Inception V3, with weights pre-trained on ImageNet."
   ]
  },
  {
   "cell_type": "code",
   "execution_count": 21,
   "metadata": {
    "collapsed": false,
    "deletable": true,
    "editable": true
   },
   "outputs": [
    {
     "name": "stdout",
     "output_type": "stream",
     "text": [
      "____________________________________________________________________________________________________\n",
      "Layer (type)                     Output Shape          Param #     Connected to                     \n",
      "====================================================================================================\n",
      "input_5 (InputLayer)             (None, 3, 299, 299)   0                                            \n",
      "____________________________________________________________________________________________________\n",
      "convolution2d_377 (Convolution2D)(None, 32, 149, 149)  896         input_5[0][0]                    \n",
      "____________________________________________________________________________________________________\n",
      "batchnormalization_377 (BatchNorm(None, 32, 149, 149)  64          convolution2d_377[0][0]          \n",
      "____________________________________________________________________________________________________\n",
      "convolution2d_378 (Convolution2D)(None, 32, 147, 147)  9248        batchnormalization_377[0][0]     \n",
      "____________________________________________________________________________________________________\n",
      "batchnormalization_378 (BatchNorm(None, 32, 147, 147)  64          convolution2d_378[0][0]          \n",
      "____________________________________________________________________________________________________\n",
      "convolution2d_379 (Convolution2D)(None, 64, 147, 147)  18496       batchnormalization_378[0][0]     \n",
      "____________________________________________________________________________________________________\n",
      "batchnormalization_379 (BatchNorm(None, 64, 147, 147)  128         convolution2d_379[0][0]          \n",
      "____________________________________________________________________________________________________\n",
      "maxpooling2d_13 (MaxPooling2D)   (None, 64, 73, 73)    0           batchnormalization_379[0][0]     \n",
      "____________________________________________________________________________________________________\n",
      "convolution2d_380 (Convolution2D)(None, 80, 73, 73)    5200        maxpooling2d_13[0][0]            \n",
      "____________________________________________________________________________________________________\n",
      "batchnormalization_380 (BatchNorm(None, 80, 73, 73)    160         convolution2d_380[0][0]          \n",
      "____________________________________________________________________________________________________\n",
      "convolution2d_381 (Convolution2D)(None, 192, 71, 71)   138432      batchnormalization_380[0][0]     \n",
      "____________________________________________________________________________________________________\n",
      "batchnormalization_381 (BatchNorm(None, 192, 71, 71)   384         convolution2d_381[0][0]          \n",
      "____________________________________________________________________________________________________\n",
      "maxpooling2d_14 (MaxPooling2D)   (None, 192, 35, 35)   0           batchnormalization_381[0][0]     \n",
      "____________________________________________________________________________________________________\n",
      "convolution2d_385 (Convolution2D)(None, 64, 35, 35)    12352       maxpooling2d_14[0][0]            \n",
      "____________________________________________________________________________________________________\n",
      "batchnormalization_385 (BatchNorm(None, 64, 35, 35)    128         convolution2d_385[0][0]          \n",
      "____________________________________________________________________________________________________\n",
      "convolution2d_383 (Convolution2D)(None, 48, 35, 35)    9264        maxpooling2d_14[0][0]            \n",
      "____________________________________________________________________________________________________\n",
      "convolution2d_386 (Convolution2D)(None, 96, 35, 35)    55392       batchnormalization_385[0][0]     \n",
      "____________________________________________________________________________________________________\n",
      "batchnormalization_383 (BatchNorm(None, 48, 35, 35)    96          convolution2d_383[0][0]          \n",
      "____________________________________________________________________________________________________\n",
      "batchnormalization_386 (BatchNorm(None, 96, 35, 35)    192         convolution2d_386[0][0]          \n",
      "____________________________________________________________________________________________________\n",
      "averagepooling2d_41 (AveragePooli(None, 192, 35, 35)   0           maxpooling2d_14[0][0]            \n",
      "____________________________________________________________________________________________________\n",
      "convolution2d_382 (Convolution2D)(None, 64, 35, 35)    12352       maxpooling2d_14[0][0]            \n",
      "____________________________________________________________________________________________________\n",
      "convolution2d_384 (Convolution2D)(None, 64, 35, 35)    76864       batchnormalization_383[0][0]     \n",
      "____________________________________________________________________________________________________\n",
      "convolution2d_387 (Convolution2D)(None, 96, 35, 35)    83040       batchnormalization_386[0][0]     \n",
      "____________________________________________________________________________________________________\n",
      "convolution2d_388 (Convolution2D)(None, 32, 35, 35)    6176        averagepooling2d_41[0][0]        \n",
      "____________________________________________________________________________________________________\n",
      "batchnormalization_382 (BatchNorm(None, 64, 35, 35)    128         convolution2d_382[0][0]          \n",
      "____________________________________________________________________________________________________\n",
      "batchnormalization_384 (BatchNorm(None, 64, 35, 35)    128         convolution2d_384[0][0]          \n",
      "____________________________________________________________________________________________________\n",
      "batchnormalization_387 (BatchNorm(None, 96, 35, 35)    192         convolution2d_387[0][0]          \n",
      "____________________________________________________________________________________________________\n",
      "batchnormalization_388 (BatchNorm(None, 32, 35, 35)    64          convolution2d_388[0][0]          \n",
      "____________________________________________________________________________________________________\n",
      "mixed0 (Merge)                   (None, 256, 35, 35)   0           batchnormalization_382[0][0]     \n",
      "                                                                   batchnormalization_384[0][0]     \n",
      "                                                                   batchnormalization_387[0][0]     \n",
      "                                                                   batchnormalization_388[0][0]     \n",
      "____________________________________________________________________________________________________\n",
      "convolution2d_392 (Convolution2D)(None, 64, 35, 35)    16448       mixed0[0][0]                     \n",
      "____________________________________________________________________________________________________\n",
      "batchnormalization_392 (BatchNorm(None, 64, 35, 35)    128         convolution2d_392[0][0]          \n",
      "____________________________________________________________________________________________________\n",
      "convolution2d_390 (Convolution2D)(None, 48, 35, 35)    12336       mixed0[0][0]                     \n",
      "____________________________________________________________________________________________________\n",
      "convolution2d_393 (Convolution2D)(None, 96, 35, 35)    55392       batchnormalization_392[0][0]     \n",
      "____________________________________________________________________________________________________\n",
      "batchnormalization_390 (BatchNorm(None, 48, 35, 35)    96          convolution2d_390[0][0]          \n",
      "____________________________________________________________________________________________________\n",
      "batchnormalization_393 (BatchNorm(None, 96, 35, 35)    192         convolution2d_393[0][0]          \n",
      "____________________________________________________________________________________________________\n",
      "averagepooling2d_42 (AveragePooli(None, 256, 35, 35)   0           mixed0[0][0]                     \n",
      "____________________________________________________________________________________________________\n",
      "convolution2d_389 (Convolution2D)(None, 64, 35, 35)    16448       mixed0[0][0]                     \n",
      "____________________________________________________________________________________________________\n",
      "convolution2d_391 (Convolution2D)(None, 64, 35, 35)    76864       batchnormalization_390[0][0]     \n",
      "____________________________________________________________________________________________________\n",
      "convolution2d_394 (Convolution2D)(None, 96, 35, 35)    83040       batchnormalization_393[0][0]     \n",
      "____________________________________________________________________________________________________\n",
      "convolution2d_395 (Convolution2D)(None, 32, 35, 35)    8224        averagepooling2d_42[0][0]        \n",
      "____________________________________________________________________________________________________\n",
      "batchnormalization_389 (BatchNorm(None, 64, 35, 35)    128         convolution2d_389[0][0]          \n",
      "____________________________________________________________________________________________________\n",
      "batchnormalization_391 (BatchNorm(None, 64, 35, 35)    128         convolution2d_391[0][0]          \n",
      "____________________________________________________________________________________________________\n",
      "batchnormalization_394 (BatchNorm(None, 96, 35, 35)    192         convolution2d_394[0][0]          \n",
      "____________________________________________________________________________________________________\n",
      "batchnormalization_395 (BatchNorm(None, 32, 35, 35)    64          convolution2d_395[0][0]          \n",
      "____________________________________________________________________________________________________\n",
      "mixed1 (Merge)                   (None, 256, 35, 35)   0           batchnormalization_389[0][0]     \n",
      "                                                                   batchnormalization_391[0][0]     \n",
      "                                                                   batchnormalization_394[0][0]     \n",
      "                                                                   batchnormalization_395[0][0]     \n",
      "____________________________________________________________________________________________________\n",
      "convolution2d_399 (Convolution2D)(None, 64, 35, 35)    16448       mixed1[0][0]                     \n",
      "____________________________________________________________________________________________________\n",
      "batchnormalization_399 (BatchNorm(None, 64, 35, 35)    128         convolution2d_399[0][0]          \n",
      "____________________________________________________________________________________________________\n",
      "convolution2d_397 (Convolution2D)(None, 48, 35, 35)    12336       mixed1[0][0]                     \n",
      "____________________________________________________________________________________________________\n",
      "convolution2d_400 (Convolution2D)(None, 96, 35, 35)    55392       batchnormalization_399[0][0]     \n",
      "____________________________________________________________________________________________________\n",
      "batchnormalization_397 (BatchNorm(None, 48, 35, 35)    96          convolution2d_397[0][0]          \n",
      "____________________________________________________________________________________________________\n",
      "batchnormalization_400 (BatchNorm(None, 96, 35, 35)    192         convolution2d_400[0][0]          \n",
      "____________________________________________________________________________________________________\n",
      "averagepooling2d_43 (AveragePooli(None, 256, 35, 35)   0           mixed1[0][0]                     \n",
      "____________________________________________________________________________________________________\n",
      "convolution2d_396 (Convolution2D)(None, 64, 35, 35)    16448       mixed1[0][0]                     \n",
      "____________________________________________________________________________________________________\n",
      "convolution2d_398 (Convolution2D)(None, 64, 35, 35)    76864       batchnormalization_397[0][0]     \n",
      "____________________________________________________________________________________________________\n",
      "convolution2d_401 (Convolution2D)(None, 96, 35, 35)    83040       batchnormalization_400[0][0]     \n",
      "____________________________________________________________________________________________________\n",
      "convolution2d_402 (Convolution2D)(None, 32, 35, 35)    8224        averagepooling2d_43[0][0]        \n",
      "____________________________________________________________________________________________________\n",
      "batchnormalization_396 (BatchNorm(None, 64, 35, 35)    128         convolution2d_396[0][0]          \n",
      "____________________________________________________________________________________________________\n",
      "batchnormalization_398 (BatchNorm(None, 64, 35, 35)    128         convolution2d_398[0][0]          \n",
      "____________________________________________________________________________________________________\n",
      "batchnormalization_401 (BatchNorm(None, 96, 35, 35)    192         convolution2d_401[0][0]          \n",
      "____________________________________________________________________________________________________\n",
      "batchnormalization_402 (BatchNorm(None, 32, 35, 35)    64          convolution2d_402[0][0]          \n",
      "____________________________________________________________________________________________________\n",
      "mixed2 (Merge)                   (None, 256, 35, 35)   0           batchnormalization_396[0][0]     \n",
      "                                                                   batchnormalization_398[0][0]     \n",
      "                                                                   batchnormalization_401[0][0]     \n",
      "                                                                   batchnormalization_402[0][0]     \n",
      "____________________________________________________________________________________________________\n",
      "convolution2d_404 (Convolution2D)(None, 64, 35, 35)    16448       mixed2[0][0]                     \n",
      "____________________________________________________________________________________________________\n",
      "batchnormalization_404 (BatchNorm(None, 64, 35, 35)    128         convolution2d_404[0][0]          \n",
      "____________________________________________________________________________________________________\n",
      "convolution2d_405 (Convolution2D)(None, 96, 35, 35)    55392       batchnormalization_404[0][0]     \n",
      "____________________________________________________________________________________________________\n",
      "batchnormalization_405 (BatchNorm(None, 96, 35, 35)    192         convolution2d_405[0][0]          \n",
      "____________________________________________________________________________________________________\n",
      "convolution2d_403 (Convolution2D)(None, 384, 17, 17)   885120      mixed2[0][0]                     \n",
      "____________________________________________________________________________________________________\n",
      "convolution2d_406 (Convolution2D)(None, 96, 17, 17)    83040       batchnormalization_405[0][0]     \n",
      "____________________________________________________________________________________________________\n",
      "batchnormalization_403 (BatchNorm(None, 384, 17, 17)   768         convolution2d_403[0][0]          \n",
      "____________________________________________________________________________________________________\n",
      "batchnormalization_406 (BatchNorm(None, 96, 17, 17)    192         convolution2d_406[0][0]          \n",
      "____________________________________________________________________________________________________\n",
      "maxpooling2d_15 (MaxPooling2D)   (None, 256, 17, 17)   0           mixed2[0][0]                     \n",
      "____________________________________________________________________________________________________\n",
      "mixed3 (Merge)                   (None, 736, 17, 17)   0           batchnormalization_403[0][0]     \n",
      "                                                                   batchnormalization_406[0][0]     \n",
      "                                                                   maxpooling2d_15[0][0]            \n",
      "____________________________________________________________________________________________________\n",
      "convolution2d_411 (Convolution2D)(None, 128, 17, 17)   94336       mixed3[0][0]                     \n",
      "____________________________________________________________________________________________________\n",
      "batchnormalization_411 (BatchNorm(None, 128, 17, 17)   256         convolution2d_411[0][0]          \n",
      "____________________________________________________________________________________________________\n",
      "convolution2d_412 (Convolution2D)(None, 128, 17, 17)   114816      batchnormalization_411[0][0]     \n",
      "____________________________________________________________________________________________________\n",
      "batchnormalization_412 (BatchNorm(None, 128, 17, 17)   256         convolution2d_412[0][0]          \n",
      "____________________________________________________________________________________________________\n",
      "convolution2d_408 (Convolution2D)(None, 128, 17, 17)   94336       mixed3[0][0]                     \n",
      "____________________________________________________________________________________________________\n",
      "convolution2d_413 (Convolution2D)(None, 128, 17, 17)   114816      batchnormalization_412[0][0]     \n",
      "____________________________________________________________________________________________________\n",
      "batchnormalization_408 (BatchNorm(None, 128, 17, 17)   256         convolution2d_408[0][0]          \n",
      "____________________________________________________________________________________________________\n",
      "batchnormalization_413 (BatchNorm(None, 128, 17, 17)   256         convolution2d_413[0][0]          \n",
      "____________________________________________________________________________________________________\n",
      "convolution2d_409 (Convolution2D)(None, 128, 17, 17)   114816      batchnormalization_408[0][0]     \n",
      "____________________________________________________________________________________________________\n",
      "convolution2d_414 (Convolution2D)(None, 128, 17, 17)   114816      batchnormalization_413[0][0]     \n",
      "____________________________________________________________________________________________________\n",
      "batchnormalization_409 (BatchNorm(None, 128, 17, 17)   256         convolution2d_409[0][0]          \n",
      "____________________________________________________________________________________________________\n",
      "batchnormalization_414 (BatchNorm(None, 128, 17, 17)   256         convolution2d_414[0][0]          \n",
      "____________________________________________________________________________________________________\n",
      "averagepooling2d_44 (AveragePooli(None, 736, 17, 17)   0           mixed3[0][0]                     \n",
      "____________________________________________________________________________________________________\n",
      "convolution2d_407 (Convolution2D)(None, 192, 17, 17)   141504      mixed3[0][0]                     \n",
      "____________________________________________________________________________________________________\n",
      "convolution2d_410 (Convolution2D)(None, 192, 17, 17)   172224      batchnormalization_409[0][0]     \n",
      "____________________________________________________________________________________________________\n",
      "convolution2d_415 (Convolution2D)(None, 192, 17, 17)   172224      batchnormalization_414[0][0]     \n",
      "____________________________________________________________________________________________________\n",
      "convolution2d_416 (Convolution2D)(None, 192, 17, 17)   141504      averagepooling2d_44[0][0]        \n",
      "____________________________________________________________________________________________________\n",
      "batchnormalization_407 (BatchNorm(None, 192, 17, 17)   384         convolution2d_407[0][0]          \n",
      "____________________________________________________________________________________________________\n",
      "batchnormalization_410 (BatchNorm(None, 192, 17, 17)   384         convolution2d_410[0][0]          \n",
      "____________________________________________________________________________________________________\n",
      "batchnormalization_415 (BatchNorm(None, 192, 17, 17)   384         convolution2d_415[0][0]          \n",
      "____________________________________________________________________________________________________\n",
      "batchnormalization_416 (BatchNorm(None, 192, 17, 17)   384         convolution2d_416[0][0]          \n",
      "____________________________________________________________________________________________________\n",
      "mixed4 (Merge)                   (None, 768, 17, 17)   0           batchnormalization_407[0][0]     \n",
      "                                                                   batchnormalization_410[0][0]     \n",
      "                                                                   batchnormalization_415[0][0]     \n",
      "                                                                   batchnormalization_416[0][0]     \n",
      "____________________________________________________________________________________________________\n",
      "convolution2d_421 (Convolution2D)(None, 160, 17, 17)   123040      mixed4[0][0]                     \n",
      "____________________________________________________________________________________________________\n",
      "batchnormalization_421 (BatchNorm(None, 160, 17, 17)   320         convolution2d_421[0][0]          \n",
      "____________________________________________________________________________________________________\n",
      "convolution2d_422 (Convolution2D)(None, 160, 17, 17)   179360      batchnormalization_421[0][0]     \n",
      "____________________________________________________________________________________________________\n",
      "batchnormalization_422 (BatchNorm(None, 160, 17, 17)   320         convolution2d_422[0][0]          \n",
      "____________________________________________________________________________________________________\n",
      "convolution2d_418 (Convolution2D)(None, 160, 17, 17)   123040      mixed4[0][0]                     \n",
      "____________________________________________________________________________________________________\n",
      "convolution2d_423 (Convolution2D)(None, 160, 17, 17)   179360      batchnormalization_422[0][0]     \n",
      "____________________________________________________________________________________________________\n",
      "batchnormalization_418 (BatchNorm(None, 160, 17, 17)   320         convolution2d_418[0][0]          \n",
      "____________________________________________________________________________________________________\n",
      "batchnormalization_423 (BatchNorm(None, 160, 17, 17)   320         convolution2d_423[0][0]          \n",
      "____________________________________________________________________________________________________\n",
      "convolution2d_419 (Convolution2D)(None, 160, 17, 17)   179360      batchnormalization_418[0][0]     \n",
      "____________________________________________________________________________________________________\n",
      "convolution2d_424 (Convolution2D)(None, 160, 17, 17)   179360      batchnormalization_423[0][0]     \n",
      "____________________________________________________________________________________________________\n",
      "batchnormalization_419 (BatchNorm(None, 160, 17, 17)   320         convolution2d_419[0][0]          \n",
      "____________________________________________________________________________________________________\n",
      "batchnormalization_424 (BatchNorm(None, 160, 17, 17)   320         convolution2d_424[0][0]          \n",
      "____________________________________________________________________________________________________\n",
      "averagepooling2d_45 (AveragePooli(None, 768, 17, 17)   0           mixed4[0][0]                     \n",
      "____________________________________________________________________________________________________\n",
      "convolution2d_417 (Convolution2D)(None, 192, 17, 17)   147648      mixed4[0][0]                     \n",
      "____________________________________________________________________________________________________\n",
      "convolution2d_420 (Convolution2D)(None, 192, 17, 17)   215232      batchnormalization_419[0][0]     \n",
      "____________________________________________________________________________________________________\n",
      "convolution2d_425 (Convolution2D)(None, 192, 17, 17)   215232      batchnormalization_424[0][0]     \n",
      "____________________________________________________________________________________________________\n",
      "convolution2d_426 (Convolution2D)(None, 192, 17, 17)   147648      averagepooling2d_45[0][0]        \n",
      "____________________________________________________________________________________________________\n",
      "batchnormalization_417 (BatchNorm(None, 192, 17, 17)   384         convolution2d_417[0][0]          \n",
      "____________________________________________________________________________________________________\n",
      "batchnormalization_420 (BatchNorm(None, 192, 17, 17)   384         convolution2d_420[0][0]          \n",
      "____________________________________________________________________________________________________\n",
      "batchnormalization_425 (BatchNorm(None, 192, 17, 17)   384         convolution2d_425[0][0]          \n",
      "____________________________________________________________________________________________________\n",
      "batchnormalization_426 (BatchNorm(None, 192, 17, 17)   384         convolution2d_426[0][0]          \n",
      "____________________________________________________________________________________________________\n",
      "mixed5 (Merge)                   (None, 768, 17, 17)   0           batchnormalization_417[0][0]     \n",
      "                                                                   batchnormalization_420[0][0]     \n",
      "                                                                   batchnormalization_425[0][0]     \n",
      "                                                                   batchnormalization_426[0][0]     \n",
      "____________________________________________________________________________________________________\n",
      "convolution2d_431 (Convolution2D)(None, 160, 17, 17)   123040      mixed5[0][0]                     \n",
      "____________________________________________________________________________________________________\n",
      "batchnormalization_431 (BatchNorm(None, 160, 17, 17)   320         convolution2d_431[0][0]          \n",
      "____________________________________________________________________________________________________\n",
      "convolution2d_432 (Convolution2D)(None, 160, 17, 17)   179360      batchnormalization_431[0][0]     \n",
      "____________________________________________________________________________________________________\n",
      "batchnormalization_432 (BatchNorm(None, 160, 17, 17)   320         convolution2d_432[0][0]          \n",
      "____________________________________________________________________________________________________\n",
      "convolution2d_428 (Convolution2D)(None, 160, 17, 17)   123040      mixed5[0][0]                     \n",
      "____________________________________________________________________________________________________\n",
      "convolution2d_433 (Convolution2D)(None, 160, 17, 17)   179360      batchnormalization_432[0][0]     \n",
      "____________________________________________________________________________________________________\n",
      "batchnormalization_428 (BatchNorm(None, 160, 17, 17)   320         convolution2d_428[0][0]          \n",
      "____________________________________________________________________________________________________\n",
      "batchnormalization_433 (BatchNorm(None, 160, 17, 17)   320         convolution2d_433[0][0]          \n",
      "____________________________________________________________________________________________________\n",
      "convolution2d_429 (Convolution2D)(None, 160, 17, 17)   179360      batchnormalization_428[0][0]     \n",
      "____________________________________________________________________________________________________\n",
      "convolution2d_434 (Convolution2D)(None, 160, 17, 17)   179360      batchnormalization_433[0][0]     \n",
      "____________________________________________________________________________________________________\n",
      "batchnormalization_429 (BatchNorm(None, 160, 17, 17)   320         convolution2d_429[0][0]          \n",
      "____________________________________________________________________________________________________\n",
      "batchnormalization_434 (BatchNorm(None, 160, 17, 17)   320         convolution2d_434[0][0]          \n",
      "____________________________________________________________________________________________________\n",
      "averagepooling2d_46 (AveragePooli(None, 768, 17, 17)   0           mixed5[0][0]                     \n",
      "____________________________________________________________________________________________________\n",
      "convolution2d_427 (Convolution2D)(None, 192, 17, 17)   147648      mixed5[0][0]                     \n",
      "____________________________________________________________________________________________________\n",
      "convolution2d_430 (Convolution2D)(None, 192, 17, 17)   215232      batchnormalization_429[0][0]     \n",
      "____________________________________________________________________________________________________\n",
      "convolution2d_435 (Convolution2D)(None, 192, 17, 17)   215232      batchnormalization_434[0][0]     \n",
      "____________________________________________________________________________________________________\n",
      "convolution2d_436 (Convolution2D)(None, 192, 17, 17)   147648      averagepooling2d_46[0][0]        \n",
      "____________________________________________________________________________________________________\n",
      "batchnormalization_427 (BatchNorm(None, 192, 17, 17)   384         convolution2d_427[0][0]          \n",
      "____________________________________________________________________________________________________\n",
      "batchnormalization_430 (BatchNorm(None, 192, 17, 17)   384         convolution2d_430[0][0]          \n",
      "____________________________________________________________________________________________________\n",
      "batchnormalization_435 (BatchNorm(None, 192, 17, 17)   384         convolution2d_435[0][0]          \n",
      "____________________________________________________________________________________________________\n",
      "batchnormalization_436 (BatchNorm(None, 192, 17, 17)   384         convolution2d_436[0][0]          \n",
      "____________________________________________________________________________________________________\n",
      "mixed6 (Merge)                   (None, 768, 17, 17)   0           batchnormalization_427[0][0]     \n",
      "                                                                   batchnormalization_430[0][0]     \n",
      "                                                                   batchnormalization_435[0][0]     \n",
      "                                                                   batchnormalization_436[0][0]     \n",
      "____________________________________________________________________________________________________\n",
      "convolution2d_441 (Convolution2D)(None, 160, 17, 17)   123040      mixed6[0][0]                     \n",
      "____________________________________________________________________________________________________\n",
      "batchnormalization_441 (BatchNorm(None, 160, 17, 17)   320         convolution2d_441[0][0]          \n",
      "____________________________________________________________________________________________________\n",
      "convolution2d_442 (Convolution2D)(None, 192, 17, 17)   215232      batchnormalization_441[0][0]     \n",
      "____________________________________________________________________________________________________\n",
      "batchnormalization_442 (BatchNorm(None, 192, 17, 17)   384         convolution2d_442[0][0]          \n",
      "____________________________________________________________________________________________________\n",
      "convolution2d_438 (Convolution2D)(None, 192, 17, 17)   147648      mixed6[0][0]                     \n",
      "____________________________________________________________________________________________________\n",
      "convolution2d_443 (Convolution2D)(None, 192, 17, 17)   258240      batchnormalization_442[0][0]     \n",
      "____________________________________________________________________________________________________\n",
      "batchnormalization_438 (BatchNorm(None, 192, 17, 17)   384         convolution2d_438[0][0]          \n",
      "____________________________________________________________________________________________________\n",
      "batchnormalization_443 (BatchNorm(None, 192, 17, 17)   384         convolution2d_443[0][0]          \n",
      "____________________________________________________________________________________________________\n",
      "convolution2d_439 (Convolution2D)(None, 192, 17, 17)   258240      batchnormalization_438[0][0]     \n",
      "____________________________________________________________________________________________________\n",
      "convolution2d_444 (Convolution2D)(None, 192, 17, 17)   258240      batchnormalization_443[0][0]     \n",
      "____________________________________________________________________________________________________\n",
      "batchnormalization_439 (BatchNorm(None, 192, 17, 17)   384         convolution2d_439[0][0]          \n",
      "____________________________________________________________________________________________________\n",
      "batchnormalization_444 (BatchNorm(None, 192, 17, 17)   384         convolution2d_444[0][0]          \n",
      "____________________________________________________________________________________________________\n",
      "averagepooling2d_47 (AveragePooli(None, 768, 17, 17)   0           mixed6[0][0]                     \n",
      "____________________________________________________________________________________________________\n",
      "convolution2d_437 (Convolution2D)(None, 192, 17, 17)   147648      mixed6[0][0]                     \n",
      "____________________________________________________________________________________________________\n",
      "convolution2d_440 (Convolution2D)(None, 192, 17, 17)   258240      batchnormalization_439[0][0]     \n",
      "____________________________________________________________________________________________________\n",
      "convolution2d_445 (Convolution2D)(None, 192, 17, 17)   258240      batchnormalization_444[0][0]     \n",
      "____________________________________________________________________________________________________\n",
      "convolution2d_446 (Convolution2D)(None, 192, 17, 17)   147648      averagepooling2d_47[0][0]        \n",
      "____________________________________________________________________________________________________\n",
      "batchnormalization_437 (BatchNorm(None, 192, 17, 17)   384         convolution2d_437[0][0]          \n",
      "____________________________________________________________________________________________________\n",
      "batchnormalization_440 (BatchNorm(None, 192, 17, 17)   384         convolution2d_440[0][0]          \n",
      "____________________________________________________________________________________________________\n",
      "batchnormalization_445 (BatchNorm(None, 192, 17, 17)   384         convolution2d_445[0][0]          \n",
      "____________________________________________________________________________________________________\n",
      "batchnormalization_446 (BatchNorm(None, 192, 17, 17)   384         convolution2d_446[0][0]          \n",
      "____________________________________________________________________________________________________\n",
      "mixed7 (Merge)                   (None, 768, 17, 17)   0           batchnormalization_437[0][0]     \n",
      "                                                                   batchnormalization_440[0][0]     \n",
      "                                                                   batchnormalization_445[0][0]     \n",
      "                                                                   batchnormalization_446[0][0]     \n",
      "____________________________________________________________________________________________________\n",
      "convolution2d_449 (Convolution2D)(None, 192, 17, 17)   147648      mixed7[0][0]                     \n",
      "____________________________________________________________________________________________________\n",
      "batchnormalization_449 (BatchNorm(None, 192, 17, 17)   384         convolution2d_449[0][0]          \n",
      "____________________________________________________________________________________________________\n",
      "convolution2d_450 (Convolution2D)(None, 192, 17, 17)   258240      batchnormalization_449[0][0]     \n",
      "____________________________________________________________________________________________________\n",
      "batchnormalization_450 (BatchNorm(None, 192, 17, 17)   384         convolution2d_450[0][0]          \n",
      "____________________________________________________________________________________________________\n",
      "convolution2d_447 (Convolution2D)(None, 192, 17, 17)   147648      mixed7[0][0]                     \n",
      "____________________________________________________________________________________________________\n",
      "convolution2d_451 (Convolution2D)(None, 192, 17, 17)   258240      batchnormalization_450[0][0]     \n",
      "____________________________________________________________________________________________________\n",
      "batchnormalization_447 (BatchNorm(None, 192, 17, 17)   384         convolution2d_447[0][0]          \n",
      "____________________________________________________________________________________________________\n",
      "batchnormalization_451 (BatchNorm(None, 192, 17, 17)   384         convolution2d_451[0][0]          \n",
      "____________________________________________________________________________________________________\n",
      "convolution2d_448 (Convolution2D)(None, 320, 8, 8)     553280      batchnormalization_447[0][0]     \n",
      "____________________________________________________________________________________________________\n",
      "convolution2d_452 (Convolution2D)(None, 192, 8, 8)     331968      batchnormalization_451[0][0]     \n",
      "____________________________________________________________________________________________________\n",
      "batchnormalization_448 (BatchNorm(None, 320, 8, 8)     640         convolution2d_448[0][0]          \n",
      "____________________________________________________________________________________________________\n",
      "batchnormalization_452 (BatchNorm(None, 192, 8, 8)     384         convolution2d_452[0][0]          \n",
      "____________________________________________________________________________________________________\n",
      "averagepooling2d_48 (AveragePooli(None, 768, 8, 8)     0           mixed7[0][0]                     \n",
      "____________________________________________________________________________________________________\n",
      "mixed8 (Merge)                   (None, 1280, 8, 8)    0           batchnormalization_448[0][0]     \n",
      "                                                                   batchnormalization_452[0][0]     \n",
      "                                                                   averagepooling2d_48[0][0]        \n",
      "____________________________________________________________________________________________________\n",
      "convolution2d_457 (Convolution2D)(None, 448, 8, 8)     573888      mixed8[0][0]                     \n",
      "____________________________________________________________________________________________________\n",
      "batchnormalization_457 (BatchNorm(None, 448, 8, 8)     896         convolution2d_457[0][0]          \n",
      "____________________________________________________________________________________________________\n",
      "convolution2d_454 (Convolution2D)(None, 384, 8, 8)     491904      mixed8[0][0]                     \n",
      "____________________________________________________________________________________________________\n",
      "convolution2d_458 (Convolution2D)(None, 384, 8, 8)     1548672     batchnormalization_457[0][0]     \n",
      "____________________________________________________________________________________________________\n",
      "batchnormalization_454 (BatchNorm(None, 384, 8, 8)     768         convolution2d_454[0][0]          \n",
      "____________________________________________________________________________________________________\n",
      "batchnormalization_458 (BatchNorm(None, 384, 8, 8)     768         convolution2d_458[0][0]          \n",
      "____________________________________________________________________________________________________\n",
      "convolution2d_455 (Convolution2D)(None, 384, 8, 8)     442752      batchnormalization_454[0][0]     \n",
      "____________________________________________________________________________________________________\n",
      "convolution2d_456 (Convolution2D)(None, 384, 8, 8)     442752      batchnormalization_454[0][0]     \n",
      "____________________________________________________________________________________________________\n",
      "convolution2d_459 (Convolution2D)(None, 384, 8, 8)     442752      batchnormalization_458[0][0]     \n",
      "____________________________________________________________________________________________________\n",
      "convolution2d_460 (Convolution2D)(None, 384, 8, 8)     442752      batchnormalization_458[0][0]     \n",
      "____________________________________________________________________________________________________\n",
      "averagepooling2d_49 (AveragePooli(None, 1280, 8, 8)    0           mixed8[0][0]                     \n",
      "____________________________________________________________________________________________________\n",
      "convolution2d_453 (Convolution2D)(None, 320, 8, 8)     409920      mixed8[0][0]                     \n",
      "____________________________________________________________________________________________________\n",
      "batchnormalization_455 (BatchNorm(None, 384, 8, 8)     768         convolution2d_455[0][0]          \n",
      "____________________________________________________________________________________________________\n",
      "batchnormalization_456 (BatchNorm(None, 384, 8, 8)     768         convolution2d_456[0][0]          \n",
      "____________________________________________________________________________________________________\n",
      "batchnormalization_459 (BatchNorm(None, 384, 8, 8)     768         convolution2d_459[0][0]          \n",
      "____________________________________________________________________________________________________\n",
      "batchnormalization_460 (BatchNorm(None, 384, 8, 8)     768         convolution2d_460[0][0]          \n",
      "____________________________________________________________________________________________________\n",
      "convolution2d_461 (Convolution2D)(None, 192, 8, 8)     245952      averagepooling2d_49[0][0]        \n",
      "____________________________________________________________________________________________________\n",
      "batchnormalization_453 (BatchNorm(None, 320, 8, 8)     640         convolution2d_453[0][0]          \n",
      "____________________________________________________________________________________________________\n",
      "mixed9_0 (Merge)                 (None, 768, 8, 8)     0           batchnormalization_455[0][0]     \n",
      "                                                                   batchnormalization_456[0][0]     \n",
      "____________________________________________________________________________________________________\n",
      "merge_9 (Merge)                  (None, 768, 8, 8)     0           batchnormalization_459[0][0]     \n",
      "                                                                   batchnormalization_460[0][0]     \n",
      "____________________________________________________________________________________________________\n",
      "batchnormalization_461 (BatchNorm(None, 192, 8, 8)     384         convolution2d_461[0][0]          \n",
      "____________________________________________________________________________________________________\n",
      "mixed9 (Merge)                   (None, 2048, 8, 8)    0           batchnormalization_453[0][0]     \n",
      "                                                                   mixed9_0[0][0]                   \n",
      "                                                                   merge_9[0][0]                    \n",
      "                                                                   batchnormalization_461[0][0]     \n",
      "____________________________________________________________________________________________________\n",
      "convolution2d_466 (Convolution2D)(None, 448, 8, 8)     917952      mixed9[0][0]                     \n",
      "____________________________________________________________________________________________________\n",
      "batchnormalization_466 (BatchNorm(None, 448, 8, 8)     896         convolution2d_466[0][0]          \n",
      "____________________________________________________________________________________________________\n",
      "convolution2d_463 (Convolution2D)(None, 384, 8, 8)     786816      mixed9[0][0]                     \n",
      "____________________________________________________________________________________________________\n",
      "convolution2d_467 (Convolution2D)(None, 384, 8, 8)     1548672     batchnormalization_466[0][0]     \n",
      "____________________________________________________________________________________________________\n",
      "batchnormalization_463 (BatchNorm(None, 384, 8, 8)     768         convolution2d_463[0][0]          \n",
      "____________________________________________________________________________________________________\n",
      "batchnormalization_467 (BatchNorm(None, 384, 8, 8)     768         convolution2d_467[0][0]          \n",
      "____________________________________________________________________________________________________\n",
      "convolution2d_464 (Convolution2D)(None, 384, 8, 8)     442752      batchnormalization_463[0][0]     \n",
      "____________________________________________________________________________________________________\n",
      "convolution2d_465 (Convolution2D)(None, 384, 8, 8)     442752      batchnormalization_463[0][0]     \n",
      "____________________________________________________________________________________________________\n",
      "convolution2d_468 (Convolution2D)(None, 384, 8, 8)     442752      batchnormalization_467[0][0]     \n",
      "____________________________________________________________________________________________________\n",
      "convolution2d_469 (Convolution2D)(None, 384, 8, 8)     442752      batchnormalization_467[0][0]     \n",
      "____________________________________________________________________________________________________\n",
      "averagepooling2d_50 (AveragePooli(None, 2048, 8, 8)    0           mixed9[0][0]                     \n",
      "____________________________________________________________________________________________________\n",
      "convolution2d_462 (Convolution2D)(None, 320, 8, 8)     655680      mixed9[0][0]                     \n",
      "____________________________________________________________________________________________________\n",
      "batchnormalization_464 (BatchNorm(None, 384, 8, 8)     768         convolution2d_464[0][0]          \n",
      "____________________________________________________________________________________________________\n",
      "batchnormalization_465 (BatchNorm(None, 384, 8, 8)     768         convolution2d_465[0][0]          \n",
      "____________________________________________________________________________________________________\n",
      "batchnormalization_468 (BatchNorm(None, 384, 8, 8)     768         convolution2d_468[0][0]          \n",
      "____________________________________________________________________________________________________\n",
      "batchnormalization_469 (BatchNorm(None, 384, 8, 8)     768         convolution2d_469[0][0]          \n",
      "____________________________________________________________________________________________________\n",
      "convolution2d_470 (Convolution2D)(None, 192, 8, 8)     393408      averagepooling2d_50[0][0]        \n",
      "____________________________________________________________________________________________________\n",
      "batchnormalization_462 (BatchNorm(None, 320, 8, 8)     640         convolution2d_462[0][0]          \n",
      "____________________________________________________________________________________________________\n",
      "mixed9_1 (Merge)                 (None, 768, 8, 8)     0           batchnormalization_464[0][0]     \n",
      "                                                                   batchnormalization_465[0][0]     \n",
      "____________________________________________________________________________________________________\n",
      "merge_10 (Merge)                 (None, 768, 8, 8)     0           batchnormalization_468[0][0]     \n",
      "                                                                   batchnormalization_469[0][0]     \n",
      "____________________________________________________________________________________________________\n",
      "batchnormalization_470 (BatchNorm(None, 192, 8, 8)     384         convolution2d_470[0][0]          \n",
      "____________________________________________________________________________________________________\n",
      "mixed10 (Merge)                  (None, 2048, 8, 8)    0           batchnormalization_462[0][0]     \n",
      "                                                                   mixed9_1[0][0]                   \n",
      "                                                                   merge_10[0][0]                   \n",
      "                                                                   batchnormalization_470[0][0]     \n",
      "____________________________________________________________________________________________________\n",
      "avg_pool (AveragePooling2D)      (None, 2048, 1, 1)    0           mixed10[0][0]                    \n",
      "____________________________________________________________________________________________________\n",
      "flatten (Flatten)                (None, 2048)          0           avg_pool[0][0]                   \n",
      "____________________________________________________________________________________________________\n",
      "predictions (Dense)              (None, 1000)          2049000     flatten[0][0]                    \n",
      "====================================================================================================\n",
      "Total params: 23626728\n",
      "____________________________________________________________________________________________________\n"
     ]
    }
   ],
   "source": [
    "img_size=(299, 299)\n",
    "from keras.applications import inception_v3\n",
    "base_model = inception_v3.InceptionV3(weights='imagenet', include_top=True)\n",
    "base_model.summary()"
   ]
  },
  {
   "cell_type": "code",
   "execution_count": null,
   "metadata": {
    "collapsed": false,
    "deletable": true,
    "editable": true
   },
   "outputs": [],
   "source": [
    "model = Model(input=base_model.input, output=base_model.get_layer('flatten').output)"
   ]
  },
  {
   "cell_type": "code",
   "execution_count": 35,
   "metadata": {
    "collapsed": false,
    "deletable": true,
    "editable": true
   },
   "outputs": [
    {
     "name": "stdout",
     "output_type": "stream",
     "text": [
      "CPU times: user 4min 26s, sys: 1min 21s, total: 5min 47s\n",
      "Wall time: 5min 48s\n"
     ]
    }
   ],
   "source": [
    "%%time\n",
    "features_train,_ = extract_features(train_image_list, img_size, model, inception_v3.preprocess_input)"
   ]
  },
  {
   "cell_type": "code",
   "execution_count": 44,
   "metadata": {
    "collapsed": false,
    "deletable": true,
    "editable": true
   },
   "outputs": [
    {
     "name": "stdout",
     "output_type": "stream",
     "text": [
      "(3777, 2048)\n"
     ]
    }
   ],
   "source": [
    "features_train = np.array(features_train)\n",
    "print(features_train.shape)"
   ]
  },
  {
   "cell_type": "code",
   "execution_count": 45,
   "metadata": {
    "collapsed": false,
    "deletable": true,
    "editable": true
   },
   "outputs": [
    {
     "name": "stdout",
     "output_type": "stream",
     "text": [
      "(1000, 2048)\n",
      "CPU times: user 1min 12s, sys: 22.1 s, total: 1min 34s\n",
      "Wall time: 1min 35s\n"
     ]
    }
   ],
   "source": [
    "%%time\n",
    "features_test,_ = extract_features(test_image_list, img_size, model, inception_v3.preprocess_input)\n",
    "features_test = np.array(features_test)\n",
    "print(features_test.shape)"
   ]
  },
  {
   "cell_type": "code",
   "execution_count": null,
   "metadata": {
    "collapsed": false,
    "deletable": true,
    "editable": true
   },
   "outputs": [],
   "source": [
    "np.save(data_path+\"features_inception_v3_train.npy\", features_train)\n",
    "np.save(data_path+\"features_inception_v3_test.npy\", features_test)"
   ]
  },
  {
   "cell_type": "markdown",
   "metadata": {
    "collapsed": true,
    "deletable": true,
    "editable": true
   },
   "source": [
    "Model: VGG19 model, with weights pre-trained on ImageNet."
   ]
  },
  {
   "cell_type": "code",
   "execution_count": 14,
   "metadata": {
    "collapsed": false,
    "deletable": true,
    "editable": true
   },
   "outputs": [
    {
     "name": "stdout",
     "output_type": "stream",
     "text": [
      "____________________________________________________________________________________________________\n",
      "Layer (type)                     Output Shape          Param #     Connected to                     \n",
      "====================================================================================================\n",
      "input_1 (InputLayer)             (None, 3, 224, 224)   0                                            \n",
      "____________________________________________________________________________________________________\n",
      "block1_conv1 (Convolution2D)     (None, 64, 224, 224)  1792        input_1[0][0]                    \n",
      "____________________________________________________________________________________________________\n",
      "block1_conv2 (Convolution2D)     (None, 64, 224, 224)  36928       block1_conv1[0][0]               \n",
      "____________________________________________________________________________________________________\n",
      "block1_pool (MaxPooling2D)       (None, 64, 112, 112)  0           block1_conv2[0][0]               \n",
      "____________________________________________________________________________________________________\n",
      "block2_conv1 (Convolution2D)     (None, 128, 112, 112) 73856       block1_pool[0][0]                \n",
      "____________________________________________________________________________________________________\n",
      "block2_conv2 (Convolution2D)     (None, 128, 112, 112) 147584      block2_conv1[0][0]               \n",
      "____________________________________________________________________________________________________\n",
      "block2_pool (MaxPooling2D)       (None, 128, 56, 56)   0           block2_conv2[0][0]               \n",
      "____________________________________________________________________________________________________\n",
      "block3_conv1 (Convolution2D)     (None, 256, 56, 56)   295168      block2_pool[0][0]                \n",
      "____________________________________________________________________________________________________\n",
      "block3_conv2 (Convolution2D)     (None, 256, 56, 56)   590080      block3_conv1[0][0]               \n",
      "____________________________________________________________________________________________________\n",
      "block3_conv3 (Convolution2D)     (None, 256, 56, 56)   590080      block3_conv2[0][0]               \n",
      "____________________________________________________________________________________________________\n",
      "block3_conv4 (Convolution2D)     (None, 256, 56, 56)   590080      block3_conv3[0][0]               \n",
      "____________________________________________________________________________________________________\n",
      "block3_pool (MaxPooling2D)       (None, 256, 28, 28)   0           block3_conv4[0][0]               \n",
      "____________________________________________________________________________________________________\n",
      "block4_conv1 (Convolution2D)     (None, 512, 28, 28)   1180160     block3_pool[0][0]                \n",
      "____________________________________________________________________________________________________\n",
      "block4_conv2 (Convolution2D)     (None, 512, 28, 28)   2359808     block4_conv1[0][0]               \n",
      "____________________________________________________________________________________________________\n",
      "block4_conv3 (Convolution2D)     (None, 512, 28, 28)   2359808     block4_conv2[0][0]               \n",
      "____________________________________________________________________________________________________\n",
      "block4_conv4 (Convolution2D)     (None, 512, 28, 28)   2359808     block4_conv3[0][0]               \n",
      "____________________________________________________________________________________________________\n",
      "block4_pool (MaxPooling2D)       (None, 512, 14, 14)   0           block4_conv4[0][0]               \n",
      "____________________________________________________________________________________________________\n",
      "block5_conv1 (Convolution2D)     (None, 512, 14, 14)   2359808     block4_pool[0][0]                \n",
      "____________________________________________________________________________________________________\n",
      "block5_conv2 (Convolution2D)     (None, 512, 14, 14)   2359808     block5_conv1[0][0]               \n",
      "____________________________________________________________________________________________________\n",
      "block5_conv3 (Convolution2D)     (None, 512, 14, 14)   2359808     block5_conv2[0][0]               \n",
      "____________________________________________________________________________________________________\n",
      "block5_conv4 (Convolution2D)     (None, 512, 14, 14)   2359808     block5_conv3[0][0]               \n",
      "____________________________________________________________________________________________________\n",
      "block5_pool (MaxPooling2D)       (None, 512, 7, 7)     0           block5_conv4[0][0]               \n",
      "____________________________________________________________________________________________________\n",
      "flatten (Flatten)                (None, 25088)         0           block5_pool[0][0]                \n",
      "____________________________________________________________________________________________________\n",
      "fc1 (Dense)                      (None, 4096)          102764544   flatten[0][0]                    \n",
      "____________________________________________________________________________________________________\n",
      "fc2 (Dense)                      (None, 4096)          16781312    fc1[0][0]                        \n",
      "____________________________________________________________________________________________________\n",
      "predictions (Dense)              (None, 1000)          4097000     fc2[0][0]                        \n",
      "====================================================================================================\n",
      "Total params: 143667240\n",
      "____________________________________________________________________________________________________\n"
     ]
    }
   ],
   "source": [
    "img_size=(224, 224)\n",
    "from keras.applications import vgg19\n",
    "base_model = vgg19.VGG19(weights='imagenet', include_top=True)\n",
    "base_model.summary()"
   ]
  },
  {
   "cell_type": "code",
   "execution_count": 15,
   "metadata": {
    "collapsed": true,
    "deletable": true,
    "editable": true
   },
   "outputs": [],
   "source": [
    "model = Model(input=base_model.input, output=base_model.get_layer('fc1').output)"
   ]
  },
  {
   "cell_type": "code",
   "execution_count": 18,
   "metadata": {
    "collapsed": false,
    "deletable": true,
    "editable": true
   },
   "outputs": [
    {
     "name": "stdout",
     "output_type": "stream",
     "text": [
      "CPU times: user 2min 48s, sys: 45.2 s, total: 3min 33s\n",
      "Wall time: 3min 33s\n"
     ]
    }
   ],
   "source": [
    "%%time\n",
    "features_train,_ = extract_features(train_image_list, img_size, model, vgg19.preprocess_input)"
   ]
  },
  {
   "cell_type": "code",
   "execution_count": 21,
   "metadata": {
    "collapsed": false,
    "deletable": true,
    "editable": true
   },
   "outputs": [
    {
     "name": "stdout",
     "output_type": "stream",
     "text": [
      "(3777, 4096)\n"
     ]
    }
   ],
   "source": [
    "features_train = np.array(features_train)\n",
    "print(features_train.shape)"
   ]
  },
  {
   "cell_type": "code",
   "execution_count": 22,
   "metadata": {
    "collapsed": false,
    "deletable": true,
    "editable": true
   },
   "outputs": [
    {
     "name": "stdout",
     "output_type": "stream",
     "text": [
      "(1000, 4096)\n",
      "CPU times: user 45.4 s, sys: 12.4 s, total: 57.8 s\n",
      "Wall time: 57.8 s\n"
     ]
    }
   ],
   "source": [
    "%%time\n",
    "features_test,_ = extract_features(test_image_list, img_size, model, vgg19.preprocess_input)\n",
    "features_test = np.array(features_test)\n",
    "print(features_test.shape)"
   ]
  },
  {
   "cell_type": "code",
   "execution_count": 23,
   "metadata": {
    "collapsed": true,
    "deletable": true,
    "editable": true
   },
   "outputs": [],
   "source": [
    "np.save(data_path+\"features_vgg19_train.npy\", features_train)\n",
    "np.save(data_path+\"features_vgg19_test.npy\", features_test)"
   ]
  },
  {
   "cell_type": "markdown",
   "metadata": {
    "deletable": true,
    "editable": true
   },
   "source": [
    "Model: ResNet50, with weights pre-trained on ImageNet."
   ]
  },
  {
   "cell_type": "code",
   "execution_count": 14,
   "metadata": {
    "collapsed": false,
    "deletable": true,
    "editable": true
   },
   "outputs": [
    {
     "name": "stdout",
     "output_type": "stream",
     "text": [
      "Downloading data from https://github.com/fchollet/deep-learning-models/releases/download/v0.2/resnet50_weights_th_dim_ordering_th_kernels.h5\n",
      "102588416/102853280 [============================>.] - ETA: 0s\b\b\b\b\b\b\b\b\b\b\b\b\b\b\b\b\b\b\b\b\b\b\b\b\b\b\b\b\b\b\b\b\b\b\b\b\b\b\b\b\b\b\b\b\b\b\b\b\b\b\b\b\b\b\b\b\b\b\b\b\b\b\b\b\b\b\b\b\b\b\b\b\b\b\b\b\b\b\b\b\b\b\b\b\b\b\b\b\b\b\b\b\b\b\b\b\b\b\b\b\b\b\b\b\b\b\b\b\b\b\b\b\b\b\b\b\b\b\b\b\b\b\b\b\b\b\b\b\b\b\b\b\b\b\b\b\b\b\b\b\b\b\b\b\b\b\b\b\b\b\b\b\b\b\b\b\b\b\b\b\b\b\b\b\b\b\b\b\b\b\b\b\b\b\b\b\b\b\b\b\b\b\b\b\b\b\b\b\b\b\b\b\b\b\b\b\b\b\b\b\b\b\b\b\b\b\b\b\b\b\b\b\b\b\b\b\b\b\b\b\b\b\b\b\b\b\b\b\b\b\b\b\b\b\b\b\b\b\b\b\b\b\b\b\b\b\b\b\b\b\b\b\b\b\b\b\b\b\b\b\b\b\b\b\b\b\b\b\b\b\b\b\b\b\b\b\b\b\b\b\b\b\b\b\b\b\b\b\b\b\b\b\b\b\b\b\b\b\b\b\b\b\b\b\b\b\b\b\b\b\b\b\b\b\b\b\b\b\b\b\b\b\b\b\b\b\b\b\b\b\b\b\b\b\b\b\b\b\b\b\b\b\b\b\b\b\b\b\b\b\b\b\b\b\b\b\b\b\b\b\b\b\b\b\b\b\b\b\b\b\b\b\b\b\b\b\b\b\b\b\b\b\b\b\b\b\b\b\b\b\b\b\b\b\b\b\b\b\b\b\b\b\b\b\b\b\b\b\b\b\b\b\b\b\b\b\b\b\b\b\b\b\b\b\b\b\b\b\b\b\b\b\b\b\b\b\b\b\b\b\b\b\b\b\b\b\b\b\b\b\b\b\b\b\b\b\b\b\b\b\b\b\b\b\b\b\b\b\b\b\b\b\b\b\b\b\b\b\b\b\b\b\b\b\b\b\b\b\b\b\b\b\b\b\b\b\b\b\b\b\b\b\b\b\b\b\b\b\b\b\b\b\b\b\b\b\b\b\b\b\b\b\b\b\b\b\b\b\b\b\b\b\b\b\b\b\b\b\b\b\b\b\b\b\b\b\b\b\b\b\b\b\b\b\b\b\b\b\b\b\b\b\b\b\b\b\b\b\b\b\b\b\b\b\b\b\b\b\b\b\b\b\b\b\b\b\b\b\b\b\b\b\b\b\b\b\b\b\b\b\b\b\b\b\b\b\b\b\b\b\b\b\b\b\b\b\b\b\b\b\b\b\b\b\b\b\b\b\b\b\b\b\b\b\b\b\b\b\b\b\b\b\b\b\b\b\b\b\b\b\b\b\b\b\b\b\b\b\b\b\b\b\b\b\b\b\b\b\b\b\b\b\b\b\b\b\b\b\b\b\b\b\b\b\b\b\b\b\b\b\b\b\b\b\b\b\b\b\b\b\b\b\b\b\b\b\b\b\b\b\b\b\b\b\b\b\b\b\b\b\b\b\b\b\b\b\b\b\b\b\b\b\b\b\b\b\b\b\b\b\b\b\b\b\b\b\b\b\b\b\b\b\b\b\b\b\b\b\b\b\b\b\b\b\b\b\b\b\b\b\b\b\b\b\b\b\b\b\b\b\b\b\b\b\b\b\b\b\b\b\b\b\b\b\b\b\b\b\b\b\b\b\b\b\b\b\b\b\b\b\b\b\b\b\b\b\b\b\b\b\b\b\b\b\b\b\b\b\b\b\b\b\b\b\b\b\b\b\b\b\b\b\b\b\b\b\b\b\b\b\b\b\b\b\b\b\b\b\b\b\b\b\b\b\b\b\b\b\b\b\b\b\b\b\b\b\b\b\b\b\b\b\b\b\b\b\b\b\b\b\b\b\b\b\b\b\b\b\b\b\b\b\b\b\b\b\b\b\b\b\b\b\b\b\b\b\b\b\b\b\b\b\b\b\b\b\b\b\b\b\b\b\b\b\b\b\b\b\b\b\b\b\b\b\b\b\b\b\b\b\b\b\b\b\b\b\b\b\b\b\b\b\b\b\b\b\b\b\b\b\b\b\b\b\b\b\b\b\b\b\b\b\b\b\b\b\b\b\b\b\b\b\b\b\b\b\b\b\b\b\b\b\b\b\b\b\b\b\b\b\b\b\b\b\b\b\b\b\b\b\b\b\b\b\b\b\b\b\b\b\b\b\b\b\b\b\b\b\b\b\b\b\b\b\b\b\b\b\b\b\b\b\b\b\b\b\b\b\b\b\b\b\b\b\b\b\b\b\b\b\b\b\b\b\b\b\b\b\b\b\b\b\b\b\b\b\b\b\b\b\b\b\b\b\b\b\b\b\b\b\b\b\b\b\b\b\b\b\b\b\b\b\b\b\b\b\b\b\b\b\b\b\b\b\b\b\b\b\b\b\b\b\b\b\b\b\b\b\b\b\b\b\b\b\b\b\b\b\b\b\b\b\b\b\b\b\b\b\b\b\b\b\b\b\b\b\b\b\b\b\b\b\b\b\b\b\b\b\b\b\b\b\b\b\b\b\b\b\b\b\b\b\b\b\b\b\b\b\b\b\b\b\b\b\b\b\b\b\b\b\b\b\b\b\b\b\b\b\b\b\b\b\b\b\b\b\b\b\b\b\b\b\b\b\b\b\b\b\b\b\b\b\b\b\b\b\b\b\b\b\b\b\b\b\b\b\b\b\b\b\b\b\b\b\b\b\b\b\b\b\b\b\b\b\b\b\b\b\b\b\b\b\b\b\b\b\b\b\b\b\b\b\b\b\b\b\b\b\b\b\b\b\b\b\b\b\b\b\b\b\b\b\b\b\b\b\b\b\b\b\b\b\b\b\b\b\b\b\b\b\b\b\b\b\b\b\b\b\b\b\b\b\b\b\b\b\b\b\b\b\b\b\b\b\b\b\b\b\b\b\b\b\b\b\b\b\b\b\b\b\b\b\b\b\b\b\b\b\b\b\b\b\b\b\b\b\b\b\b\b\b\b\b\b\b\b\b\b\b\b\b\b\b\b\b\b\b\b\b\b\b\b\b\b\b\b\b\b\b\b\b\b\b\b\b\b\b\b\b\b\b\b\b\b\b\b\b\b\b\b\b\b\b\b\b\b\b\b\b\b\b\b\b\b\b\b\b\b\b\b\b\b\b\b\b\b\b\b\b\b\b\b\b\b\b\b\b\b\b\b\b\b\b\b\b\b\b\b\b\b\b\b\b\b\b\b\b\b\b\b\b\b\b\b\b\b\b\b\b\b\b\b\b\b\b\b\b\b\b\b\b\b\b\b\b\b\b\b\b\b\b\b\b\b\b\b\b\b\b\b\b\b\b\b\b\b\b\b\b\b\b\b\b\b\b\b\b\b\b\b\b\b\b\b\b\b\b\b\b\b\b\b\b\b\b\b\b\b\b\b\b\b\b\b\b\b\b\b\b\b\b\b\b\b\b\b\b\b\b\b\b\b\b\b\b\b\b\b\b\b\b\b\b\b\b\b\b\b\b\b\b\b\b\b\b\b\b\b\b\b\b\b\b\b\b\b\b\b\b\b\b\b\b\b\b\b\b\b\b\b\b\b\b\b\b\b\b\b\b\b\b\b\b\b\b\b\b\b\b\b\b\b\b\b\b\b\b\b\b\b\b\b\b\b\b\b\b\b\b\b\b\b\b\b\b\b\b\b\b\b\b\b\b\b\b\b\b\b\b\b\b\b\b\b\b\b\b\b\b\b\b\b\b\b\b\b\b\b\b\b\b\b\b\b\b\b\b\b\b\b\b\b\b\b\b\b\b\b\b\b\b\b\b\b\b\b\b\b\b\b\b\b\b\b\b\b\b\b\b\b\b\b\b\b\b\b\b\b\b\b\b\b\b\b\b\b\b\b\b\b\b\b\b\b\b\b\b\b\b\b\b\b\b\b\b\b\b\b\b\b\b\b\b\b\b\b\b\b\b\b\b\b\b\b\b\b\b\b\b\b\b\b\b\b\b\b\b\b\b\b\b\b\b\b\b\b\b\b\b\b\b\b\b\b\b\b\b\b\b\b\b\b\b\b\b\b\b\b\b\b\b\b\b\b\b\b\b\b\b\b\b\b\b\b\b\b\b\b\b\b\b\b\b\b\b\b\b\b\b\b\b\b\b\b\b\b\b\b\b\b\b\b\b\b\b\b\b\b\b\b\b\b\b\b\b\b\b\b\b\b\b\b\b\b\b\b\b\b\b\b\b\b\b\b\b\b\b\b\b\b\b\b\b\b\b\b\b\b\b\b\b\b\b\b\b\b\b\b\b\b\b\b\b\b\b\b\b\b\b\b\b\b\b\b\b\b\b\b\b\b\b\b\b\b\b\b\b\b\b\b\b\b\b\b\b\b\b\b\b\b\b\b\b\b\b\b\b\b\b\b\b\b\b\b\b\b\b\b\b\b\b\b\b\b\b\b\b\b\b\b\b\b\b\b\b\b\b\b\b\b\b\b\b\b\b\b\b\b\b\b\b\b\b\b\b\b\b\b\b\b\b\b\b\b\b\b\b\b\b\b\b\b\b\b\b\b\b\b\b\b\b\b\b\b\b\b\b\b\b\b\b\b\b\b\b\b\b\b\b\b\b\b\b\b\b\b\b\b\b\b\b\b\b\b\b\b\b\b\b\b\b\b\b\b\b\b\b\b\b\b\b\b\b\b\b\b\b\b\b\b\b\b\b\b\b\b\b\b\b\b\b\b\b\b\b\b\b\b\b\b\b\b\b\b\b\b\b\b\b\b\b\b\b\b\b\b\b\b\b\b\b\b\b\b\b\b\b\b\b\b\b\b\b\b\b\b\b\b\b\b\b\b\b\b\b\b\b\b\b\b\b\b\b\b\b\b\b\b\b\b\b\b\b\b\b\b\b\b\b\b\b\b\b\b\b\b\b\b\b\b\b\b\b\b\b\b\b\b\b\b\b\b\b\b\b\b\b\b\b\b\b\b\b\b\b\b\b\b\b\b\b\b\b\b\b\b\b\b\b\b\b\b\b\b\b\b\b\b\b\b\b\b\b\b\b\b\b\b\b\b\b\b\b\b\b\b\b\b\b\b\b\b\b\b\b\b\b\b\b\b\b\b\b\b\b\b\b\b\b\b\b\b\b\b\b\b\b\b\b\b\b\b\b\b\b\b\b\b\b\b\b\b\b\b\b\b\b\b\b\b\b\b\b\b\b\b\b\b\b\b\b\b\b\b\b\b\b\b\b\b\b\b\b\b\b\b\b\b\b\b\b\b\b\b\b\b\b\b\b\b\b\b\b\b\b\b\b\b\b\b\b\b\b\b\b\b\b\b\b\b\b\b\b\b\b\b\b\b\b\b\b\b\b\b\b\b\b\b\b\b\b\b\b\b\b\b\b\b\b\b\b\b\b\b\b\b\b\b\b\b\b\b\b\b\b\b\b\b\b\b\b\b\b\b\b\b\b\b\b\b\b\b\b\b\b\b\b\b\b\b\b\b\b\b\b\b\b\b\b\b\b\b\b\b\b\b\b\b\b\b\b\b\b\b\b\b\b\b\b\b\b\b\b\b\b\b\b\b\b\b\b\b\b\b\b\b\b\b\b\b\b\b\b\b\b\b\b\b\b\b\b\b\b\b\b\b\b\b\b\b\b\b\b\b\b\b\b\b\b\b\b\b\b\b\b\b\b\b\b\b\b\b\b\b\b\b\b\b\b\b\b\b\b\b\b\b\b\b\b\b\b\b\b\b\b\b\b\b\b\b\b\b\b\b\b\b\b\b\b\b\b\b\b\b\b\b\b\b\b\b\b\b\b\b\b\b\b\b\b\b\b\b\b\b\b\b\b\b\b\b\b\b\b\b\b\b\b\b\b\b\b\b\b\b\b\b\b\b\b\b\b\b\b\b\b\b\b\b\b\b\b\b\b\b\b\b\b\b\b\b\b\b\b\b\b\b\b\b\b\b\b\b\b\b\b\b\b\b\b\b\b\b\b\b\b\b\b\b\b\b\b\b\b\b\b\b\b\b\b\b\b\b\b\b\b\b\b\b\b\b\b\b\b\b\b\b\b\b\b\b\b\b\b\b\b\b\b\b\b\b\b\b\b\b\b\b\b\b\b\b\b\b\b\b\b\b\b\b\b\b\b\b\b\b\b\b\b\b\b\b\b\b\b\b\b\b\b\b\b\b\b\b\b\b\b\b\b\b\b\b\b\b\b\b\b\b\b\b\b\b\b\b\b\b\b\b\b\b\b\b\b\b\b\b\b\b\b\b\b\b\b\b\b\b\b\b\b\b\b\b\b\b\b\b\b\b\b\b\b\b\b\b\b\b\b\b\b\b\b\b\b\b\b\b\b\b\b\b\b\b\b\b\b\b\b\b\b\b\b\b\b\b\b\b\b\b\b\b\b\b\b\b\b\b\b\b\b\b\b\b\b\b\b\b\b\b\b\b\b\b\b\b\b\b\b\b\b\b\b\b\b\b\b\b\b\b\b\b\b\b\b\b\b\b\b\b\b\b\b\b\b\b\b\b\b\b\b\b\b\b\b\b\b\b\b\b\b\b\b\b\b\b\b\b\b\b\b\b\b\b\b\b\b\b\b\b\b\b\b\b\b\b\b\b\b\b\b\b\b\b\b\b\b\b\b\b\b\b\b\b\b\b\b\b\b\b\b\b\b\b\b\b\b\b\b\b\b\b\b\b\b\b\b\b\b\b\b\b\b\b\b\b\b\b\b\b\b\b\b\b\b\b\b\b\b\b\b\b\b\b\b\b\b\b\b\b\b\b\b\b\b\b\b\b\b\b\b\b\b\b\b\b\b\b\b\b\b\b\b\b\b\b\b\b\b\b\b\b\b\b\b\b\b\b\b\b\b\b\b\b\b\b\b\b\b\b\b\b\b\b\b\b\b\b\b\b\b\b\b\b\b\b\b\b\b\b\b\b\b\b\b\b\b\b\b\b\b\b\b\b\b\b\b\b\b\b\b\b\b\b\b\b\b\b\b\b\b\b\b\b\b\b\b\b\b\b\b\b\b\b\b\b\b\b\b\b\b\b\b\b\b\b\b\b\b\b\b\b\b\b\b\b\b\b\b\b\b\b\b\b\b\b\b\b\b\b\b\b\b\b\b\b\b\b\b\b\b\b\b\b\b\b\b\b\b\b\b\b\b\b\b\b\b\b\b\b\b\b\b\b\b\b\b\b\b\b\b\b\b\b\b\b\b\b\b\b\b\b\b\b\b\b\b\b\b\b\b\b\b\b\b\b\b\b\b\b\b\b\b\b\b\b\b\b\b\b\b\b\b\b\b\b\b\b\b\b\b\b\b\b\b\b\b\b\b\b\b\b\b\b\b\b\b\b\b\b\b\b\b\b\b\b\b\b\b\b\b\b\b\b\b\b\b\b\b\b\b\b\b\b\b\b\b\b\b\b\b\b\b\b\b\b\b\b\b\b\b\b\b\b\b\b\b\b\b\b\b\b\b\b\b\b\b\b\b\b\b\b\b\b\b\b\b\b\b\b\b\b\b\b\b\b\b\b\b\b\b\b\b\b\b\b\b\b\b\b\b\b\b\b\b\b\b\b\b\b\b\b\b\b\b\b\b\b\b\b\b\b\b\b\b\b\b\b\b\b\b\b\b\b\b\b\b\b\b\b\b\b\b\b\b\b\b\b\b\b\b\b\b\b\b\b\b\b\b\b\b\b\b\b\b\b\b\b\b\b\b\b\b\b\b\b\b\b\b\b\b\b\b\b\b\b\b\b\b\b\b\b\b\b\b\b\b\b\b\b\b\b\b\b\b\b\b\b\b\b\b\b\b\b\b\b\b\b\b\b\b\b\b\b\b\b\b\b\b\b\b\b\b\b\b\b\b\b\b\b\b\b\b\b\b\b\b\b\b\b\b\b\b\b\b\b\b\b\b\b\b\b\b\b\b\b\b\b\b\b\b\b\b\b\b\b\b\b\b\b\b\b\b\b\b\b\b\b\b\b\b\b\b\b\b\b\b\b\b\b\b\b\b\b\b\b\b\b\b\b\b\b\b\b\b\b\b\b\b\b\b\b\b\b\b\b\b\b\b\b\b\b\b\b\b\b\b\b\b\b\b\b\b\b\b\b\b\b\b\b\b\b\b\b\b\b\b\b\b\b\b\b\b\b\b\b\b\b\b\b\b\b\b\b\b\b\b\b\b\b\b\b\b\b\b\b\b\b\b\b\b\b\b\b\b\b\b\b\b\b\b\b\b\b\b\b\b\b\b\b\b\b\b\b\b\b\b\b\b\b\b\b\b\b\b\b\b\b\b\b\b\b\b\b\b\b\b\b\b\b\b\b\b\b\b\b\b\b\b\b\b\b\b\b\b\b\b\b\b\b\b\b\b\b\b\b\b\b\b\b\b\b\b\b\b\b\b\b\b\b\b\b\b\b\b\b\b\b\b\b\b\b\b\b\b\b\b\b\b\b\b\b\b\b\b\b\b\b\b\b\b\b\b\b\b\b\b\b\b\b\b\b\b\b\b\b\b\b\b\b\b\b\b\b\b\b\b\b\b\b\b\b\b\b\b\b\b\b\b\b\b\b\b\b\b\b\b\b\b\b\b\b\b\b\b\b\b\b\b\b\b\b\b\b\b\b\b\b\b\b\b\b\b\b\b\b\b\b\b\b\b\b\b\b\b\b\b\b\b\b\b\b\b\b\b\b\b\b\b\b\b\b\b\b\b\b\b\b\b\b\b\b\b\b\b\b\b\b\b\b\b\b\b\b\b\b\b\b\b\b\b\b\b\b\b\b\b\b\b\b\b\b\b\b\b\b\b\b\b\b\b\b\b\b\b\b\b\b\b\b\b\b\b\b\b\b\b\b\b\b\b\b\b\b\b\b\b\b\b\b\b\b\b\b\b\b\b\b\b\b\b\b\b\b\b\b\b\b\b\b\b\b\b\b\b\b\b\b\b\b\b\b\b\b\b\b\b\b\b\b\b\b\b\b\b\b\b\b\b\b\b\b\b\b\b\b\b\b\b\b\b\b\b\b\b\b\b\b\b\b\b\b\b\b\b\b\b\b\b\b\b\b\b\b\b\b\b\b\b\b\b\b\b\b\b\b\b\b\b\b\b\b\b\b\b\b\b\b\b\b\b\b\b\b\b\b\b\b\b\b\b\b\b\b\b\b\b\b\b\b\b\b\b\b\b\b\b\b\b\b\b\b\b\b\b\b\b\b\b\b\b\b\b\b\b\b\b\b\b\b\b\b\b\b\b\b\b\b\b\b\b\b\b\b\b\b\b\b\b\b\b\b\b\b\b\b\b\b\b\b\b\b\b\b\b\b\b\b\b\b\b\b\b\b\b\b\b\b\b\b\b\b\b\b\b\b\b\b\b\b\b\b\b\b\b\b\b\b\b\b\b\b\b\b\b\b\b\b\b\b\b\b\b\b\b\b\b\b\b\b\b\b\b\b\b\b\b\b\b\b\b\b\b\b\b\b\b\b\b\b\b\b\b\b\b\b\b\b\b\b\b\b\b\b\b\b\b\b\b\b\b\b\b\b\b\b\b\b\b\b\b\b\b\b\b\b\b\b\b\b\b\b\b\b\b\b\b\b\b\b\b\b\b\b\b\b\b\b\b\b\b\b\b\b\b\b\b\b\b\b\b\b\b\b\b\b\b\b\b\b\b\b\b\b\b\b\b\b\b\b\b\b\b\b\b\b\b\b\b\b\b\b\b\b\b\b\b\b\b\b\b\b\b\b\b\b\b\b\b\b\b\b\b\b\b\b\b\b\b\b\b\b\b\b\b\b\b\b\b\b\b\b\b\b\b\b\b\b\b\b\b\b\b\b\b\b\b\b\b\b\b\b\b\b\b\b\b\b\b\b\b\b\b\b\b\b\b\b\b\b\b\b\b\b\b\b\b\b\b\b\b\b\b\b\b\b\b\b\b\b\b\b\b\b\b\b\b\b\b\b\b\b\b\b\b\b\b\b\b\b\b\b\b\b\b\b\b\b\b\b\b\b\b\b\b\b\b\b\b\b\b\b\b\b\b\b\b\b\b\b\b\b\b\b\b\b\b\b\b\b\b\b\b\b\b\b\b\b\b\b\b\b\b\b\b\b\b\b\b\b\b\b\b\b\b\b\b\b\b\b\b\b\b\b\b\b\b\b\b\b\b\b\b\b\b\b\b\b\b\b\b\b\b\b\b\b\b\b\b\b\b\b\b\b\b\b\b\b\b\b\b\b\b\b\b\b\b\b\b\b\b\b\b\b\b\b\b\b\b\b\b\b\b\b\b\b\b\b\b\b\b\b\b\b\b\b\b\b\b\b\b\b\b\b\b\b\b\b\b\b\b\b\b\b\b\b\b\b\b\b\b\b\b\b\b\b\b\b\b\b\b\b\b\b\b\b\b\b\b\b\b\b\b\b\b\b\b\b\b\b\b\b\b\b\b\b\b\b\b\b\b\b\b\b\b\b\b\b\b\b\b\b\b\b\b\b\b\b\b\b\b\b\b\b\b\b\b\b\b\b\b\b\b\b\b\b\b\b\b\b\b\b\b\b\b\b\b\b\b\b\b\b\b\b\b\b\b\b\b\b\b\b\b\b\b\b\b\b\b\b\b\b\b\b\b\b\b\b\b\b\b\b\b\b\b\b\b\b\b\b\b\b\b\b\b\b\b\b\b\b\b\b\b\b\b\b\b\b\b\b\b\b\b\b\b\b\b\b\b\b\b\b\b\b\b\b\b\b\b\b\b\b\b\b\b\b\b\b\b\b\b\b\b\b\b\b\b\b\b\b\b\b\b\b\b\b\b\b\b\b\b\b\b\b\b\b\b\b\b\b\b\b\b\b\b\b\b\b\b\b\b\b\b\b\b\b\b\b\b\b\b\b\b\b\b\b\b\b\b\b\b\b\b\b\b\b\b\b\b\b\b\b\b\b\b\b\b\b\b\b\b\b\b\b\b\b\b\b\b\b\b\b\b\b\b\b\b\b\b\b\b\b\b\b\b\b\b\b\b\b\b\b\b\b\b\b\b\b\b\b\b\b\b\b\b\b\b\b\b\b\b\b\b\b\b\b\b\b\b\b\b\b\b\b\b\b\b\b\b\b\b\b\b\b\b\b\b\b\b\b\b\b\b\b\b\b\b\b\b\b\b\b\b\b\b\b\b\b\b\b\b\b\b\b\b\b\b\b\b\b\b\b\b\b\b\b\b\b\b\b\b\b\b\b\b\b\b\b\b\b\b\b\b\b\b\b\b\b\b\b\b\b\b\b\b\b\b\b\b\b\b\b\b\b\b\b\b\b\b\b\b\b\b\b\b\b\b\b\b\b\b\b\b\b\b\b\b\b\b\b\b\b\b\b\b\b\b\b\b\b\b\b\b\b\b\b\b\b\b\b\b\b\b\b\b\b\b\b\b\b\b\b\b\b\b\b\b\b\b\b\b\b\b\b\b\b\b\b\b\b\b\b\b\b\b\b\b\b\b\b\b\b\b\b\b\b\b\b\b\b\b\b\b\b\b\b\b\b\b\b\b\b\b\b\b\b\b\b\b\b\b\b\b\b\b\b\b\b\b\b\b\b\b\b\b\b\b\b\b\b\b\b\b\b\b\b\b\b\b\b\b\b\b\b\b\b\b\b\b\b\b\b\b\b\b\b\b\b\b\b\b\b\b\b\b\b\b\b\b\b\b\b\b\b\b\b\b\b\b\b\b\b\b\b\b\b\b\b\b\b\b\b\b\b\b\b\b\b\b\b\b\b\b\b\b\b\b\b\b\b\b\b\b\b\b\b\b\b\b\b\b\b\b\b\b\b\b\b\b\b\b\b\b\b\b\b\b\b\b\b\b\b\b\b\b\b\b\b\b\b\b\b\b\b\b\b\b\b\b\b\b\b\b\b\b\b\b\b\b\b\b\b\b\b\b\b\b\b\b\b\b\b\b\b\b\b\b\b\b\b\b\b\b\b\b\b\b\b\b\b\b\b\b\b\b\b\b\b\b\b\b\b\b\b\b\b\b\b\b\b\b\b\b\b\b\b\b\b\b\b\b\b\b\b\b\b\b\b\b\b\b\b\b\b\b\b\b\b\b\b\b\b\b\b\b\b\b\b\b\b\b\b\b\b\b\b\b\b\b\b\b\b\b\b\b\b\b\b\b\b\b\b\b\b\b\b\b\b\b\b\b\b\b\b\b\b\b\b\b\b\b\b\b\b\b\b\b\b\b\b\b\b\b\b\b\b\b\b\b\b\b\b\b\b\b\b\b\b\b\b\b\b\b\b\b\b\b\b\b\b\b\b\b\b\b\b\b\b\b\b\b\b\b\b\b\b\b\b\b\b\b\b\b\b\b\b\b\b\b\b\b\b\b\b\b\b\b\b\b\b\b\b\b\b\b\b\b\b\b\b\b\b\b\b\b\b\b\b\b\b\b\b\b\b\b\b\b\b\b\b\b\b\b\b\b\b\b\b\b\b\b\b\b\b\b\b\b\b\b\b\b\b\b\b\b\b\b\b\b\b\b\b\b\b\b\b\b\b\b\b\b\b\b\b\b\b\b\b\b\b\b\b\b\b\b\b\b\b\b\b\b\b\b\b\b\b\b\b\b\b\b\b\b\b\b\b\b\b\b\b\b\b\b\b\b\b\b\b\b\b\b\b\b\b\b\b\b\b\b\b\b\b\b\b\b\b\b\b\b\b\b\b\b\b\b\b\b\b\b\b\b\b\b\b\b\b\b\b\b\b\b\b\b\b\b\b\b\b\b\b\b\b\b\b\b\b\b\b\b\b\b\b\b\b\b\b\b\b\b\b\b\b\b\b\b\b\b\b\b\b\b\b\b\b\b\b\b\b\b\b\b\b\b\b\b\b\b\b\b\b\b\b\b\b\b\b\b\b\b\b\b\b\b\b\b\b\b\b\b\b\b\b\b\b\b\b\b\b\b\b\b\b\b\b\b\b\b\b\b\b\b\b\b\b\b\b\b\b\b\b\b\b\b\b\b\b\b\b\b\b\b\b\b\b\b\b\b\b\b\b\b\b\b\b\b\b\b\b\b\b\b\b\b\b\b\b\b\b\b\b\b\b\b\b\b\b\b\b\b\b\b\b\b\b\b\b\b\b\b\b\b\b\b\b\b\b\b\b\b\b\b\b\b\b\b\b\b\b\b\b\b\b\b\b\b\b\b\b\b\b\b\b\b\b\b\b\b\b\b\b\b\b\b\b\b\b\b\b\b\b\b\b\b\b\b\b\b\b\b\b\b\b\b\b\b\b\b\b\b\b\b\b\b\b\b\b\b\b\b\b\b\b\b\b\b\b\b\b\b\b\b\b\b\b\b\b\b\b\b\b\b\b\b\b\b\b\b\b\b\b\b\b\b\b\b\b\b\b\b\b\b\b\b\b\b\b\b\b\b\b\b\b\b\b\b\b\b\b\b\b\b\b\b\b\b\b\b\b\b\b\b\b\b\b\b\b\b\b\b\b\b\b\b\b\b\b\b\b\b\b\b\b\b\b\b\b\b\b\b\b\b\b\b\b\b\b\b\b\b\b\b\b\b\b\b\b\b\b\b\b\b\b\b\b\b\b\b\b\b\b\b\b\b\b\b\b\b\b\b\b\b\b\b\b\b\b\b\b\b\b\b\b\b\b\b\b\b\b\b\b\b\b\b\b\b\b\b\b\b\b\b\b\b\b\b\b\b\b\b\b\b\b\b\b\b\b\b\b\b\b\b\b\b\b\b\b\b\b\b\b\b\b\b\b\b\b\b\b\b\b\b\b\b\b\b\b\b\b\b\b\b\b\b\b\b\b\b\b\b\b\b\b\b\b\b\b\b\b\b\b\b\b\b\b\b\b\b\b\b\b\b\b\b\b\b\b\b\b\b\b\b\b\b\b\b\b\b\b\b\b\b\b\b\b\b\b\b\b\b\b\b\b\b\b\b\b\b\b\b\b\b\b\b\b\b\b\b\b\b\b\b\b\b\b\b\b\b\b\b\b\b\b\b\b\b\b\b\b\b\b\b\b\b\b\b\b\b\b\b\b\b\b\b\b\b\b\b\b\b\b\b\b\b\b\b\b\b\b\b\b\b\b\b\b\b\b\b\b\b\b\b\b\b\b\b\b\b\b\b\b\b\b\b\b\b\b\b\b\b\b\b\b\b\b\b\b\b\b\b\b\b\b\b\b\b\b\b\b\b\b\b\b\b\b\b\b\b\b\b\b\b\b\b\b\b\b\b\b\b\b\b\b\b\b\b\b\b\b\b\b\b\b\b\b\b\b\b\b\b\b\b\b\b\b\b\b\b\b\b\b\b\b\b\b\b\b\b\b\b\b\b\b\b\b\b\b\b\b\b\b\b\b\b\b\b\b\b\b\b\b\b\b\b\b\b\b\b\b\b\b\b\b\b\b\b\b\b\b\b\b\b\b\b\b\b\b\b\b\b\b\b\b\b\b\b\b\b\b\b\b\b\b\b\b\b\b\b\b\b\b\b\b\b\b\b\b\b\b\b\b\b\b\b\b\b\b\b\b\b\b\b\b\b\b\b\b\b\b\b\b\b\b\b\b\b\b\b\b\b\b\b\b\b\b\b\b\b\b\b\b\b\b\b\b\b\b\b\b\b\b\b\b\b\b\b\b\b\b\b\b\b\b\b\b\b\b\b\b\b\b\b\b\b\b\b\b\b\b\b\b\b\b\b\b\b\b\b\b\b\b\b\b\b\b\b\b\b\b\b\b\b\b\b\b\b\b\b\b\b\b\b\b\b\b\b\b\b\b\b\b\b\b\b\b\b\b\b\b\b\b\b\b\b\b\b\b\b\b\b\b\b\b\b\b\b\b\b\b\b\b\b\b\b\b\b\b\b\b\b\b\b\b\b\b\b\b\b\b\b\b\b\b\b\b\b\b\b\b\b\b\b\b\b\b\b\b\b\b\b\b\b\b\b\b\b\b\b\b\b\b\b\b\b\b\b\b\b\b\b\b\b\b\b\b\b\b\b\b\b\b\b\b\b\b\b\b\b\b\b\b\b\b\b\b\b\b\b\b\b\b\b\b\b\b\b\b\b\b\b\b\b\b\b\b\b\b\b\b\b\b\b\b\b\b\b\b\b\b\b\b\b\b\b\b\b\b\b\b\b\b\b\b\b\b\b\b\b\b\b\b\b\b\b\b\b\b\b\b\b\b\b\b\b\b\b\b\b\b\b\b\b\b\b\b\b\b\b\b\b\b\b\b\b\b\b\b\b\b\b\b\b\b\b\b\b\b\b\b\b\b\b\b\b\b\b\b\b\b\b\b\b\b\b\b\b\b\b\b\b\b\b\b\b\b\b\b\b\b\b\b\b\b\b\b\b\b\b\b\b\b\b\b\b\b\b\b\b\b\b\b\b\b\b\b\b\b\b\b\b\b\b\b\b\b\b\b\b\b\b\b\b\b\b\b\b\b\b\b\b\b\b\b\b\b\b\b\b\b\b\b\b\b\b\b\b\b\b\b\b\b\b\b\b\b\b\b\b\b\b\b\b\b\b\b\b\b\b\b\b\b\b\b\b\b\b\b\b\b\b\b\b\b\b\b\b\b\b\b\b\b\b\b\b\b\b\b\b\b\b\b\b\b\b\b\b\b\b\b\b\b\b\b\b\b\b\b\b\b\b\b\b\b\b\b\b\b\b\b\b\b\b\b\b\b\b\b\b\b\b\b\b\b\b\b\b\b\b\b\b\b\b\b\b\b\b\b\b\b\b\b\b\b\b\b\b\b\b\b\b\b\b\b\b\b\b\b\b\b\b\b\b\b\b\b\b\b\b\b\b\b\b\b\b\b\b\b\b\b\b\b\b\b\b\b\b\b\b\b\b\b\b\b\b\b\b\b\b\b\b\b\b\b\b\b\b\b\b\b\b\b\b\b\b\b\b\b\b\b\b\b\b\b\b\b\b\b\b\b\b\b\b\b\b\b\b\b\b\b\b\b\b\b\b\b\b\b\b\b\b\b\b\b\b\b\b\b\b\b\b\b\b\b\b\b\b\b\b\b\b\b\b\b\b\b\b\b\b\b\b\b\b\b\b\b\b\b\b\b\b\b\b\b\b\b\b\b\b\b\b\b\b\b\b\b\b\b\b\b\b\b\b\b\b\b\b\b\b\b\b\b\b\b\b\b\b\b\b\b\b\b\b\b\b\b\b\b\b\b\b\b\b\b\b\b\b\b\b\b\b\b\b\b\b\b\b\b\b\b\b\b\b\b\b\b\b\b\b\b\b\b\b\b\b\b\b\b\b\b\b\b\b\b\b\b\b\b\b\b\b\b\b\b\b\b\b\b\b\b\b\b\b\b\b\b\b\b\b\b\b\b\b\b\b\b\b\b\b\b\b\b\b\b\b\b\b\b\b\b\b\b\b\b\b\b\b\b\b\b\b\b\b\b\b\b\b\b\b\b\b\b\b\b\b\b\b\b\b\b\b\b\b\b\b\b\b\b\b\b\b\b\b\b\b\b\b\b\b\b\b\b\b\b\b\b\b\b\b\b\b\b\b\b\b\b\b\b\b\b\b\b\b\b\b\b\b\b\b\b\b\b\b\b\b\b\b\b\b\b\b\b\b\b\b\b\b\b\b\b\b\b\b\b\b\b\b\b\b\b\b\b\b\b\b\b\b\b\b\b\b\b\b\b\b\b\b\b\b\b\b\b\b\b\b\b\b\b\b\b\b\b\b\b\b\b\b\b\b\b\b\b\b\b\b\b\b\b\b\b\b\b\b\b\b\b\b\b\b\b\b\b\b\b\b\b\b\b\b\b\b\b\b\b\b\b\b\b\b\b\b\b\b\b\b\b\b\b\b\b\b\b\b\b\b\b\b\b\b\b\b\b\b\b\b\b\b\b\b\b\b\b\b\b\b\b\b\b\b\b\b\b\b\b\b\b\b\b\b\b\b\b\b\b\b\b\b\b\b\b\b\b\b\b\b\b\b\b\b\b\b\b\b\b\b\b\b\b\b\b\b\b\b\b\b\b\b\b\b\b\b\b\b\b\b\b\b\b\b\b\b\b\b\b\b\b\b\b\b\b\b\b\b\b\b\b\b\b\b\b\b\b\b\b\b\b\b\b\b\b\b\b\b\b\b\b\b\b\b\b\b\b\b\b\b\b\b\b\b\b\b\b\b\b\b\b\b\b\b\b\b\b\b\b\b\b\b\b\b\b\b\b\b\b\b\b\b\b\b\b\b\b\b\b\b\b\b\b\b\b\b\b\b\b\b\b\b\b\b\b\b\b\b\b\b\b\b\b\b\b\b\b\b\b\b\b\b\b\b\b\b\b\b\b\b\b\b\b\b\b\b\b\b\b\b\b\b\b\b\b\b\b\b\b\b\b\b\b\b\b\b\b\b\b\b\b\b\b\b\b\b\b\b\b\b\b\b\b\b\b\b\b\b\b\b\b\b\b\b\b\b\b\b\b\b\b\b\b\b\b\b\b\b\b\b\b\b\b\b\b\b\b\b\b\b\b\b\b\b\b\b\b\b\b\b\b\b\b\b\b\b\b\b\b\b\b\b\b\b\b\b\b\b\b\b\b\b\b\b\b\b\b\b\b\b\b\b\b\b\b\b\b\b\b\b\b\b\b\b\b\b\b\b\b\b\b\b\b\b\b\b\b\b\b\b\b\b\b\b\b\b\b\b\b\b\b\b\b\b\b\b\b\b\b\b\b\b\b\b\b\b\b\b\b\b\b\b\b\b\b\b\b\b\b\b\b\b\b\b\b\b\b\b\b\b\b\b\b\b\b\b\b\b\b\b\b\b\b\b\b\b\b\b\b\b\b\b\b\b\b\b\b\b\b\b\b\b\b\b\b\b\b\b\b\b\b\b\b\b\b\b\b\b\b\b\b\b\b\b\b\b\b\b\b\b\b\b\b\b\b\b\b\b\b\b\b\b\b\b\b\b\b\b\b\b\b\b\b\b\b\b\b\b\b\b\b\b\b\b\b\b\b\b\b\b\b\b\b\b\b\b\b\b\b\b\b\b\b\b\b\b\b\b\b\b\b\b\b\b\b\b\b\b\b\b\b\b\b\b\b\b\b\b\b\b\b\b\b\b\b\b\b\b\b\b\b\b\b\b\b\b\b\b\b\b\b\b\b\b\b\b\b\b\b\b\b\b\b\b\b\b\b\b\b\b\b\b\b\b\b\b\b\b\b\b\b\b\b\b\b\b\b\b\b\b\b\b\b\b\b\b\b\b\b\b\b\b\b\b\b\b\b\b\b\b\b\b\b\b\b\b\b\b\b\b\b\b\b\b\b\b\b\b\b\b\b\b\b\b\b\b\b\b\b\b\b\b\b\b\b\b\b\b\b\b\b\b\b\b\b\b\b\b\b\b\b\b\b\b\b\b\b\b\b\b\b\b\b\b\b\b\b\b\b\b\b\b\b\b\b\b\b\b\b\b\b\b\b\b\b\b\b\b\b\b\b\b\b\b\b\b\b\b\b\b\b\b\b\b\b\b\b\b\b\b\b\b\b\b\b\b\b\b\b\b\b\b\b\b\b\b\b\b\b\b\b\b\b\b\b\b\b\b\b\b\b\b\b\b\b\b\b\b\b\b\b\b\b\b\b\b\b\b\b\b\b\b\b\b\b\b\b\b\b\b\b\b\b\b\b\b\b\b\b\b\b\b\b\b\b\b\b\b\b\b\b\b\b\b\b\b\b\b\b\b\b\b\b\b\b\b\b\b\b\b\b\b\b\b\b\b\b\b\b\b\b\b\b\b\b\b\b\b\b\b\b\b\b\b\b\b\b\b\b\b\b\b\b\b\b\b\b\b\b\b\b\b\b\b\b\b\b\b\b\b\b\b\b\b\b\b\b\b\b\b\b\b\b\b\b\b\b\b\b\b\b\b\b\b\b\b\b\b\b\b\b\b\b\b\b\b\b\b\b\b\b\b\b\b\b\b\b\b\b\b\b\b\b\b\b\b\b\b\b\b\b\b\b\b\b\b\b\b\b\b\b\b\b\b\b\b\b\b\b\b\b\b\b\b\b\b\b\b\b\b\b\b\b\b\b\b\b\b\b\b\b\b\b\b\b\b\b\b\b\b\b\b\b\b\b\b\b\b\b\b\b\b\b\b\b\b\b\b\b\b\b\b\b\b\b\b\b\b\b\b\b\b\b\b\b\b\b\b\b\b\b\b\b\b\b\b\b\b\b____________________________________________________________________________________________________\n",
      "Layer (type)                     Output Shape          Param #     Connected to                     \n",
      "====================================================================================================\n",
      "input_1 (InputLayer)             (None, 3, 224, 224)   0                                            \n",
      "____________________________________________________________________________________________________\n",
      "zeropadding2d_1 (ZeroPadding2D)  (None, 3, 230, 230)   0           input_1[0][0]                    \n",
      "____________________________________________________________________________________________________\n",
      "conv1 (Convolution2D)            (None, 64, 112, 112)  9472        zeropadding2d_1[0][0]            \n",
      "____________________________________________________________________________________________________\n",
      "bn_conv1 (BatchNormalization)    (None, 64, 112, 112)  128         conv1[0][0]                      \n",
      "____________________________________________________________________________________________________\n",
      "activation_1 (Activation)        (None, 64, 112, 112)  0           bn_conv1[0][0]                   \n",
      "____________________________________________________________________________________________________\n",
      "maxpooling2d_1 (MaxPooling2D)    (None, 64, 55, 55)    0           activation_1[0][0]               \n",
      "____________________________________________________________________________________________________\n",
      "res2a_branch2a (Convolution2D)   (None, 64, 55, 55)    4160        maxpooling2d_1[0][0]             \n",
      "____________________________________________________________________________________________________\n",
      "bn2a_branch2a (BatchNormalization(None, 64, 55, 55)    128         res2a_branch2a[0][0]             \n",
      "____________________________________________________________________________________________________\n",
      "activation_2 (Activation)        (None, 64, 55, 55)    0           bn2a_branch2a[0][0]              \n",
      "____________________________________________________________________________________________________\n",
      "res2a_branch2b (Convolution2D)   (None, 64, 55, 55)    36928       activation_2[0][0]               \n",
      "____________________________________________________________________________________________________\n",
      "bn2a_branch2b (BatchNormalization(None, 64, 55, 55)    128         res2a_branch2b[0][0]             \n",
      "____________________________________________________________________________________________________\n",
      "activation_3 (Activation)        (None, 64, 55, 55)    0           bn2a_branch2b[0][0]              \n",
      "____________________________________________________________________________________________________\n",
      "res2a_branch2c (Convolution2D)   (None, 256, 55, 55)   16640       activation_3[0][0]               \n",
      "____________________________________________________________________________________________________\n",
      "res2a_branch1 (Convolution2D)    (None, 256, 55, 55)   16640       maxpooling2d_1[0][0]             \n",
      "____________________________________________________________________________________________________\n",
      "bn2a_branch2c (BatchNormalization(None, 256, 55, 55)   512         res2a_branch2c[0][0]             \n",
      "____________________________________________________________________________________________________\n",
      "bn2a_branch1 (BatchNormalization)(None, 256, 55, 55)   512         res2a_branch1[0][0]              \n",
      "____________________________________________________________________________________________________\n",
      "merge_1 (Merge)                  (None, 256, 55, 55)   0           bn2a_branch2c[0][0]              \n",
      "                                                                   bn2a_branch1[0][0]               \n",
      "____________________________________________________________________________________________________\n",
      "activation_4 (Activation)        (None, 256, 55, 55)   0           merge_1[0][0]                    \n",
      "____________________________________________________________________________________________________\n",
      "res2b_branch2a (Convolution2D)   (None, 64, 55, 55)    16448       activation_4[0][0]               \n",
      "____________________________________________________________________________________________________\n",
      "bn2b_branch2a (BatchNormalization(None, 64, 55, 55)    128         res2b_branch2a[0][0]             \n",
      "____________________________________________________________________________________________________\n",
      "activation_5 (Activation)        (None, 64, 55, 55)    0           bn2b_branch2a[0][0]              \n",
      "____________________________________________________________________________________________________\n",
      "res2b_branch2b (Convolution2D)   (None, 64, 55, 55)    36928       activation_5[0][0]               \n",
      "____________________________________________________________________________________________________\n",
      "bn2b_branch2b (BatchNormalization(None, 64, 55, 55)    128         res2b_branch2b[0][0]             \n",
      "____________________________________________________________________________________________________\n",
      "activation_6 (Activation)        (None, 64, 55, 55)    0           bn2b_branch2b[0][0]              \n",
      "____________________________________________________________________________________________________\n",
      "res2b_branch2c (Convolution2D)   (None, 256, 55, 55)   16640       activation_6[0][0]               \n",
      "____________________________________________________________________________________________________\n",
      "bn2b_branch2c (BatchNormalization(None, 256, 55, 55)   512         res2b_branch2c[0][0]             \n",
      "____________________________________________________________________________________________________\n",
      "merge_2 (Merge)                  (None, 256, 55, 55)   0           bn2b_branch2c[0][0]              \n",
      "                                                                   activation_4[0][0]               \n",
      "____________________________________________________________________________________________________\n",
      "activation_7 (Activation)        (None, 256, 55, 55)   0           merge_2[0][0]                    \n",
      "____________________________________________________________________________________________________\n",
      "res2c_branch2a (Convolution2D)   (None, 64, 55, 55)    16448       activation_7[0][0]               \n",
      "____________________________________________________________________________________________________\n",
      "bn2c_branch2a (BatchNormalization(None, 64, 55, 55)    128         res2c_branch2a[0][0]             \n",
      "____________________________________________________________________________________________________\n",
      "activation_8 (Activation)        (None, 64, 55, 55)    0           bn2c_branch2a[0][0]              \n",
      "____________________________________________________________________________________________________\n",
      "res2c_branch2b (Convolution2D)   (None, 64, 55, 55)    36928       activation_8[0][0]               \n",
      "____________________________________________________________________________________________________\n",
      "bn2c_branch2b (BatchNormalization(None, 64, 55, 55)    128         res2c_branch2b[0][0]             \n",
      "____________________________________________________________________________________________________\n",
      "activation_9 (Activation)        (None, 64, 55, 55)    0           bn2c_branch2b[0][0]              \n",
      "____________________________________________________________________________________________________\n",
      "res2c_branch2c (Convolution2D)   (None, 256, 55, 55)   16640       activation_9[0][0]               \n",
      "____________________________________________________________________________________________________\n",
      "bn2c_branch2c (BatchNormalization(None, 256, 55, 55)   512         res2c_branch2c[0][0]             \n",
      "____________________________________________________________________________________________________\n",
      "merge_3 (Merge)                  (None, 256, 55, 55)   0           bn2c_branch2c[0][0]              \n",
      "                                                                   activation_7[0][0]               \n",
      "____________________________________________________________________________________________________\n",
      "activation_10 (Activation)       (None, 256, 55, 55)   0           merge_3[0][0]                    \n",
      "____________________________________________________________________________________________________\n",
      "res3a_branch2a (Convolution2D)   (None, 128, 28, 28)   32896       activation_10[0][0]              \n",
      "____________________________________________________________________________________________________\n",
      "bn3a_branch2a (BatchNormalization(None, 128, 28, 28)   256         res3a_branch2a[0][0]             \n",
      "____________________________________________________________________________________________________\n",
      "activation_11 (Activation)       (None, 128, 28, 28)   0           bn3a_branch2a[0][0]              \n",
      "____________________________________________________________________________________________________\n",
      "res3a_branch2b (Convolution2D)   (None, 128, 28, 28)   147584      activation_11[0][0]              \n",
      "____________________________________________________________________________________________________\n",
      "bn3a_branch2b (BatchNormalization(None, 128, 28, 28)   256         res3a_branch2b[0][0]             \n",
      "____________________________________________________________________________________________________\n",
      "activation_12 (Activation)       (None, 128, 28, 28)   0           bn3a_branch2b[0][0]              \n",
      "____________________________________________________________________________________________________\n",
      "res3a_branch2c (Convolution2D)   (None, 512, 28, 28)   66048       activation_12[0][0]              \n",
      "____________________________________________________________________________________________________\n",
      "res3a_branch1 (Convolution2D)    (None, 512, 28, 28)   131584      activation_10[0][0]              \n",
      "____________________________________________________________________________________________________\n",
      "bn3a_branch2c (BatchNormalization(None, 512, 28, 28)   1024        res3a_branch2c[0][0]             \n",
      "____________________________________________________________________________________________________\n",
      "bn3a_branch1 (BatchNormalization)(None, 512, 28, 28)   1024        res3a_branch1[0][0]              \n",
      "____________________________________________________________________________________________________\n",
      "merge_4 (Merge)                  (None, 512, 28, 28)   0           bn3a_branch2c[0][0]              \n",
      "                                                                   bn3a_branch1[0][0]               \n",
      "____________________________________________________________________________________________________\n",
      "activation_13 (Activation)       (None, 512, 28, 28)   0           merge_4[0][0]                    \n",
      "____________________________________________________________________________________________________\n",
      "res3b_branch2a (Convolution2D)   (None, 128, 28, 28)   65664       activation_13[0][0]              \n",
      "____________________________________________________________________________________________________\n",
      "bn3b_branch2a (BatchNormalization(None, 128, 28, 28)   256         res3b_branch2a[0][0]             \n",
      "____________________________________________________________________________________________________\n",
      "activation_14 (Activation)       (None, 128, 28, 28)   0           bn3b_branch2a[0][0]              \n",
      "____________________________________________________________________________________________________\n",
      "res3b_branch2b (Convolution2D)   (None, 128, 28, 28)   147584      activation_14[0][0]              \n",
      "____________________________________________________________________________________________________\n",
      "bn3b_branch2b (BatchNormalization(None, 128, 28, 28)   256         res3b_branch2b[0][0]             \n",
      "____________________________________________________________________________________________________\n",
      "activation_15 (Activation)       (None, 128, 28, 28)   0           bn3b_branch2b[0][0]              \n",
      "____________________________________________________________________________________________________\n",
      "res3b_branch2c (Convolution2D)   (None, 512, 28, 28)   66048       activation_15[0][0]              \n",
      "____________________________________________________________________________________________________\n",
      "bn3b_branch2c (BatchNormalization(None, 512, 28, 28)   1024        res3b_branch2c[0][0]             \n",
      "____________________________________________________________________________________________________\n",
      "merge_5 (Merge)                  (None, 512, 28, 28)   0           bn3b_branch2c[0][0]              \n",
      "                                                                   activation_13[0][0]              \n",
      "____________________________________________________________________________________________________\n",
      "activation_16 (Activation)       (None, 512, 28, 28)   0           merge_5[0][0]                    \n",
      "____________________________________________________________________________________________________\n",
      "res3c_branch2a (Convolution2D)   (None, 128, 28, 28)   65664       activation_16[0][0]              \n",
      "____________________________________________________________________________________________________\n",
      "bn3c_branch2a (BatchNormalization(None, 128, 28, 28)   256         res3c_branch2a[0][0]             \n",
      "____________________________________________________________________________________________________\n",
      "activation_17 (Activation)       (None, 128, 28, 28)   0           bn3c_branch2a[0][0]              \n",
      "____________________________________________________________________________________________________\n",
      "res3c_branch2b (Convolution2D)   (None, 128, 28, 28)   147584      activation_17[0][0]              \n",
      "____________________________________________________________________________________________________\n",
      "bn3c_branch2b (BatchNormalization(None, 128, 28, 28)   256         res3c_branch2b[0][0]             \n",
      "____________________________________________________________________________________________________\n",
      "activation_18 (Activation)       (None, 128, 28, 28)   0           bn3c_branch2b[0][0]              \n",
      "____________________________________________________________________________________________________\n",
      "res3c_branch2c (Convolution2D)   (None, 512, 28, 28)   66048       activation_18[0][0]              \n",
      "____________________________________________________________________________________________________\n",
      "bn3c_branch2c (BatchNormalization(None, 512, 28, 28)   1024        res3c_branch2c[0][0]             \n",
      "____________________________________________________________________________________________________\n",
      "merge_6 (Merge)                  (None, 512, 28, 28)   0           bn3c_branch2c[0][0]              \n",
      "                                                                   activation_16[0][0]              \n",
      "____________________________________________________________________________________________________\n",
      "activation_19 (Activation)       (None, 512, 28, 28)   0           merge_6[0][0]                    \n",
      "____________________________________________________________________________________________________\n",
      "res3d_branch2a (Convolution2D)   (None, 128, 28, 28)   65664       activation_19[0][0]              \n",
      "____________________________________________________________________________________________________\n",
      "bn3d_branch2a (BatchNormalization(None, 128, 28, 28)   256         res3d_branch2a[0][0]             \n",
      "____________________________________________________________________________________________________\n",
      "activation_20 (Activation)       (None, 128, 28, 28)   0           bn3d_branch2a[0][0]              \n",
      "____________________________________________________________________________________________________\n",
      "res3d_branch2b (Convolution2D)   (None, 128, 28, 28)   147584      activation_20[0][0]              \n",
      "____________________________________________________________________________________________________\n",
      "bn3d_branch2b (BatchNormalization(None, 128, 28, 28)   256         res3d_branch2b[0][0]             \n",
      "____________________________________________________________________________________________________\n",
      "activation_21 (Activation)       (None, 128, 28, 28)   0           bn3d_branch2b[0][0]              \n",
      "____________________________________________________________________________________________________\n",
      "res3d_branch2c (Convolution2D)   (None, 512, 28, 28)   66048       activation_21[0][0]              \n",
      "____________________________________________________________________________________________________\n",
      "bn3d_branch2c (BatchNormalization(None, 512, 28, 28)   1024        res3d_branch2c[0][0]             \n",
      "____________________________________________________________________________________________________\n",
      "merge_7 (Merge)                  (None, 512, 28, 28)   0           bn3d_branch2c[0][0]              \n",
      "                                                                   activation_19[0][0]              \n",
      "____________________________________________________________________________________________________\n",
      "activation_22 (Activation)       (None, 512, 28, 28)   0           merge_7[0][0]                    \n",
      "____________________________________________________________________________________________________\n",
      "res4a_branch2a (Convolution2D)   (None, 256, 14, 14)   131328      activation_22[0][0]              \n",
      "____________________________________________________________________________________________________\n",
      "bn4a_branch2a (BatchNormalization(None, 256, 14, 14)   512         res4a_branch2a[0][0]             \n",
      "____________________________________________________________________________________________________\n",
      "activation_23 (Activation)       (None, 256, 14, 14)   0           bn4a_branch2a[0][0]              \n",
      "____________________________________________________________________________________________________\n",
      "res4a_branch2b (Convolution2D)   (None, 256, 14, 14)   590080      activation_23[0][0]              \n",
      "____________________________________________________________________________________________________\n",
      "bn4a_branch2b (BatchNormalization(None, 256, 14, 14)   512         res4a_branch2b[0][0]             \n",
      "____________________________________________________________________________________________________\n",
      "activation_24 (Activation)       (None, 256, 14, 14)   0           bn4a_branch2b[0][0]              \n",
      "____________________________________________________________________________________________________\n",
      "res4a_branch2c (Convolution2D)   (None, 1024, 14, 14)  263168      activation_24[0][0]              \n",
      "____________________________________________________________________________________________________\n",
      "res4a_branch1 (Convolution2D)    (None, 1024, 14, 14)  525312      activation_22[0][0]              \n",
      "____________________________________________________________________________________________________\n",
      "bn4a_branch2c (BatchNormalization(None, 1024, 14, 14)  2048        res4a_branch2c[0][0]             \n",
      "____________________________________________________________________________________________________\n",
      "bn4a_branch1 (BatchNormalization)(None, 1024, 14, 14)  2048        res4a_branch1[0][0]              \n",
      "____________________________________________________________________________________________________\n",
      "merge_8 (Merge)                  (None, 1024, 14, 14)  0           bn4a_branch2c[0][0]              \n",
      "                                                                   bn4a_branch1[0][0]               \n",
      "____________________________________________________________________________________________________\n",
      "activation_25 (Activation)       (None, 1024, 14, 14)  0           merge_8[0][0]                    \n",
      "____________________________________________________________________________________________________\n",
      "res4b_branch2a (Convolution2D)   (None, 256, 14, 14)   262400      activation_25[0][0]              \n",
      "____________________________________________________________________________________________________\n",
      "bn4b_branch2a (BatchNormalization(None, 256, 14, 14)   512         res4b_branch2a[0][0]             \n",
      "____________________________________________________________________________________________________\n",
      "activation_26 (Activation)       (None, 256, 14, 14)   0           bn4b_branch2a[0][0]              \n",
      "____________________________________________________________________________________________________\n",
      "res4b_branch2b (Convolution2D)   (None, 256, 14, 14)   590080      activation_26[0][0]              \n",
      "____________________________________________________________________________________________________\n",
      "bn4b_branch2b (BatchNormalization(None, 256, 14, 14)   512         res4b_branch2b[0][0]             \n",
      "____________________________________________________________________________________________________\n",
      "activation_27 (Activation)       (None, 256, 14, 14)   0           bn4b_branch2b[0][0]              \n",
      "____________________________________________________________________________________________________\n",
      "res4b_branch2c (Convolution2D)   (None, 1024, 14, 14)  263168      activation_27[0][0]              \n",
      "____________________________________________________________________________________________________\n",
      "bn4b_branch2c (BatchNormalization(None, 1024, 14, 14)  2048        res4b_branch2c[0][0]             \n",
      "____________________________________________________________________________________________________\n",
      "merge_9 (Merge)                  (None, 1024, 14, 14)  0           bn4b_branch2c[0][0]              \n",
      "                                                                   activation_25[0][0]              \n",
      "____________________________________________________________________________________________________\n",
      "activation_28 (Activation)       (None, 1024, 14, 14)  0           merge_9[0][0]                    \n",
      "____________________________________________________________________________________________________\n",
      "res4c_branch2a (Convolution2D)   (None, 256, 14, 14)   262400      activation_28[0][0]              \n",
      "____________________________________________________________________________________________________\n",
      "bn4c_branch2a (BatchNormalization(None, 256, 14, 14)   512         res4c_branch2a[0][0]             \n",
      "____________________________________________________________________________________________________\n",
      "activation_29 (Activation)       (None, 256, 14, 14)   0           bn4c_branch2a[0][0]              \n",
      "____________________________________________________________________________________________________\n",
      "res4c_branch2b (Convolution2D)   (None, 256, 14, 14)   590080      activation_29[0][0]              \n",
      "____________________________________________________________________________________________________\n",
      "bn4c_branch2b (BatchNormalization(None, 256, 14, 14)   512         res4c_branch2b[0][0]             \n",
      "____________________________________________________________________________________________________\n",
      "activation_30 (Activation)       (None, 256, 14, 14)   0           bn4c_branch2b[0][0]              \n",
      "____________________________________________________________________________________________________\n",
      "res4c_branch2c (Convolution2D)   (None, 1024, 14, 14)  263168      activation_30[0][0]              \n",
      "____________________________________________________________________________________________________\n",
      "bn4c_branch2c (BatchNormalization(None, 1024, 14, 14)  2048        res4c_branch2c[0][0]             \n",
      "____________________________________________________________________________________________________\n",
      "merge_10 (Merge)                 (None, 1024, 14, 14)  0           bn4c_branch2c[0][0]              \n",
      "                                                                   activation_28[0][0]              \n",
      "____________________________________________________________________________________________________\n",
      "activation_31 (Activation)       (None, 1024, 14, 14)  0           merge_10[0][0]                   \n",
      "____________________________________________________________________________________________________\n",
      "res4d_branch2a (Convolution2D)   (None, 256, 14, 14)   262400      activation_31[0][0]              \n",
      "____________________________________________________________________________________________________\n",
      "bn4d_branch2a (BatchNormalization(None, 256, 14, 14)   512         res4d_branch2a[0][0]             \n",
      "____________________________________________________________________________________________________\n",
      "activation_32 (Activation)       (None, 256, 14, 14)   0           bn4d_branch2a[0][0]              \n",
      "____________________________________________________________________________________________________\n",
      "res4d_branch2b (Convolution2D)   (None, 256, 14, 14)   590080      activation_32[0][0]              \n",
      "____________________________________________________________________________________________________\n",
      "bn4d_branch2b (BatchNormalization(None, 256, 14, 14)   512         res4d_branch2b[0][0]             \n",
      "____________________________________________________________________________________________________\n",
      "activation_33 (Activation)       (None, 256, 14, 14)   0           bn4d_branch2b[0][0]              \n",
      "____________________________________________________________________________________________________\n",
      "res4d_branch2c (Convolution2D)   (None, 1024, 14, 14)  263168      activation_33[0][0]              \n",
      "____________________________________________________________________________________________________\n",
      "bn4d_branch2c (BatchNormalization(None, 1024, 14, 14)  2048        res4d_branch2c[0][0]             \n",
      "____________________________________________________________________________________________________\n",
      "merge_11 (Merge)                 (None, 1024, 14, 14)  0           bn4d_branch2c[0][0]              \n",
      "                                                                   activation_31[0][0]              \n",
      "____________________________________________________________________________________________________\n",
      "activation_34 (Activation)       (None, 1024, 14, 14)  0           merge_11[0][0]                   \n",
      "____________________________________________________________________________________________________\n",
      "res4e_branch2a (Convolution2D)   (None, 256, 14, 14)   262400      activation_34[0][0]              \n",
      "____________________________________________________________________________________________________\n",
      "bn4e_branch2a (BatchNormalization(None, 256, 14, 14)   512         res4e_branch2a[0][0]             \n",
      "____________________________________________________________________________________________________\n",
      "activation_35 (Activation)       (None, 256, 14, 14)   0           bn4e_branch2a[0][0]              \n",
      "____________________________________________________________________________________________________\n",
      "res4e_branch2b (Convolution2D)   (None, 256, 14, 14)   590080      activation_35[0][0]              \n",
      "____________________________________________________________________________________________________\n",
      "bn4e_branch2b (BatchNormalization(None, 256, 14, 14)   512         res4e_branch2b[0][0]             \n",
      "____________________________________________________________________________________________________\n",
      "activation_36 (Activation)       (None, 256, 14, 14)   0           bn4e_branch2b[0][0]              \n",
      "____________________________________________________________________________________________________\n",
      "res4e_branch2c (Convolution2D)   (None, 1024, 14, 14)  263168      activation_36[0][0]              \n",
      "____________________________________________________________________________________________________\n",
      "bn4e_branch2c (BatchNormalization(None, 1024, 14, 14)  2048        res4e_branch2c[0][0]             \n",
      "____________________________________________________________________________________________________\n",
      "merge_12 (Merge)                 (None, 1024, 14, 14)  0           bn4e_branch2c[0][0]              \n",
      "                                                                   activation_34[0][0]              \n",
      "____________________________________________________________________________________________________\n",
      "activation_37 (Activation)       (None, 1024, 14, 14)  0           merge_12[0][0]                   \n",
      "____________________________________________________________________________________________________\n",
      "res4f_branch2a (Convolution2D)   (None, 256, 14, 14)   262400      activation_37[0][0]              \n",
      "____________________________________________________________________________________________________\n",
      "bn4f_branch2a (BatchNormalization(None, 256, 14, 14)   512         res4f_branch2a[0][0]             \n",
      "____________________________________________________________________________________________________\n",
      "activation_38 (Activation)       (None, 256, 14, 14)   0           bn4f_branch2a[0][0]              \n",
      "____________________________________________________________________________________________________\n",
      "res4f_branch2b (Convolution2D)   (None, 256, 14, 14)   590080      activation_38[0][0]              \n",
      "____________________________________________________________________________________________________\n",
      "bn4f_branch2b (BatchNormalization(None, 256, 14, 14)   512         res4f_branch2b[0][0]             \n",
      "____________________________________________________________________________________________________\n",
      "activation_39 (Activation)       (None, 256, 14, 14)   0           bn4f_branch2b[0][0]              \n",
      "____________________________________________________________________________________________________\n",
      "res4f_branch2c (Convolution2D)   (None, 1024, 14, 14)  263168      activation_39[0][0]              \n",
      "____________________________________________________________________________________________________\n",
      "bn4f_branch2c (BatchNormalization(None, 1024, 14, 14)  2048        res4f_branch2c[0][0]             \n",
      "____________________________________________________________________________________________________\n",
      "merge_13 (Merge)                 (None, 1024, 14, 14)  0           bn4f_branch2c[0][0]              \n",
      "                                                                   activation_37[0][0]              \n",
      "____________________________________________________________________________________________________\n",
      "activation_40 (Activation)       (None, 1024, 14, 14)  0           merge_13[0][0]                   \n",
      "____________________________________________________________________________________________________\n",
      "res5a_branch2a (Convolution2D)   (None, 512, 7, 7)     524800      activation_40[0][0]              \n",
      "____________________________________________________________________________________________________\n",
      "bn5a_branch2a (BatchNormalization(None, 512, 7, 7)     1024        res5a_branch2a[0][0]             \n",
      "____________________________________________________________________________________________________\n",
      "activation_41 (Activation)       (None, 512, 7, 7)     0           bn5a_branch2a[0][0]              \n",
      "____________________________________________________________________________________________________\n",
      "res5a_branch2b (Convolution2D)   (None, 512, 7, 7)     2359808     activation_41[0][0]              \n",
      "____________________________________________________________________________________________________\n",
      "bn5a_branch2b (BatchNormalization(None, 512, 7, 7)     1024        res5a_branch2b[0][0]             \n",
      "____________________________________________________________________________________________________\n",
      "activation_42 (Activation)       (None, 512, 7, 7)     0           bn5a_branch2b[0][0]              \n",
      "____________________________________________________________________________________________________\n",
      "res5a_branch2c (Convolution2D)   (None, 2048, 7, 7)    1050624     activation_42[0][0]              \n",
      "____________________________________________________________________________________________________\n",
      "res5a_branch1 (Convolution2D)    (None, 2048, 7, 7)    2099200     activation_40[0][0]              \n",
      "____________________________________________________________________________________________________\n",
      "bn5a_branch2c (BatchNormalization(None, 2048, 7, 7)    4096        res5a_branch2c[0][0]             \n",
      "____________________________________________________________________________________________________\n",
      "bn5a_branch1 (BatchNormalization)(None, 2048, 7, 7)    4096        res5a_branch1[0][0]              \n",
      "____________________________________________________________________________________________________\n",
      "merge_14 (Merge)                 (None, 2048, 7, 7)    0           bn5a_branch2c[0][0]              \n",
      "                                                                   bn5a_branch1[0][0]               \n",
      "____________________________________________________________________________________________________\n",
      "activation_43 (Activation)       (None, 2048, 7, 7)    0           merge_14[0][0]                   \n",
      "____________________________________________________________________________________________________\n",
      "res5b_branch2a (Convolution2D)   (None, 512, 7, 7)     1049088     activation_43[0][0]              \n",
      "____________________________________________________________________________________________________\n",
      "bn5b_branch2a (BatchNormalization(None, 512, 7, 7)     1024        res5b_branch2a[0][0]             \n",
      "____________________________________________________________________________________________________\n",
      "activation_44 (Activation)       (None, 512, 7, 7)     0           bn5b_branch2a[0][0]              \n",
      "____________________________________________________________________________________________________\n",
      "res5b_branch2b (Convolution2D)   (None, 512, 7, 7)     2359808     activation_44[0][0]              \n",
      "____________________________________________________________________________________________________\n",
      "bn5b_branch2b (BatchNormalization(None, 512, 7, 7)     1024        res5b_branch2b[0][0]             \n",
      "____________________________________________________________________________________________________\n",
      "activation_45 (Activation)       (None, 512, 7, 7)     0           bn5b_branch2b[0][0]              \n",
      "____________________________________________________________________________________________________\n",
      "res5b_branch2c (Convolution2D)   (None, 2048, 7, 7)    1050624     activation_45[0][0]              \n",
      "____________________________________________________________________________________________________\n",
      "bn5b_branch2c (BatchNormalization(None, 2048, 7, 7)    4096        res5b_branch2c[0][0]             \n",
      "____________________________________________________________________________________________________\n",
      "merge_15 (Merge)                 (None, 2048, 7, 7)    0           bn5b_branch2c[0][0]              \n",
      "                                                                   activation_43[0][0]              \n",
      "____________________________________________________________________________________________________\n",
      "activation_46 (Activation)       (None, 2048, 7, 7)    0           merge_15[0][0]                   \n",
      "____________________________________________________________________________________________________\n",
      "res5c_branch2a (Convolution2D)   (None, 512, 7, 7)     1049088     activation_46[0][0]              \n",
      "____________________________________________________________________________________________________\n",
      "bn5c_branch2a (BatchNormalization(None, 512, 7, 7)     1024        res5c_branch2a[0][0]             \n",
      "____________________________________________________________________________________________________\n",
      "activation_47 (Activation)       (None, 512, 7, 7)     0           bn5c_branch2a[0][0]              \n",
      "____________________________________________________________________________________________________\n",
      "res5c_branch2b (Convolution2D)   (None, 512, 7, 7)     2359808     activation_47[0][0]              \n",
      "____________________________________________________________________________________________________\n",
      "bn5c_branch2b (BatchNormalization(None, 512, 7, 7)     1024        res5c_branch2b[0][0]             \n",
      "____________________________________________________________________________________________________\n",
      "activation_48 (Activation)       (None, 512, 7, 7)     0           bn5c_branch2b[0][0]              \n",
      "____________________________________________________________________________________________________\n",
      "res5c_branch2c (Convolution2D)   (None, 2048, 7, 7)    1050624     activation_48[0][0]              \n",
      "____________________________________________________________________________________________________\n",
      "bn5c_branch2c (BatchNormalization(None, 2048, 7, 7)    4096        res5c_branch2c[0][0]             \n",
      "____________________________________________________________________________________________________\n",
      "merge_16 (Merge)                 (None, 2048, 7, 7)    0           bn5c_branch2c[0][0]              \n",
      "                                                                   activation_46[0][0]              \n",
      "____________________________________________________________________________________________________\n",
      "activation_49 (Activation)       (None, 2048, 7, 7)    0           merge_16[0][0]                   \n",
      "____________________________________________________________________________________________________\n",
      "avg_pool (AveragePooling2D)      (None, 2048, 1, 1)    0           activation_49[0][0]              \n",
      "____________________________________________________________________________________________________\n",
      "flatten_1 (Flatten)              (None, 2048)          0           avg_pool[0][0]                   \n",
      "____________________________________________________________________________________________________\n",
      "fc1000 (Dense)                   (None, 1000)          2049000     flatten_1[0][0]                  \n",
      "====================================================================================================\n",
      "Total params: 25583592\n",
      "____________________________________________________________________________________________________\n"
     ]
    }
   ],
   "source": [
    "img_size=(224, 224)\n",
    "from keras.applications import resnet50\n",
    "base_model = resnet50.ResNet50(weights='imagenet', include_top=True)\n",
    "base_model.summary()"
   ]
  },
  {
   "cell_type": "code",
   "execution_count": 15,
   "metadata": {
    "collapsed": true,
    "deletable": true,
    "editable": true
   },
   "outputs": [],
   "source": [
    "model = Model(input=base_model.input, output=base_model.get_layer('flatten_1').output)"
   ]
  },
  {
   "cell_type": "code",
   "execution_count": 16,
   "metadata": {
    "collapsed": false,
    "deletable": true,
    "editable": true
   },
   "outputs": [
    {
     "name": "stdout",
     "output_type": "stream",
     "text": [
      "CPU times: user 3min 35s, sys: 1min 50s, total: 5min 25s\n",
      "Wall time: 6min 27s\n"
     ]
    }
   ],
   "source": [
    "%%time\n",
    "features_train,_ = extract_features(train_image_list, img_size, model, resnet50.preprocess_input)"
   ]
  },
  {
   "cell_type": "code",
   "execution_count": 17,
   "metadata": {
    "collapsed": false,
    "deletable": true,
    "editable": true
   },
   "outputs": [
    {
     "name": "stdout",
     "output_type": "stream",
     "text": [
      "(3777, 2048)\n"
     ]
    }
   ],
   "source": [
    "features_train = np.array(features_train)\n",
    "print(features_train.shape)"
   ]
  },
  {
   "cell_type": "code",
   "execution_count": 18,
   "metadata": {
    "collapsed": false,
    "deletable": true,
    "editable": true
   },
   "outputs": [
    {
     "name": "stdout",
     "output_type": "stream",
     "text": [
      "(1000, 2048)\n",
      "CPU times: user 53.2 s, sys: 28.5 s, total: 1min 21s\n",
      "Wall time: 1min 21s\n"
     ]
    }
   ],
   "source": [
    "%%time\n",
    "features_test,_ = extract_features(test_image_list, img_size, model, resnet50.preprocess_input)\n",
    "features_test = np.array(features_test)\n",
    "print(features_test.shape)"
   ]
  },
  {
   "cell_type": "code",
   "execution_count": 19,
   "metadata": {
    "collapsed": true,
    "deletable": true,
    "editable": true
   },
   "outputs": [],
   "source": [
    "np.save(data_path+\"features_resnet50_train.npy\", features_train)\n",
    "np.save(data_path+\"features_resnet50_test.npy\", features_test)"
   ]
  },
  {
   "cell_type": "markdown",
   "metadata": {
    "collapsed": true,
    "deletable": true,
    "editable": true
   },
   "source": [
    "Model: Xception V1, with weights pre-trained on ImageNet."
   ]
  },
  {
   "cell_type": "code",
   "execution_count": null,
   "metadata": {
    "collapsed": true,
    "deletable": true,
    "editable": true
   },
   "outputs": [],
   "source": [
    "#Jupyter needs to be restarted after setting KERAS_BACKEND=tensorflow \n",
    "K.set_image_dim_ordering('tf')"
   ]
  },
  {
   "cell_type": "code",
   "execution_count": null,
   "metadata": {
    "collapsed": true,
    "deletable": true,
    "editable": true
   },
   "outputs": [],
   "source": [
    "img_size=(299, 299)\n",
    "from keras.applications import xception\n",
    "base_model = xception.Xception(weights='imagenet', include_top=True)\n",
    "base_model.summary()"
   ]
  },
  {
   "cell_type": "code",
   "execution_count": null,
   "metadata": {
    "collapsed": true,
    "deletable": true,
    "editable": true
   },
   "outputs": [],
   "source": [
    "model = Model(input=base_model.input, output=base_model.get_layer('avg_pool').output)"
   ]
  },
  {
   "cell_type": "code",
   "execution_count": null,
   "metadata": {
    "collapsed": true,
    "deletable": true,
    "editable": true
   },
   "outputs": [],
   "source": [
    "%%time\n",
    "features_train,_ = extract_features(train_image_list, img_size, model, xception.preprocess_input, 'tf')"
   ]
  },
  {
   "cell_type": "code",
   "execution_count": null,
   "metadata": {
    "collapsed": true,
    "deletable": true,
    "editable": true
   },
   "outputs": [],
   "source": [
    "np.array(features_train).shape"
   ]
  },
  {
   "cell_type": "code",
   "execution_count": null,
   "metadata": {
    "collapsed": true,
    "deletable": true,
    "editable": true
   },
   "outputs": [],
   "source": [
    "features_train = np.array(features_train)\n",
    "print(features_train.shape)"
   ]
  },
  {
   "cell_type": "code",
   "execution_count": null,
   "metadata": {
    "collapsed": true,
    "deletable": true,
    "editable": true
   },
   "outputs": [],
   "source": [
    "%%time\n",
    "features_test,_ = extract_features(test_image_list, img_size, model, xception.preprocess_input, 'tf')\n",
    "features_test = np.array(features_test)\n",
    "print(features_test.shape)"
   ]
  },
  {
   "cell_type": "code",
   "execution_count": null,
   "metadata": {
    "collapsed": true,
    "deletable": true,
    "editable": true
   },
   "outputs": [],
   "source": [
    "np.save(data_path+\"features_resnet50_train.npy\", features_train)\n",
    "np.save(data_path+\"features_resnet50_test.npy\", features_test)"
   ]
  }
 ],
 "metadata": {
  "kernelspec": {
   "display_name": "Python 2",
   "language": "python",
   "name": "python2"
  },
  "language_info": {
   "codemirror_mode": {
    "name": "ipython",
    "version": 2
   },
   "file_extension": ".py",
   "mimetype": "text/x-python",
   "name": "python",
   "nbconvert_exporter": "python",
   "pygments_lexer": "ipython2",
   "version": "2.7.12"
  }
 },
 "nbformat": 4,
 "nbformat_minor": 2
}
