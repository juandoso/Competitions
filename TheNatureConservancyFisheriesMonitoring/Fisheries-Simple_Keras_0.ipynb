{
 "cells": [
  {
   "cell_type": "markdown",
   "metadata": {},
   "source": [
    "## A Simple Model"
   ]
  },
  {
   "cell_type": "code",
   "execution_count": 1,
   "metadata": {
    "collapsed": false
   },
   "outputs": [
    {
     "name": "stderr",
     "output_type": "stream",
     "text": [
      "Using Theano backend.\n"
     ]
    },
    {
     "name": "stdout",
     "output_type": "stream",
     "text": [
      "Couldn't import dot_parser, loading of dot files will not be possible.\n"
     ]
    },
    {
     "name": "stderr",
     "output_type": "stream",
     "text": [
      "Using gpu device 0: GRID K520 (CNMeM is disabled, cuDNN 5103)\n",
      "/usr/local/lib/python2.7/dist-packages/theano/sandbox/cuda/__init__.py:600: UserWarning: Your cuDNN version is more recent than the one Theano officially supports. If you see any problems, try updating Theano or downgrading cuDNN to version 5.\n",
      "  warnings.warn(warn)\n"
     ]
    }
   ],
   "source": [
    "from __future__ import print_function\n",
    "import numpy as np\n",
    "from keras.preprocessing.image import ImageDataGenerator, array_to_img, img_to_array, load_img"
   ]
  },
  {
   "cell_type": "code",
   "execution_count": 2,
   "metadata": {
    "collapsed": true
   },
   "outputs": [],
   "source": [
    "data_path = \"/home/ubuntu/data/\""
   ]
  },
  {
   "cell_type": "markdown",
   "metadata": {},
   "source": [
    "### Training"
   ]
  },
  {
   "cell_type": "markdown",
   "metadata": {},
   "source": [
    "Training Dataset (train and val)"
   ]
  },
  {
   "cell_type": "code",
   "execution_count": 3,
   "metadata": {
    "collapsed": true
   },
   "outputs": [],
   "source": [
    "img_size=(320, 180)"
   ]
  },
  {
   "cell_type": "code",
   "execution_count": 4,
   "metadata": {
    "collapsed": true
   },
   "outputs": [],
   "source": [
    "from keras import backend as K\n",
    "K.set_image_dim_ordering('th')\n",
    "def_batch_size = 96"
   ]
  },
  {
   "cell_type": "code",
   "execution_count": 5,
   "metadata": {
    "collapsed": false
   },
   "outputs": [
    {
     "name": "stdout",
     "output_type": "stream",
     "text": [
      "Found 2984 images belonging to 8 classes.\n",
      "Found 360 images belonging to 8 classes.\n"
     ]
    }
   ],
   "source": [
    "train_datagen = ImageDataGenerator(rescale=1./255, \n",
    "        width_shift_range=0.2,\n",
    "        height_shift_range=0.2,\n",
    "        zoom_range=0.2,\n",
    "        horizontal_flip=True,\n",
    "        fill_mode='nearest')\n",
    "\n",
    "val_datagen = ImageDataGenerator(rescale=1./255)\n",
    "\n",
    "train_generator = train_datagen.flow_from_directory(\n",
    "        data_path+\"train/\"+'1trainDir',\n",
    "        target_size=img_size, \n",
    "        batch_size=def_batch_size,\n",
    "        class_mode='categorical')\n",
    "\n",
    "validation_generator = val_datagen.flow_from_directory(\n",
    "        data_path+\"train/\"+'1valDir',\n",
    "        target_size=img_size,\n",
    "        batch_size=def_batch_size,\n",
    "        class_mode='categorical')"
   ]
  },
  {
   "cell_type": "code",
   "execution_count": 6,
   "metadata": {
    "collapsed": false
   },
   "outputs": [
    {
     "data": {
      "text/plain": [
       "{'ALB': 0,\n",
       " 'BET': 1,\n",
       " 'DOL': 2,\n",
       " 'LAG': 3,\n",
       " 'NoF': 4,\n",
       " 'OTHER': 5,\n",
       " 'SHARK': 6,\n",
       " 'YFT': 7}"
      ]
     },
     "execution_count": 6,
     "metadata": {},
     "output_type": "execute_result"
    }
   ],
   "source": [
    "train_generator.class_indices"
   ]
  },
  {
   "cell_type": "markdown",
   "metadata": {},
   "source": [
    "Model Definition"
   ]
  },
  {
   "cell_type": "code",
   "execution_count": 7,
   "metadata": {
    "collapsed": true
   },
   "outputs": [],
   "source": [
    "nb_classes = 8"
   ]
  },
  {
   "cell_type": "code",
   "execution_count": 8,
   "metadata": {
    "collapsed": false
   },
   "outputs": [],
   "source": [
    "from keras.models import Sequential\n",
    "from keras.layers import Dense, Dropout, Activation, Flatten\n",
    "from keras.layers import Convolution2D, MaxPooling2D\n",
    "from keras.optimizers import SGD\n",
    "from keras.utils import np_utils"
   ]
  },
  {
   "cell_type": "code",
   "execution_count": 9,
   "metadata": {
    "collapsed": false
   },
   "outputs": [],
   "source": [
    "model = Sequential()\n",
    "model.add(Convolution2D(32, 3, 3, input_shape=(3, img_size[0], img_size[1]), border_mode='same'))\n",
    "model.add(Activation('relu'))\n",
    "model.add(MaxPooling2D(pool_size=(2, 2)))\n",
    "model.add(Dropout(0.25))\n",
    "\n",
    "model.add(Convolution2D(32, 3, 3, border_mode='same'))\n",
    "model.add(Activation('relu'))\n",
    "model.add(MaxPooling2D(pool_size=(2, 2)))\n",
    "model.add(Dropout(0.25))\n",
    "\n",
    "model.add(Convolution2D(64, 3, 3, border_mode='same'))\n",
    "model.add(Activation('relu'))\n",
    "model.add(MaxPooling2D(pool_size=(2, 2)))\n",
    "model.add(Dropout(0.25))\n",
    "\n",
    "model.add(Flatten())\n",
    "model.add(Dense(64))\n",
    "model.add(Activation('relu'))\n",
    "model.add(Dropout(0.5))\n",
    "model.add(Dense(nb_classes))\n",
    "model.add(Activation('softmax'))"
   ]
  },
  {
   "cell_type": "code",
   "execution_count": 10,
   "metadata": {
    "collapsed": true
   },
   "outputs": [],
   "source": [
    "model.compile(loss='categorical_crossentropy',\n",
    "              optimizer='adadelta',\n",
    "              metrics=['accuracy'])"
   ]
  },
  {
   "cell_type": "markdown",
   "metadata": {},
   "source": [
    "Model Training"
   ]
  },
  {
   "cell_type": "code",
   "execution_count": 11,
   "metadata": {
    "collapsed": true
   },
   "outputs": [],
   "source": [
    "from keras.callbacks import EarlyStopping\n",
    "early_stopping = EarlyStopping(monitor='val_loss', patience=5, verbose=0)"
   ]
  },
  {
   "cell_type": "code",
   "execution_count": 12,
   "metadata": {
    "collapsed": false,
    "scrolled": true
   },
   "outputs": [
    {
     "name": "stdout",
     "output_type": "stream",
     "text": [
      "Epoch 1/30\n",
      "2984/2984 [==============================] - 71s - loss: 1.8669 - acc: 0.3418 - val_loss: 1.8778 - val_acc: 0.1611\n",
      "Epoch 2/30\n",
      "2984/2984 [==============================] - 58s - loss: 1.7409 - acc: 0.3817 - val_loss: 1.8083 - val_acc: 0.4917\n",
      "Epoch 3/30\n",
      "2984/2984 [==============================] - 57s - loss: 1.6780 - acc: 0.4169 - val_loss: 1.8009 - val_acc: 0.5028\n",
      "Epoch 4/30\n",
      "2984/2984 [==============================] - 57s - loss: 1.6512 - acc: 0.4326 - val_loss: 1.7317 - val_acc: 0.5083\n",
      "Epoch 5/30\n",
      "2984/2984 [==============================] - 57s - loss: 1.6202 - acc: 0.4457 - val_loss: 1.7083 - val_acc: 0.4861\n",
      "Epoch 6/30\n",
      "2984/2984 [==============================] - 57s - loss: 1.5932 - acc: 0.4531 - val_loss: 1.5821 - val_acc: 0.4972\n",
      "Epoch 7/30\n",
      "2984/2984 [==============================] - 57s - loss: 1.5869 - acc: 0.4584 - val_loss: 1.7307 - val_acc: 0.4444\n",
      "Epoch 8/30\n",
      "2984/2984 [==============================] - 57s - loss: 1.5589 - acc: 0.4675 - val_loss: 1.5644 - val_acc: 0.5111\n",
      "Epoch 9/30\n",
      "2984/2984 [==============================] - 58s - loss: 1.5525 - acc: 0.4631 - val_loss: 1.5666 - val_acc: 0.5000\n",
      "Epoch 10/30\n",
      "2984/2984 [==============================] - 57s - loss: 1.5204 - acc: 0.4698 - val_loss: 1.4853 - val_acc: 0.5083\n",
      "Epoch 11/30\n",
      "2984/2984 [==============================] - 57s - loss: 1.5044 - acc: 0.4672 - val_loss: 1.4610 - val_acc: 0.5083\n",
      "Epoch 12/30\n",
      "2984/2984 [==============================] - 57s - loss: 1.4776 - acc: 0.4913 - val_loss: 1.4363 - val_acc: 0.5139\n",
      "Epoch 13/30\n",
      "2984/2984 [==============================] - 57s - loss: 1.4771 - acc: 0.4946 - val_loss: 1.6005 - val_acc: 0.4389\n",
      "Epoch 14/30\n",
      "2984/2984 [==============================] - 57s - loss: 1.4433 - acc: 0.4953 - val_loss: 1.4886 - val_acc: 0.5278\n",
      "Epoch 15/30\n",
      "2984/2984 [==============================] - 57s - loss: 1.4397 - acc: 0.5027 - val_loss: 1.4021 - val_acc: 0.4889\n",
      "Epoch 16/30\n",
      "2984/2984 [==============================] - 57s - loss: 1.4268 - acc: 0.5114 - val_loss: 1.3614 - val_acc: 0.5500\n",
      "Epoch 17/30\n",
      "2984/2984 [==============================] - 57s - loss: 1.4017 - acc: 0.5107 - val_loss: 1.4180 - val_acc: 0.5306\n",
      "Epoch 18/30\n",
      "2984/2984 [==============================] - 57s - loss: 1.4125 - acc: 0.5060 - val_loss: 1.2778 - val_acc: 0.5667\n",
      "Epoch 19/30\n",
      "2984/2984 [==============================] - 57s - loss: 1.3922 - acc: 0.5147 - val_loss: 1.3657 - val_acc: 0.4833\n",
      "Epoch 20/30\n",
      "2984/2984 [==============================] - 57s - loss: 1.3943 - acc: 0.5181 - val_loss: 1.5201 - val_acc: 0.5361\n",
      "Epoch 21/30\n",
      "2984/2984 [==============================] - 57s - loss: 1.3908 - acc: 0.5164 - val_loss: 1.2623 - val_acc: 0.5583\n",
      "Epoch 22/30\n",
      "2984/2984 [==============================] - 57s - loss: 1.3757 - acc: 0.5241 - val_loss: 1.2749 - val_acc: 0.5417\n",
      "Epoch 23/30\n",
      "2984/2984 [==============================] - 57s - loss: 1.3685 - acc: 0.5147 - val_loss: 1.2973 - val_acc: 0.5361\n",
      "Epoch 24/30\n",
      "2984/2984 [==============================] - 57s - loss: 1.3532 - acc: 0.5181 - val_loss: 1.2280 - val_acc: 0.5667\n",
      "Epoch 25/30\n",
      "2984/2984 [==============================] - 57s - loss: 1.3422 - acc: 0.5248 - val_loss: 1.2601 - val_acc: 0.5472\n",
      "Epoch 26/30\n",
      "2984/2984 [==============================] - 57s - loss: 1.3546 - acc: 0.5201 - val_loss: 1.1895 - val_acc: 0.5639\n",
      "Epoch 27/30\n",
      "2984/2984 [==============================] - 57s - loss: 1.3438 - acc: 0.5278 - val_loss: 1.2575 - val_acc: 0.5417\n",
      "Epoch 28/30\n",
      "2984/2984 [==============================] - 57s - loss: 1.3071 - acc: 0.5359 - val_loss: 1.3714 - val_acc: 0.5694\n",
      "Epoch 29/30\n",
      "2984/2984 [==============================] - 57s - loss: 1.3343 - acc: 0.5318 - val_loss: 1.5703 - val_acc: 0.4583\n",
      "Epoch 30/30\n",
      "2984/2984 [==============================] - 57s - loss: 1.3329 - acc: 0.5248 - val_loss: 1.3052 - val_acc: 0.5361\n"
     ]
    },
    {
     "data": {
      "text/plain": [
       "<keras.callbacks.History at 0x7fa52e2714d0>"
      ]
     },
     "execution_count": 12,
     "metadata": {},
     "output_type": "execute_result"
    }
   ],
   "source": [
    "model.fit_generator(\n",
    "        train_generator,\n",
    "        samples_per_epoch=2984,\n",
    "        nb_epoch=30,\n",
    "        validation_data=validation_generator,\n",
    "        nb_val_samples=360,\n",
    "        callbacks=[early_stopping], \n",
    "        verbose=1)"
   ]
  },
  {
   "cell_type": "markdown",
   "metadata": {},
   "source": [
    "Model Testing"
   ]
  },
  {
   "cell_type": "code",
   "execution_count": 14,
   "metadata": {
    "collapsed": false
   },
   "outputs": [
    {
     "name": "stdout",
     "output_type": "stream",
     "text": [
      "Found 433 images belonging to 8 classes.\n"
     ]
    }
   ],
   "source": [
    "test_datagen = ImageDataGenerator(rescale=1./255)\n",
    "test_generator = test_datagen.flow_from_directory(\n",
    "        data_path+'train/'+'1testDir',\n",
    "        target_size=img_size,\n",
    "        batch_size=def_batch_size,\n",
    "        class_mode='categorical')"
   ]
  },
  {
   "cell_type": "code",
   "execution_count": 15,
   "metadata": {
    "collapsed": false
   },
   "outputs": [
    {
     "name": "stdout",
     "output_type": "stream",
     "text": [
      "Model Loss and Accuracy: \n",
      "[1.2404141965694295, 0.58429560044621209]\n"
     ]
    }
   ],
   "source": [
    "print(\"Model Loss, Accuracy: \")\n",
    "print(model.evaluate_generator(test_generator, val_samples=433))"
   ]
  },
  {
   "cell_type": "code",
   "execution_count": 16,
   "metadata": {
    "collapsed": false
   },
   "outputs": [
    {
     "name": "stdout",
     "output_type": "stream",
     "text": [
      "{0: 'ALB', 1: 'BET', 2: 'DOL', 3: 'LAG', 4: 'NoF', 5: 'OTHER', 6: 'SHARK', 7: 'YFT'}\n"
     ]
    }
   ],
   "source": [
    "classes = {v: k for k, v in train_generator.class_indices.iteritems()}\n",
    "print(classes)"
   ]
  },
  {
   "cell_type": "markdown",
   "metadata": {
    "collapsed": true
   },
   "source": [
    "Confusion Matrix"
   ]
  },
  {
   "cell_type": "code",
   "execution_count": 17,
   "metadata": {
    "collapsed": true
   },
   "outputs": [],
   "source": [
    "from sklearn.metrics import classification_report, confusion_matrix"
   ]
  },
  {
   "cell_type": "code",
   "execution_count": 18,
   "metadata": {
    "collapsed": false
   },
   "outputs": [],
   "source": [
    "Y_test = []\n",
    "Y_preds = []\n",
    "batch_ind = test_generator.batch_index\n",
    "for X_batch, Y_batch in test_generator:\n",
    "    y_pred = model.predict_classes(X_batch, verbose=0)\n",
    "    Y_test.extend(np.argmax(Y_batch,axis=1))\n",
    "    Y_preds.extend(y_pred)\n",
    "    if test_generator.batch_index == batch_ind:\n",
    "        break"
   ]
  },
  {
   "cell_type": "code",
   "execution_count": 19,
   "metadata": {
    "collapsed": false
   },
   "outputs": [],
   "source": [
    "names = range(len(classes.keys()))\n",
    "for k,v in classes.iteritems():\n",
    "    names[k] = v"
   ]
  },
  {
   "cell_type": "code",
   "execution_count": 20,
   "metadata": {
    "collapsed": false
   },
   "outputs": [
    {
     "name": "stdout",
     "output_type": "stream",
     "text": [
      "             precision    recall  f1-score   support\n",
      "\n",
      "        ALB       0.58      0.92      0.71       191\n",
      "        BET       0.00      0.00      0.00        19\n",
      "        DOL       1.00      0.11      0.20         9\n",
      "        LAG       0.00      0.00      0.00         5\n",
      "        NoF       0.83      0.52      0.64        65\n",
      "      OTHER       1.00      0.03      0.05        36\n",
      "      SHARK       0.50      0.13      0.21        15\n",
      "        YFT       0.47      0.42      0.44        93\n",
      "\n",
      "avg / total       0.60      0.58      0.52       433\n",
      "\n"
     ]
    },
    {
     "name": "stderr",
     "output_type": "stream",
     "text": [
      "/usr/local/lib/python2.7/dist-packages/sklearn/metrics/classification.py:1113: UndefinedMetricWarning: Precision and F-score are ill-defined and being set to 0.0 in labels with no predicted samples.\n",
      "  'precision', 'predicted', average, warn_for)\n"
     ]
    }
   ],
   "source": [
    "print(classification_report(Y_test, Y_preds, target_names=names))"
   ]
  },
  {
   "cell_type": "code",
   "execution_count": 21,
   "metadata": {
    "collapsed": false
   },
   "outputs": [
    {
     "name": "stdout",
     "output_type": "stream",
     "text": [
      "[[175   0   0   0   0   0   0  16]\n",
      " [ 14   0   0   0   0   0   1   4]\n",
      " [  0   0   1   0   1   0   0   7]\n",
      " [  5   0   0   0   0   0   0   0]\n",
      " [ 31   0   0   0  34   0   0   0]\n",
      " [ 25   0   0   0   1   1   0   9]\n",
      " [  5   0   0   0   0   0   2   8]\n",
      " [ 48   0   0   0   5   0   1  39]]\n"
     ]
    }
   ],
   "source": [
    "print(confusion_matrix(Y_test, Y_preds))"
   ]
  },
  {
   "cell_type": "markdown",
   "metadata": {},
   "source": [
    "Saving Trained Model"
   ]
  },
  {
   "cell_type": "code",
   "execution_count": 44,
   "metadata": {
    "collapsed": true
   },
   "outputs": [],
   "source": [
    "# serialize model to YAML\n",
    "model_yaml = model.to_yaml()\n",
    "with open(data_path+\"Simple_Keras-model0.yaml\", \"w\") as yaml_file:\n",
    "    yaml_file.write(model_yaml)\n",
    "    \n",
    "# serialize weights to HDF5\n",
    "model.save_weights(data_path+'Simple_Keras-model0.h5') \n",
    "\n",
    "# serialize class indices to a numpy file npy\n",
    "np.save('/home/ubuntu/data/Simple_Keras-model0-classes.npy', classes)"
   ]
  },
  {
   "cell_type": "markdown",
   "metadata": {},
   "source": [
    "### Predicting"
   ]
  },
  {
   "cell_type": "markdown",
   "metadata": {},
   "source": [
    "Loading Trained Model"
   ]
  },
  {
   "cell_type": "code",
   "execution_count": null,
   "metadata": {
    "collapsed": true
   },
   "outputs": [],
   "source": [
    "from keras.models import model_from_yaml"
   ]
  },
  {
   "cell_type": "code",
   "execution_count": null,
   "metadata": {
    "collapsed": false
   },
   "outputs": [],
   "source": [
    "# load YAML and create model\n",
    "yaml_file = open(data_path+'Simple_Keras-model1.yaml', 'r')\n",
    "loaded_model_yaml = yaml_file.read()\n",
    "yaml_file.close()\n",
    "model = model_from_yaml(loaded_model_yaml)\n",
    "# load weights into new model\n",
    "model.load_weights(data_path+'Simple_Keras-model1.h5\")"
   ]
  },
  {
   "cell_type": "code",
   "execution_count": null,
   "metadata": {
    "collapsed": true
   },
   "outputs": [],
   "source": [
    "classes = np.load('/home/ubuntu/data/Simple_Keras-model1-classes.npy').item()"
   ]
  },
  {
   "cell_type": "code",
   "execution_count": null,
   "metadata": {
    "collapsed": true
   },
   "outputs": [],
   "source": [
    "model.compile(loss='categorical_crossentropy',\n",
    "              optimizer='adadelta',\n",
    "              metrics=['accuracy'])"
   ]
  },
  {
   "cell_type": "markdown",
   "metadata": {},
   "source": [
    "Generating predictions on the test set"
   ]
  },
  {
   "cell_type": "code",
   "execution_count": 37,
   "metadata": {
    "collapsed": false
   },
   "outputs": [
    {
     "name": "stdout",
     "output_type": "stream",
     "text": [
      "Found 1000 images belonging to 1 classes.\n"
     ]
    }
   ],
   "source": [
    "kaggle_datagen = ImageDataGenerator(rescale=1./255)\n",
    "kaggle_generator = test_datagen.flow_from_directory(\n",
    "        data_path+'test/',\n",
    "        target_size=img_size,\n",
    "        batch_size=def_batch_size,\n",
    "        class_mode=None, \n",
    "        shuffle=False)"
   ]
  },
  {
   "cell_type": "code",
   "execution_count": 38,
   "metadata": {
    "collapsed": false
   },
   "outputs": [],
   "source": [
    "Y_preds = []\n",
    "batch_ind = kaggle_generator.batch_index\n",
    "for X_batch in kaggle_generator:\n",
    "    y_pred = model.predict_proba(X_batch, verbose=0)\n",
    "    Y_preds.extend(y_pred)\n",
    "    if kaggle_generator.batch_index == batch_ind:\n",
    "        break"
   ]
  },
  {
   "cell_type": "code",
   "execution_count": 42,
   "metadata": {
    "collapsed": false
   },
   "outputs": [],
   "source": [
    "test_filenames = kaggle_generator.filenames\n",
    "test_id = [f[10:] for f in test_filenames]"
   ]
  },
  {
   "cell_type": "code",
   "execution_count": 34,
   "metadata": {
    "collapsed": false
   },
   "outputs": [],
   "source": [
    "import pandas as pd\n",
    "import datetime\n",
    "def create_submission(path, predictions, test_id, info):\n",
    "    result1 = pd.DataFrame(predictions, columns=['ALB', 'BET', 'DOL', 'LAG', 'NoF', 'OTHER', 'SHARK', 'YFT'])\n",
    "    result1.loc[:, 'image'] = pd.Series(test_id, index=result1.index)\n",
    "    now = datetime.datetime.now()\n",
    "    sub_file = 'submission_' + info + '_' + str(now.strftime(\"%Y-%m-%d-%H-%M\")) + '.csv'\n",
    "    print(\"Writing \" + sub_file)\n",
    "    result1.to_csv(path+sub_file, index=False)"
   ]
  },
  {
   "cell_type": "code",
   "execution_count": 43,
   "metadata": {
    "collapsed": false
   },
   "outputs": [
    {
     "name": "stdout",
     "output_type": "stream",
     "text": [
      "Writing submission_Simple_Keras_1_2016-11-19-22-11.csv\n"
     ]
    }
   ],
   "source": [
    "create_submission(data_path, Y_preds, test_id, \"Simple_Keras_1\")"
   ]
  },
  {
   "cell_type": "markdown",
   "metadata": {
    "collapsed": true
   },
   "source": [
    "Public Score: 1.38706 (multi-class logarithmic loss.)"
   ]
  },
  {
   "cell_type": "code",
   "execution_count": null,
   "metadata": {
    "collapsed": true
   },
   "outputs": [],
   "source": []
  }
 ],
 "metadata": {
  "anaconda-cloud": {},
  "kernelspec": {
   "display_name": "Python [conda root]",
   "language": "python",
   "name": "conda-root-py"
  },
  "language_info": {
   "codemirror_mode": {
    "name": "ipython",
    "version": 3
   },
   "file_extension": ".py",
   "mimetype": "text/x-python",
   "name": "python",
   "nbconvert_exporter": "python",
   "pygments_lexer": "ipython3",
   "version": "3.5.2"
  }
 },
 "nbformat": 4,
 "nbformat_minor": 1
}
