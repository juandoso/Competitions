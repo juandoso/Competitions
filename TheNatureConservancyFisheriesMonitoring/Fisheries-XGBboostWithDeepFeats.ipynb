{
 "cells": [
  {
   "cell_type": "markdown",
   "metadata": {
    "deletable": true,
    "editable": true
   },
   "source": [
    "In this notebook, I use each of the sets of features previously extracted using the pre-trained deep models of the Keras library as data to train an XGBoost model, calibrating the probability predictions of the models using Scikit-Learn's CalibratedClassifierCV, and ensemble the results by averaging"
   ]
  },
  {
   "cell_type": "code",
   "execution_count": 1,
   "metadata": {
    "collapsed": true,
    "deletable": true,
    "editable": true
   },
   "outputs": [],
   "source": [
    "from __future__ import print_function"
   ]
  },
  {
   "cell_type": "code",
   "execution_count": 3,
   "metadata": {
    "collapsed": false,
    "deletable": true,
    "editable": true
   },
   "outputs": [],
   "source": [
    "#Data source\n",
    "dpath = \"/home/ubuntu/data/\"\n",
    "import pandas as pd, numpy as np\n",
    "\n",
    "#Metrics to use\n",
    "from sklearn.metrics import accuracy_score, log_loss\n",
    "from sklearn.model_selection import cross_val_score\n",
    "\n",
    "#Classifier\n",
    "from xgboost import XGBClassifier"
   ]
  },
  {
   "cell_type": "markdown",
   "metadata": {
    "deletable": true,
    "editable": true
   },
   "source": [
    "The Datasets"
   ]
  },
  {
   "cell_type": "code",
   "execution_count": 4,
   "metadata": {
    "collapsed": false,
    "deletable": true,
    "editable": true
   },
   "outputs": [],
   "source": [
    "train_images = pd.read_csv(dpath+\"train_set.csv\")\n",
    "test_images = pd.read_csv(dpath+\"test_set.csv\")"
   ]
  },
  {
   "cell_type": "code",
   "execution_count": 5,
   "metadata": {
    "collapsed": false,
    "deletable": true,
    "editable": true
   },
   "outputs": [],
   "source": [
    "test_image_list = test_images[\"Image\"]\n",
    "y_train = train_images[\"Class\"].as_matrix()"
   ]
  },
  {
   "cell_type": "code",
   "execution_count": 6,
   "metadata": {
    "collapsed": true,
    "deletable": true,
    "editable": true
   },
   "outputs": [],
   "source": [
    "feature_sets = [\"inception_v3_2a\", \"vgg19_2a\", \"resnet50_2a\"]"
   ]
  },
  {
   "cell_type": "markdown",
   "metadata": {
    "deletable": true,
    "editable": true
   },
   "source": [
    "For each set of deep features, we'll train a XGBoost model"
   ]
  },
  {
   "cell_type": "code",
   "execution_count": 7,
   "metadata": {
    "collapsed": false,
    "deletable": true,
    "editable": true
   },
   "outputs": [
    {
     "name": "stdout",
     "output_type": "stream",
     "text": [
      "- Processing Features: inception_v3_2a\n",
      "training...\n",
      "predicting...\n",
      "- Processing Features: vgg19_2a\n",
      "training...\n",
      "predicting...\n",
      "- Processing Features: resnet50_2a\n",
      "training...\n",
      "predicting...\n",
      "CPU times: user 24min 1s, sys: 220 ms, total: 24min 2s\n",
      "Wall time: 3min\n"
     ]
    }
   ],
   "source": [
    "%%time\n",
    "#This will take some time...\n",
    "\n",
    "test_predictions = {}\n",
    "\n",
    "for feat in feature_sets:\n",
    "    print(\"- Processing Features:\", feat)\n",
    "    \n",
    "    #Loading the feature set\n",
    "    X_train = np.load(dpath+\"features_%s_train.npy\" % (feat))\n",
    "    X_test = np.load(dpath+\"features_%s_test.npy\" % (feat))\n",
    "        \n",
    "    #Calibrating the model\n",
    "    print(\"training...\")\n",
    "    model = XGBClassifier()\n",
    "    model = model.fit(X_train, y_train)\n",
    "    \n",
    "    #Predicting\n",
    "    print(\"predicting...\")\n",
    "    prediction = model.predict_proba(X_test)\n",
    "    test_predictions[feat] = prediction\n",
    "    \n",
    "    #Creating an individual submission\n",
    "    submission = pd.DataFrame(prediction)\n",
    "    submission.columns = model.classes_\n",
    "    submission = submission.set_index(test_image_list)\n",
    "    submission.to_csv(dpath + \"submission_xgb_with_%s.csv\" % (feat))\n",
    "    "
   ]
  },
  {
   "cell_type": "code",
   "execution_count": 8,
   "metadata": {
    "collapsed": false,
    "deletable": true,
    "editable": true
   },
   "outputs": [],
   "source": [
    "predictions = pd.Panel(test_predictions)"
   ]
  },
  {
   "cell_type": "markdown",
   "metadata": {
    "deletable": true,
    "editable": true
   },
   "source": [
    "Ensembling Predictions (Average)"
   ]
  },
  {
   "cell_type": "code",
   "execution_count": 9,
   "metadata": {
    "collapsed": true,
    "deletable": true,
    "editable": true
   },
   "outputs": [],
   "source": [
    "#Average ensemble of the predictions\n",
    "\n",
    "average = pd.DataFrame(np.zeros((1000, 8)))\n",
    "total_weight = 0\n",
    "\n",
    "for feat in feature_sets:\n",
    "    weight = 1\n",
    "    total_weight += weight\n",
    "    prediction = predictions[feat]\n",
    "    average += (prediction * weight)\n",
    "    \n",
    "average /= total_weight"
   ]
  },
  {
   "cell_type": "code",
   "execution_count": 11,
   "metadata": {
    "collapsed": false,
    "deletable": true,
    "editable": true
   },
   "outputs": [],
   "source": [
    "#Create submission\n",
    "\n",
    "average.columns = model.classes_\n",
    "average = average.set_index(test_image_list)\n",
    "average.to_csv(dpath + \"average_ensemble-deep_featsX2-simple_xgb.csv\")"
   ]
  },
  {
   "cell_type": "code",
   "execution_count": null,
   "metadata": {
    "collapsed": false,
    "deletable": true,
    "editable": true
   },
   "outputs": [],
   "source": []
  },
  {
   "cell_type": "code",
   "execution_count": null,
   "metadata": {
    "collapsed": true,
    "deletable": true,
    "editable": true
   },
   "outputs": [],
   "source": []
  }
 ],
 "metadata": {
  "kernelspec": {
   "display_name": "Python 2",
   "language": "python",
   "name": "python2"
  },
  "language_info": {
   "codemirror_mode": {
    "name": "ipython",
    "version": 2
   },
   "file_extension": ".py",
   "mimetype": "text/x-python",
   "name": "python",
   "nbconvert_exporter": "python",
   "pygments_lexer": "ipython2",
   "version": "2.7.12"
  }
 },
 "nbformat": 4,
 "nbformat_minor": 1
}
