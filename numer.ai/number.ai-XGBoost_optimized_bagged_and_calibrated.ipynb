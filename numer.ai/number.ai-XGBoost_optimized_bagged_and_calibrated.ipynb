{
 "cells": [
  {
   "cell_type": "markdown",
   "metadata": {},
   "source": [
    "# numer.ai"
   ]
  },
  {
   "cell_type": "markdown",
   "metadata": {},
   "source": [
    "Numerai is using breakthroughs in encryption to allow data scientists to participate in solving a stock market machine learning\n",
    "problem.\n",
    "\n",
    "https://numer.ai/about"
   ]
  },
  {
   "cell_type": "code",
   "execution_count": 1,
   "metadata": {
    "collapsed": true
   },
   "outputs": [],
   "source": [
    "import pandas as pd\n",
    "import numpy as np\n",
    "workdir = \"/home/ubuntu/data/\""
   ]
  },
  {
   "cell_type": "code",
   "execution_count": 2,
   "metadata": {
    "collapsed": false
   },
   "outputs": [],
   "source": [
    "traindata = pd.read_csv(workdir+'numerai_training_data.csv')"
   ]
  },
  {
   "cell_type": "code",
   "execution_count": 3,
   "metadata": {
    "collapsed": false
   },
   "outputs": [
    {
     "data": {
      "text/html": [
       "<div>\n",
       "<table border=\"1\" class=\"dataframe\">\n",
       "  <thead>\n",
       "    <tr style=\"text-align: right;\">\n",
       "      <th></th>\n",
       "      <th>feature1</th>\n",
       "      <th>feature2</th>\n",
       "      <th>feature3</th>\n",
       "      <th>feature4</th>\n",
       "      <th>feature5</th>\n",
       "      <th>feature6</th>\n",
       "      <th>feature7</th>\n",
       "      <th>feature8</th>\n",
       "      <th>feature9</th>\n",
       "      <th>feature10</th>\n",
       "      <th>...</th>\n",
       "      <th>feature42</th>\n",
       "      <th>feature43</th>\n",
       "      <th>feature44</th>\n",
       "      <th>feature45</th>\n",
       "      <th>feature46</th>\n",
       "      <th>feature47</th>\n",
       "      <th>feature48</th>\n",
       "      <th>feature49</th>\n",
       "      <th>feature50</th>\n",
       "      <th>target</th>\n",
       "    </tr>\n",
       "  </thead>\n",
       "  <tbody>\n",
       "    <tr>\n",
       "      <th>0</th>\n",
       "      <td>0.523989</td>\n",
       "      <td>0.450736</td>\n",
       "      <td>0.642132</td>\n",
       "      <td>0.28339</td>\n",
       "      <td>0.489685</td>\n",
       "      <td>0.365986</td>\n",
       "      <td>0.750027</td>\n",
       "      <td>0.441617</td>\n",
       "      <td>0.705939</td>\n",
       "      <td>0.298719</td>\n",
       "      <td>...</td>\n",
       "      <td>0.560302</td>\n",
       "      <td>0.568412</td>\n",
       "      <td>0.796156</td>\n",
       "      <td>0.298466</td>\n",
       "      <td>0.537179</td>\n",
       "      <td>0.394989</td>\n",
       "      <td>0.278652</td>\n",
       "      <td>0.366975</td>\n",
       "      <td>0.624429</td>\n",
       "      <td>1</td>\n",
       "    </tr>\n",
       "    <tr>\n",
       "      <th>1</th>\n",
       "      <td>0.361765</td>\n",
       "      <td>0.356233</td>\n",
       "      <td>0.695955</td>\n",
       "      <td>0.52563</td>\n",
       "      <td>0.710569</td>\n",
       "      <td>0.256446</td>\n",
       "      <td>0.597307</td>\n",
       "      <td>0.346839</td>\n",
       "      <td>0.460739</td>\n",
       "      <td>0.642520</td>\n",
       "      <td>...</td>\n",
       "      <td>0.351684</td>\n",
       "      <td>0.418981</td>\n",
       "      <td>0.469897</td>\n",
       "      <td>0.477661</td>\n",
       "      <td>0.392151</td>\n",
       "      <td>0.323126</td>\n",
       "      <td>0.695662</td>\n",
       "      <td>0.483652</td>\n",
       "      <td>0.472957</td>\n",
       "      <td>1</td>\n",
       "    </tr>\n",
       "  </tbody>\n",
       "</table>\n",
       "<p>2 rows × 51 columns</p>\n",
       "</div>"
      ],
      "text/plain": [
       "   feature1  feature2  feature3  feature4  feature5  feature6  feature7  \\\n",
       "0  0.523989  0.450736  0.642132   0.28339  0.489685  0.365986  0.750027   \n",
       "1  0.361765  0.356233  0.695955   0.52563  0.710569  0.256446  0.597307   \n",
       "\n",
       "   feature8  feature9  feature10   ...    feature42  feature43  feature44  \\\n",
       "0  0.441617  0.705939   0.298719   ...     0.560302   0.568412   0.796156   \n",
       "1  0.346839  0.460739   0.642520   ...     0.351684   0.418981   0.469897   \n",
       "\n",
       "   feature45  feature46  feature47  feature48  feature49  feature50  target  \n",
       "0   0.298466   0.537179   0.394989   0.278652   0.366975   0.624429       1  \n",
       "1   0.477661   0.392151   0.323126   0.695662   0.483652   0.472957       1  \n",
       "\n",
       "[2 rows x 51 columns]"
      ]
     },
     "execution_count": 3,
     "metadata": {},
     "output_type": "execute_result"
    }
   ],
   "source": [
    "traindata.head(2)"
   ]
  },
  {
   "cell_type": "code",
   "execution_count": 4,
   "metadata": {
    "collapsed": false
   },
   "outputs": [],
   "source": [
    "target = traindata[\"target\"]\n",
    "traindata.drop(\"target\", axis=1, inplace=True)"
   ]
  },
  {
   "cell_type": "code",
   "execution_count": 5,
   "metadata": {
    "collapsed": false
   },
   "outputs": [
    {
     "data": {
      "text/html": [
       "<div>\n",
       "<table border=\"1\" class=\"dataframe\">\n",
       "  <thead>\n",
       "    <tr style=\"text-align: right;\">\n",
       "      <th></th>\n",
       "      <th>feature1</th>\n",
       "      <th>feature2</th>\n",
       "      <th>feature3</th>\n",
       "      <th>feature4</th>\n",
       "      <th>feature5</th>\n",
       "      <th>feature6</th>\n",
       "      <th>feature7</th>\n",
       "      <th>feature8</th>\n",
       "      <th>feature9</th>\n",
       "      <th>feature10</th>\n",
       "      <th>...</th>\n",
       "      <th>feature41</th>\n",
       "      <th>feature42</th>\n",
       "      <th>feature43</th>\n",
       "      <th>feature44</th>\n",
       "      <th>feature45</th>\n",
       "      <th>feature46</th>\n",
       "      <th>feature47</th>\n",
       "      <th>feature48</th>\n",
       "      <th>feature49</th>\n",
       "      <th>feature50</th>\n",
       "    </tr>\n",
       "  </thead>\n",
       "  <tbody>\n",
       "    <tr>\n",
       "      <th>count</th>\n",
       "      <td>136573.000000</td>\n",
       "      <td>136573.000000</td>\n",
       "      <td>136573.000000</td>\n",
       "      <td>136573.000000</td>\n",
       "      <td>136573.000000</td>\n",
       "      <td>136573.000000</td>\n",
       "      <td>136573.000000</td>\n",
       "      <td>136573.000000</td>\n",
       "      <td>136573.000000</td>\n",
       "      <td>136573.000000</td>\n",
       "      <td>...</td>\n",
       "      <td>136573.000000</td>\n",
       "      <td>136573.000000</td>\n",
       "      <td>136573.000000</td>\n",
       "      <td>136573.000000</td>\n",
       "      <td>136573.000000</td>\n",
       "      <td>136573.000000</td>\n",
       "      <td>136573.000000</td>\n",
       "      <td>136573.000000</td>\n",
       "      <td>136573.000000</td>\n",
       "      <td>136573.000000</td>\n",
       "    </tr>\n",
       "    <tr>\n",
       "      <th>mean</th>\n",
       "      <td>0.503315</td>\n",
       "      <td>0.528337</td>\n",
       "      <td>0.523637</td>\n",
       "      <td>0.507853</td>\n",
       "      <td>0.459675</td>\n",
       "      <td>0.523603</td>\n",
       "      <td>0.464908</td>\n",
       "      <td>0.503458</td>\n",
       "      <td>0.505179</td>\n",
       "      <td>0.507997</td>\n",
       "      <td>...</td>\n",
       "      <td>0.493254</td>\n",
       "      <td>0.524870</td>\n",
       "      <td>0.489271</td>\n",
       "      <td>0.542465</td>\n",
       "      <td>0.492873</td>\n",
       "      <td>0.480930</td>\n",
       "      <td>0.495088</td>\n",
       "      <td>0.515655</td>\n",
       "      <td>0.526513</td>\n",
       "      <td>0.517014</td>\n",
       "    </tr>\n",
       "    <tr>\n",
       "      <th>std</th>\n",
       "      <td>0.119358</td>\n",
       "      <td>0.135990</td>\n",
       "      <td>0.140591</td>\n",
       "      <td>0.111798</td>\n",
       "      <td>0.144374</td>\n",
       "      <td>0.143353</td>\n",
       "      <td>0.136017</td>\n",
       "      <td>0.126000</td>\n",
       "      <td>0.156709</td>\n",
       "      <td>0.158817</td>\n",
       "      <td>...</td>\n",
       "      <td>0.156236</td>\n",
       "      <td>0.129495</td>\n",
       "      <td>0.131664</td>\n",
       "      <td>0.136190</td>\n",
       "      <td>0.168320</td>\n",
       "      <td>0.115552</td>\n",
       "      <td>0.134214</td>\n",
       "      <td>0.140444</td>\n",
       "      <td>0.135894</td>\n",
       "      <td>0.119244</td>\n",
       "    </tr>\n",
       "    <tr>\n",
       "      <th>min</th>\n",
       "      <td>0.000000</td>\n",
       "      <td>0.000000</td>\n",
       "      <td>0.000000</td>\n",
       "      <td>0.000000</td>\n",
       "      <td>0.000000</td>\n",
       "      <td>0.000000</td>\n",
       "      <td>0.000000</td>\n",
       "      <td>0.000000</td>\n",
       "      <td>0.000000</td>\n",
       "      <td>0.000000</td>\n",
       "      <td>...</td>\n",
       "      <td>0.000000</td>\n",
       "      <td>0.000000</td>\n",
       "      <td>0.000000</td>\n",
       "      <td>0.000000</td>\n",
       "      <td>0.000000</td>\n",
       "      <td>0.000000</td>\n",
       "      <td>0.000000</td>\n",
       "      <td>0.000000</td>\n",
       "      <td>0.000000</td>\n",
       "      <td>0.000000</td>\n",
       "    </tr>\n",
       "    <tr>\n",
       "      <th>25%</th>\n",
       "      <td>0.423868</td>\n",
       "      <td>0.436758</td>\n",
       "      <td>0.422698</td>\n",
       "      <td>0.432625</td>\n",
       "      <td>0.353949</td>\n",
       "      <td>0.416925</td>\n",
       "      <td>0.370033</td>\n",
       "      <td>0.415512</td>\n",
       "      <td>0.390768</td>\n",
       "      <td>0.392041</td>\n",
       "      <td>...</td>\n",
       "      <td>0.377072</td>\n",
       "      <td>0.432102</td>\n",
       "      <td>0.400755</td>\n",
       "      <td>0.447635</td>\n",
       "      <td>0.361996</td>\n",
       "      <td>0.398145</td>\n",
       "      <td>0.396579</td>\n",
       "      <td>0.420975</td>\n",
       "      <td>0.434276</td>\n",
       "      <td>0.439332</td>\n",
       "    </tr>\n",
       "    <tr>\n",
       "      <th>50%</th>\n",
       "      <td>0.504471</td>\n",
       "      <td>0.532099</td>\n",
       "      <td>0.523808</td>\n",
       "      <td>0.511219</td>\n",
       "      <td>0.455057</td>\n",
       "      <td>0.524664</td>\n",
       "      <td>0.458604</td>\n",
       "      <td>0.504341</td>\n",
       "      <td>0.502569</td>\n",
       "      <td>0.510177</td>\n",
       "      <td>...</td>\n",
       "      <td>0.490121</td>\n",
       "      <td>0.526524</td>\n",
       "      <td>0.489265</td>\n",
       "      <td>0.545842</td>\n",
       "      <td>0.492573</td>\n",
       "      <td>0.478766</td>\n",
       "      <td>0.495653</td>\n",
       "      <td>0.514638</td>\n",
       "      <td>0.529256</td>\n",
       "      <td>0.519898</td>\n",
       "    </tr>\n",
       "    <tr>\n",
       "      <th>75%</th>\n",
       "      <td>0.582147</td>\n",
       "      <td>0.623133</td>\n",
       "      <td>0.623870</td>\n",
       "      <td>0.585665</td>\n",
       "      <td>0.563213</td>\n",
       "      <td>0.630734</td>\n",
       "      <td>0.552903</td>\n",
       "      <td>0.592677</td>\n",
       "      <td>0.617613</td>\n",
       "      <td>0.628496</td>\n",
       "      <td>...</td>\n",
       "      <td>0.609254</td>\n",
       "      <td>0.619213</td>\n",
       "      <td>0.576567</td>\n",
       "      <td>0.640741</td>\n",
       "      <td>0.622240</td>\n",
       "      <td>0.561584</td>\n",
       "      <td>0.594166</td>\n",
       "      <td>0.609921</td>\n",
       "      <td>0.622923</td>\n",
       "      <td>0.598703</td>\n",
       "    </tr>\n",
       "    <tr>\n",
       "      <th>max</th>\n",
       "      <td>1.000000</td>\n",
       "      <td>1.000000</td>\n",
       "      <td>1.000000</td>\n",
       "      <td>1.000000</td>\n",
       "      <td>1.000000</td>\n",
       "      <td>1.000000</td>\n",
       "      <td>1.000000</td>\n",
       "      <td>1.000000</td>\n",
       "      <td>1.000000</td>\n",
       "      <td>1.000000</td>\n",
       "      <td>...</td>\n",
       "      <td>1.000000</td>\n",
       "      <td>1.000000</td>\n",
       "      <td>1.000000</td>\n",
       "      <td>1.000000</td>\n",
       "      <td>1.000000</td>\n",
       "      <td>0.963337</td>\n",
       "      <td>1.000000</td>\n",
       "      <td>1.000000</td>\n",
       "      <td>1.000000</td>\n",
       "      <td>1.000000</td>\n",
       "    </tr>\n",
       "  </tbody>\n",
       "</table>\n",
       "<p>8 rows × 50 columns</p>\n",
       "</div>"
      ],
      "text/plain": [
       "            feature1       feature2       feature3       feature4  \\\n",
       "count  136573.000000  136573.000000  136573.000000  136573.000000   \n",
       "mean        0.503315       0.528337       0.523637       0.507853   \n",
       "std         0.119358       0.135990       0.140591       0.111798   \n",
       "min         0.000000       0.000000       0.000000       0.000000   \n",
       "25%         0.423868       0.436758       0.422698       0.432625   \n",
       "50%         0.504471       0.532099       0.523808       0.511219   \n",
       "75%         0.582147       0.623133       0.623870       0.585665   \n",
       "max         1.000000       1.000000       1.000000       1.000000   \n",
       "\n",
       "            feature5       feature6       feature7       feature8  \\\n",
       "count  136573.000000  136573.000000  136573.000000  136573.000000   \n",
       "mean        0.459675       0.523603       0.464908       0.503458   \n",
       "std         0.144374       0.143353       0.136017       0.126000   \n",
       "min         0.000000       0.000000       0.000000       0.000000   \n",
       "25%         0.353949       0.416925       0.370033       0.415512   \n",
       "50%         0.455057       0.524664       0.458604       0.504341   \n",
       "75%         0.563213       0.630734       0.552903       0.592677   \n",
       "max         1.000000       1.000000       1.000000       1.000000   \n",
       "\n",
       "            feature9      feature10      ...            feature41  \\\n",
       "count  136573.000000  136573.000000      ...        136573.000000   \n",
       "mean        0.505179       0.507997      ...             0.493254   \n",
       "std         0.156709       0.158817      ...             0.156236   \n",
       "min         0.000000       0.000000      ...             0.000000   \n",
       "25%         0.390768       0.392041      ...             0.377072   \n",
       "50%         0.502569       0.510177      ...             0.490121   \n",
       "75%         0.617613       0.628496      ...             0.609254   \n",
       "max         1.000000       1.000000      ...             1.000000   \n",
       "\n",
       "           feature42      feature43      feature44      feature45  \\\n",
       "count  136573.000000  136573.000000  136573.000000  136573.000000   \n",
       "mean        0.524870       0.489271       0.542465       0.492873   \n",
       "std         0.129495       0.131664       0.136190       0.168320   \n",
       "min         0.000000       0.000000       0.000000       0.000000   \n",
       "25%         0.432102       0.400755       0.447635       0.361996   \n",
       "50%         0.526524       0.489265       0.545842       0.492573   \n",
       "75%         0.619213       0.576567       0.640741       0.622240   \n",
       "max         1.000000       1.000000       1.000000       1.000000   \n",
       "\n",
       "           feature46      feature47      feature48      feature49  \\\n",
       "count  136573.000000  136573.000000  136573.000000  136573.000000   \n",
       "mean        0.480930       0.495088       0.515655       0.526513   \n",
       "std         0.115552       0.134214       0.140444       0.135894   \n",
       "min         0.000000       0.000000       0.000000       0.000000   \n",
       "25%         0.398145       0.396579       0.420975       0.434276   \n",
       "50%         0.478766       0.495653       0.514638       0.529256   \n",
       "75%         0.561584       0.594166       0.609921       0.622923   \n",
       "max         0.963337       1.000000       1.000000       1.000000   \n",
       "\n",
       "           feature50  \n",
       "count  136573.000000  \n",
       "mean        0.517014  \n",
       "std         0.119244  \n",
       "min         0.000000  \n",
       "25%         0.439332  \n",
       "50%         0.519898  \n",
       "75%         0.598703  \n",
       "max         1.000000  \n",
       "\n",
       "[8 rows x 50 columns]"
      ]
     },
     "execution_count": 5,
     "metadata": {},
     "output_type": "execute_result"
    }
   ],
   "source": [
    "traindata.describe()"
   ]
  },
  {
   "cell_type": "code",
   "execution_count": 6,
   "metadata": {
    "collapsed": false
   },
   "outputs": [
    {
     "data": {
      "text/plain": [
       "count    136573.000000\n",
       "mean          0.503343\n",
       "std           0.499991\n",
       "min           0.000000\n",
       "25%           0.000000\n",
       "50%           1.000000\n",
       "75%           1.000000\n",
       "max           1.000000\n",
       "Name: target, dtype: float64"
      ]
     },
     "execution_count": 6,
     "metadata": {},
     "output_type": "execute_result"
    }
   ],
   "source": [
    "target.describe()"
   ]
  },
  {
   "cell_type": "code",
   "execution_count": 7,
   "metadata": {
    "collapsed": false
   },
   "outputs": [],
   "source": [
    "X_train = traindata.as_matrix()\n",
    "y_train = target.as_matrix().ravel()"
   ]
  },
  {
   "cell_type": "markdown",
   "metadata": {},
   "source": [
    "### Creating a model with eXtreme Gradient Boosting"
   ]
  },
  {
   "cell_type": "markdown",
   "metadata": {},
   "source": [
    "XGBoost is an optimized distributed gradient boosting library designed to be highly efficient, flexible and portable. It implements machine learning algorithms under the Gradient Boosting framework. XGBoost provides a parallel tree boosting (also known as GBDT, GBM) that solve many data science problems in a fast and accurate way. "
   ]
  },
  {
   "cell_type": "code",
   "execution_count": 9,
   "metadata": {
    "collapsed": false
   },
   "outputs": [],
   "source": [
    "from xgboost import XGBClassifier\n",
    "from sklearn.model_selection import cross_val_score"
   ]
  },
  {
   "cell_type": "code",
   "execution_count": 10,
   "metadata": {
    "collapsed": true
   },
   "outputs": [],
   "source": [
    "model = XGBClassifier()"
   ]
  },
  {
   "cell_type": "code",
   "execution_count": 14,
   "metadata": {
    "collapsed": false
   },
   "outputs": [
    {
     "name": "stdout",
     "output_type": "stream",
     "text": [
      "XGBoost default model expected logloss = 0.69204\n",
      "XGBoost default model expected accuracy = 0.5204\n"
     ]
    }
   ],
   "source": [
    "print(\"XGBoost default model expected logloss = %.5f\" % ( -cross_val_score(model, X_train, y_train, \n",
    "                                                                          scoring=\"neg_log_loss\", cv=3).mean()))\n",
    "print(\"XGBoost default model expected accuracy = %.4f\" % ( cross_val_score(model, X_train, y_train, \n",
    "                                                                           scoring=\"accuracy\", cv=3).mean()))"
   ]
  },
  {
   "cell_type": "markdown",
   "metadata": {},
   "source": [
    "### Hyperparameter Optimization"
   ]
  },
  {
   "cell_type": "markdown",
   "metadata": {},
   "source": [
    "hyperopt is a Python library for optimizing over awkward search spaces with real-valued, discrete, and conditional dimensions, using the Tree of Parzen Estimators (TPE) algorithm"
   ]
  },
  {
   "cell_type": "code",
   "execution_count": 19,
   "metadata": {
    "collapsed": true
   },
   "outputs": [],
   "source": [
    "from hyperopt import hp\n",
    "from hyperopt import fmin, tpe, hp, STATUS_OK, Trials\n",
    "from sklearn.model_selection import StratifiedKFold, train_test_split"
   ]
  },
  {
   "cell_type": "code",
   "execution_count": 21,
   "metadata": {
    "collapsed": true
   },
   "outputs": [],
   "source": [
    "def cross_validated_scorer(X_train, y_train, model_class, params, loss, kfolds=3):\n",
    "    params[\"n_estimators\"] = int(params[\"n_estimators\"])\n",
    "    params[\"max_depth\"] = int(params[\"max_depth\"])\n",
    "    print(\"Training with params : %s\" % (params))\n",
    "    mod = model_class(**params)\n",
    "    cv_score = -1 * cross_val_score(mod, X_train, y=y_train, scoring=loss, cv=kfolds, n_jobs=1).mean()\n",
    "    print(cv_score)\n",
    "    return cv_score\n",
    "\n",
    "def optimize(trials):\n",
    "    hyperopt_grid = {\n",
    "            'max_depth' : hp.quniform('max_depth', 1, 10, 1),\n",
    "            'learning_rate' : hp.quniform('learning_rate', 0.01, 0.5, 0.01),\n",
    "            'n_estimators' : hp.quniform('n_estimators', 25, 525, 25),\n",
    "            'gamma' : hp.quniform('gamma', 0.0, 1.0, 0.05),\n",
    "            'min_child_weight' : hp.quniform('min_child_weight', 1, 4, 1),\n",
    "            'subsample' : hp.quniform('subsample', 0.2, 1, 0.1),\n",
    "            'colsample_bytree' : hp.quniform('colsample_bytree', 0.2, 1.0, 0.1)\n",
    "    }\n",
    "    \n",
    "    def objective(params):\n",
    "        err = cross_validated_scorer(X_train, y_train, XGBClassifier, params, loss=\"neg_log_loss\")\n",
    "        return {'loss': err, 'params': params, 'status': STATUS_OK}\n",
    "    best = fmin(objective, hyperopt_grid, algo=tpe.suggest, trials=trials, max_evals=25)\n",
    "    return best"
   ]
  },
  {
   "cell_type": "code",
   "execution_count": 22,
   "metadata": {
    "collapsed": false
   },
   "outputs": [
    {
     "name": "stdout",
     "output_type": "stream",
     "text": [
      "Training with params : {'n_estimators': 325, 'subsample': 0.5, 'colsample_bytree': 0.9, 'gamma': 0.45, 'learning_rate': 0.22, 'max_depth': 10, 'min_child_weight': 3.0}\n",
      "0.842002856784\n",
      "Training with params : {'n_estimators': 375, 'subsample': 0.5, 'colsample_bytree': 0.6000000000000001, 'gamma': 0.4, 'learning_rate': 0.3, 'max_depth': 8, 'min_child_weight': 4.0}\n",
      "0.85304831221\n",
      "Training with params : {'n_estimators': 150, 'subsample': 0.9, 'colsample_bytree': 0.8, 'gamma': 0.65, 'learning_rate': 0.37, 'max_depth': 5, 'min_child_weight': 3.0}\n",
      "0.711107875332\n",
      "Training with params : {'n_estimators': 350, 'subsample': 0.9, 'colsample_bytree': 0.5, 'gamma': 0.30000000000000004, 'learning_rate': 0.23, 'max_depth': 10, 'min_child_weight': 3.0}\n",
      "0.768937417351\n",
      "Training with params : {'n_estimators': 400, 'subsample': 0.4, 'colsample_bytree': 0.2, 'gamma': 0.05, 'learning_rate': 0.15, 'max_depth': 2, 'min_child_weight': 1.0}\n",
      "0.694207613611\n",
      "Training with params : {'n_estimators': 400, 'subsample': 0.7000000000000001, 'colsample_bytree': 0.9, 'gamma': 0.8, 'learning_rate': 0.09, 'max_depth': 5, 'min_child_weight': 3.0}\n",
      "0.698216219351\n",
      "Training with params : {'n_estimators': 75, 'subsample': 0.5, 'colsample_bytree': 0.30000000000000004, 'gamma': 0.65, 'learning_rate': 0.42, 'max_depth': 5, 'min_child_weight': 3.0}\n",
      "0.712630667235\n",
      "Training with params : {'n_estimators': 75, 'subsample': 0.8, 'colsample_bytree': 0.30000000000000004, 'gamma': 0.2, 'learning_rate': 0.24, 'max_depth': 8, 'min_child_weight': 1.0}\n",
      "0.70769854125\n",
      "Training with params : {'n_estimators': 500, 'subsample': 0.6000000000000001, 'colsample_bytree': 0.6000000000000001, 'gamma': 0.4, 'learning_rate': 0.42, 'max_depth': 7, 'min_child_weight': 1.0}\n",
      "0.953369757194\n",
      "Training with params : {'n_estimators': 150, 'subsample': 0.30000000000000004, 'colsample_bytree': 0.30000000000000004, 'gamma': 0.4, 'learning_rate': 0.25, 'max_depth': 9, 'min_child_weight': 1.0}\n",
      "0.806233543285\n",
      "Training with params : {'n_estimators': 425, 'subsample': 0.4, 'colsample_bytree': 0.8, 'gamma': 0.2, 'learning_rate': 0.34, 'max_depth': 5, 'min_child_weight': 3.0}\n",
      "0.785454268107\n",
      "Training with params : {'n_estimators': 400, 'subsample': 0.30000000000000004, 'colsample_bytree': 0.8, 'gamma': 0.05, 'learning_rate': 0.48, 'max_depth': 1, 'min_child_weight': 1.0}\n",
      "0.697965638043\n",
      "Training with params : {'n_estimators': 225, 'subsample': 0.9, 'colsample_bytree': 0.2, 'gamma': 0.7000000000000001, 'learning_rate': 0.38, 'max_depth': 8, 'min_child_weight': 2.0}\n",
      "0.758304911327\n",
      "Training with params : {'n_estimators': 500, 'subsample': 0.30000000000000004, 'colsample_bytree': 0.5, 'gamma': 0.7000000000000001, 'learning_rate': 0.41000000000000003, 'max_depth': 4, 'min_child_weight': 3.0}\n",
      "0.797454226526\n",
      "Training with params : {'n_estimators': 425, 'subsample': 0.30000000000000004, 'colsample_bytree': 0.7000000000000001, 'gamma': 0.9, 'learning_rate': 0.02, 'max_depth': 5, 'min_child_weight': 2.0}\n",
      "0.692453349373\n",
      "Training with params : {'n_estimators': 400, 'subsample': 0.2, 'colsample_bytree': 0.30000000000000004, 'gamma': 0.9500000000000001, 'learning_rate': 0.01, 'max_depth': 5, 'min_child_weight': 3.0}\n",
      "0.691746669287\n",
      "Training with params : {'n_estimators': 225, 'subsample': 0.9, 'colsample_bytree': 0.9, 'gamma': 0.65, 'learning_rate': 0.23, 'max_depth': 4, 'min_child_weight': 3.0}\n",
      "0.699618296853\n",
      "Training with params : {'n_estimators': 75, 'subsample': 0.9, 'colsample_bytree': 0.6000000000000001, 'gamma': 0.65, 'learning_rate': 0.19, 'max_depth': 9, 'min_child_weight': 1.0}\n",
      "0.706029467849\n",
      "Training with params : {'n_estimators': 275, 'subsample': 0.9, 'colsample_bytree': 0.9, 'gamma': 0.9, 'learning_rate': 0.2, 'max_depth': 2, 'min_child_weight': 3.0}\n",
      "0.693432093491\n",
      "Training with params : {'n_estimators': 175, 'subsample': 0.30000000000000004, 'colsample_bytree': 0.6000000000000001, 'gamma': 0.25, 'learning_rate': 0.09, 'max_depth': 3, 'min_child_weight': 2.0}\n",
      "0.693043356357\n",
      "Training with params : {'n_estimators': 450, 'subsample': 0.2, 'colsample_bytree': 0.7000000000000001, 'gamma': 0.9500000000000001, 'learning_rate': 0.04, 'max_depth': 6, 'min_child_weight': 2.0}\n",
      "0.697417499371\n",
      "Training with params : {'n_estimators': 475, 'subsample': 0.2, 'colsample_bytree': 0.4, 'gamma': 1.0, 'learning_rate': 0.02, 'max_depth': 6, 'min_child_weight': 4.0}\n",
      "0.693089894082\n",
      "Training with params : {'n_estimators': 300, 'subsample': 0.2, 'colsample_bytree': 0.7000000000000001, 'gamma': 0.8500000000000001, 'learning_rate': 0.07, 'max_depth': 4, 'min_child_weight': 2.0}\n",
      "0.69594698487\n",
      "Training with params : {'n_estimators': 450, 'subsample': 0.4, 'colsample_bytree': 0.5, 'gamma': 1.0, 'learning_rate': 0.14, 'max_depth': 3, 'min_child_weight': 4.0}\n",
      "0.698027769804\n",
      "Training with params : {'n_estimators': 525, 'subsample': 0.2, 'colsample_bytree': 0.7000000000000001, 'gamma': 0.8, 'learning_rate': 0.03, 'max_depth': 7, 'min_child_weight': 2.0}\n",
      "0.698046106686\n",
      "CPU times: user 3h 38min 6s, sys: 14.2 s, total: 3h 38min 20s\n",
      "Wall time: 28min 2s\n"
     ]
    }
   ],
   "source": [
    "%%time\n",
    "trials = Trials()\n",
    "best = optimize(trials)"
   ]
  },
  {
   "cell_type": "code",
   "execution_count": 23,
   "metadata": {
    "collapsed": true
   },
   "outputs": [],
   "source": [
    "best[\"n_estimators\"] = int(best[\"n_estimators\"])\n",
    "best[\"max_depth\"] = int(best[\"max_depth\"])"
   ]
  },
  {
   "cell_type": "code",
   "execution_count": 24,
   "metadata": {
    "collapsed": false
   },
   "outputs": [
    {
     "name": "stdout",
     "output_type": "stream",
     "text": [
      "{'colsample_bytree': 0.30000000000000004, 'learning_rate': 0.01, 'min_child_weight': 3.0, 'n_estimators': 400, 'subsample': 0.2, 'max_depth': 5, 'gamma': 0.9500000000000001}\n"
     ]
    }
   ],
   "source": [
    "print(best)"
   ]
  },
  {
   "cell_type": "code",
   "execution_count": 11,
   "metadata": {
    "collapsed": false
   },
   "outputs": [],
   "source": [
    "model = XGBClassifier(**best)"
   ]
  },
  {
   "cell_type": "code",
   "execution_count": 26,
   "metadata": {
    "collapsed": false
   },
   "outputs": [
    {
     "name": "stdout",
     "output_type": "stream",
     "text": [
      "XBBoost optimized model expected logloss = 0.69175\n",
      "XBBoost optimized model expected accuracy = 0.5208\n"
     ]
    }
   ],
   "source": [
    "print(\"XBBoost optimized model expected logloss = %.5f\" % ( -cross_val_score(model, X_train, y_train, \n",
    "                                                                             scoring=\"neg_log_loss\", cv=3).mean()))\n",
    "print(\"XBBoost optimized model expected accuracy = %.4f\" % ( cross_val_score(model, X_train, y_train, \n",
    "                                                                              scoring=\"accuracy\", cv=3).mean()))"
   ]
  },
  {
   "cell_type": "markdown",
   "metadata": {
    "collapsed": true
   },
   "source": [
    "### Bagging"
   ]
  },
  {
   "cell_type": "markdown",
   "metadata": {},
   "source": [
    "A Bagging classifier is an ensemble meta-estimator that fits base classifiers each on random subsets of the original dataset and then aggregate their individual predictions to form a final prediction. Such a meta-estimator can typically be used as a way to reduce the variance of a black-box estimator, by introducing randomization into its construction procedure and then making an ensemble out of it."
   ]
  },
  {
   "cell_type": "markdown",
   "metadata": {},
   "source": [
    "When base estimators are built on subsets of both samples and features, then the method is known as Random Patches"
   ]
  },
  {
   "cell_type": "code",
   "execution_count": 13,
   "metadata": {
    "collapsed": true
   },
   "outputs": [],
   "source": [
    "from sklearn.ensemble import BaggingClassifier\n",
    "bagged_model = BaggingClassifier(model, n_estimators=10, max_samples=0.9, max_features=0.9, bootstrap=False)"
   ]
  },
  {
   "cell_type": "code",
   "execution_count": 14,
   "metadata": {
    "collapsed": false
   },
   "outputs": [
    {
     "name": "stdout",
     "output_type": "stream",
     "text": [
      "XBBoost bagged model expected logloss = 0.69160\n",
      "XBBoost bagged model expected accuracy = 0.5214\n"
     ]
    }
   ],
   "source": [
    "print(\"XBBoost bagged model expected logloss = %.5f\" % ( -cross_val_score(bagged_model, X_train, y_train, \n",
    "                                                                             scoring=\"neg_log_loss\", cv=3).mean()))\n",
    "print(\"XBBoost bagged model expected accuracy = %.4f\" % ( cross_val_score(bagged_model, X_train, y_train, \n",
    "                                                                              scoring=\"accuracy\", cv=3).mean()))"
   ]
  },
  {
   "cell_type": "markdown",
   "metadata": {
    "collapsed": true
   },
   "source": [
    "### Probability Calibration "
   ]
  },
  {
   "cell_type": "markdown",
   "metadata": {},
   "source": [
    "The calibration module allows you to better calibrate the probabilities of a given model, or to add support for probability prediction.\n",
    "Well calibrated classifiers are probabilistic classifiers for which the output of the predict_proba method can be directly interpreted as a confidence level."
   ]
  },
  {
   "cell_type": "markdown",
   "metadata": {},
   "source": [
    "We are using a parametric approach based on Platt’s sigmoid model "
   ]
  },
  {
   "cell_type": "code",
   "execution_count": 15,
   "metadata": {
    "collapsed": true
   },
   "outputs": [],
   "source": [
    "from sklearn.calibration import CalibratedClassifierCV\n",
    "best_model = CalibratedClassifierCV(base_estimator=bagged_model, method='sigmoid', cv=5)"
   ]
  },
  {
   "cell_type": "code",
   "execution_count": 16,
   "metadata": {
    "collapsed": false
   },
   "outputs": [
    {
     "name": "stdout",
     "output_type": "stream",
     "text": [
      "XGBoost calibrated model expected logloss = 0.69160\n",
      "XGBoost calibrated model expected accuracy = 0.5222\n"
     ]
    }
   ],
   "source": [
    "print(\"XGBoost calibrated model expected logloss = %.5f\" % ( -cross_val_score(best_model, X_train, y_train, \n",
    "                                                                             scoring=\"neg_log_loss\", cv=3).mean()))\n",
    "print(\"XGBoost calibrated model expected accuracy = %.4f\" % ( cross_val_score(best_model, X_train, y_train, \n",
    "                                                                              scoring=\"accuracy\", cv=3).mean()))"
   ]
  },
  {
   "cell_type": "markdown",
   "metadata": {},
   "source": [
    "### Obatining final predictions"
   ]
  },
  {
   "cell_type": "code",
   "execution_count": 17,
   "metadata": {
    "collapsed": false
   },
   "outputs": [
    {
     "name": "stdout",
     "output_type": "stream",
     "text": [
      "CPU times: user 1h 12min 45s, sys: 4.25 s, total: 1h 12min 50s\n",
      "Wall time: 9min 28s\n"
     ]
    }
   ],
   "source": [
    "%%time\n",
    "best_model = best_model.fit(X_train, y_train)"
   ]
  },
  {
   "cell_type": "code",
   "execution_count": 18,
   "metadata": {
    "collapsed": false
   },
   "outputs": [],
   "source": [
    "testdata = pd.read_csv(workdir+'numerai_tournament_data.csv')\n",
    "ids = testdata['t_id']\n",
    "testdata.drop('t_id', axis=1, inplace=True)\n",
    "X_test = testdata.as_matrix()"
   ]
  },
  {
   "cell_type": "code",
   "execution_count": 21,
   "metadata": {
    "collapsed": false
   },
   "outputs": [],
   "source": [
    "predictions = best_model.predict_proba(X_test)[:,1]\n",
    "results = pd.read_csv(workdir+\"example_predictions.csv\")\n",
    "results[\"probability\"] = predictions\n",
    "model_name = \"XGB_opt_bag_calib\"\n",
    "results.to_csv(\"%ssubmission_%s.csv\" % (workdir, model_name), index=False)"
   ]
  },
  {
   "cell_type": "markdown",
   "metadata": {
    "collapsed": true
   },
   "source": [
    "*submission_XGB_opt_bag_calib.csv has logloss of 0.690*"
   ]
  },
  {
   "cell_type": "code",
   "execution_count": null,
   "metadata": {
    "collapsed": true
   },
   "outputs": [],
   "source": []
  }
 ],
 "metadata": {
  "anaconda-cloud": {},
  "kernelspec": {
   "display_name": "Python 2",
   "language": "python",
   "name": "python2"
  },
  "language_info": {
   "codemirror_mode": {
    "name": "ipython",
    "version": 2
   },
   "file_extension": ".py",
   "mimetype": "text/x-python",
   "name": "python",
   "nbconvert_exporter": "python",
   "pygments_lexer": "ipython2",
   "version": "2.7.6"
  }
 },
 "nbformat": 4,
 "nbformat_minor": 0
}
