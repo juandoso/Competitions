{
 "cells": [
  {
   "cell_type": "markdown",
   "metadata": {},
   "source": [
    "# Ghouls, Goblins, and Ghosts... Boo!\n",
    "*Mon 31 Oct 2016 – Thu 1 Dec 2016*\n",
    "\n",
    "https://www.kaggle.com/c/ghouls-goblins-and-ghosts-boo"
   ]
  },
  {
   "cell_type": "markdown",
   "metadata": {},
   "source": [
    "Can you classify monsters haunting Kaggle?\n",
    "\n",
    "Get out your dowsing rods, electromagnetic sensors, … and gradient boosting machines. Kaggle is haunted and we need your help. After a month of making scientific observations and taking careful measurements, we’ve determined that 900 ghouls, ghosts, and goblins are infesting our halls and frightening our data scientists. When trying garlic, asking politely, and using reverse psychology didn't work, it became clear that machine learning is the only answer to banishing our unwanted guests.\n",
    "\n",
    "So now the hour has come to put the data we’ve collected in your hands. We’ve managed to identify 371 of the ghastly creatures, but need your help to vanquish the rest. And only an accurate classification algorithm can thwart them. Use bone length measurements, severity of rot, extent of soullessness, and other characteristics to distinguish (and extinguish) the intruders. Are you ghost-busters up for the challenge?"
   ]
  },
  {
   "cell_type": "markdown",
   "metadata": {},
   "source": [
    "## A Haunted (random) Forest is, of course, the obvious solution to this spooky contest"
   ]
  },
  {
   "cell_type": "code",
   "execution_count": 1,
   "metadata": {
    "collapsed": true
   },
   "outputs": [],
   "source": [
    "# Basics\n",
    "import numpy as np # linear algebra\n",
    "import pandas as pd # data processing, CSV file I/O (e.g. pd.read_csv)"
   ]
  },
  {
   "cell_type": "markdown",
   "metadata": {},
   "source": [
    "### The Data"
   ]
  },
  {
   "cell_type": "code",
   "execution_count": 2,
   "metadata": {
    "collapsed": false
   },
   "outputs": [],
   "source": [
    "train_df = pd.read_csv(\"G:/Kaggle_Boo/train.csv\")\n",
    "test_df = pd.read_csv(\"G:/Kaggle_Boo/test.csv\")"
   ]
  },
  {
   "cell_type": "code",
   "execution_count": 4,
   "metadata": {
    "collapsed": false
   },
   "outputs": [
    {
     "data": {
      "text/html": [
       "<div>\n",
       "<table border=\"1\" class=\"dataframe\">\n",
       "  <thead>\n",
       "    <tr style=\"text-align: right;\">\n",
       "      <th></th>\n",
       "      <th>id</th>\n",
       "      <th>bone_length</th>\n",
       "      <th>rotting_flesh</th>\n",
       "      <th>hair_length</th>\n",
       "      <th>has_soul</th>\n",
       "      <th>color</th>\n",
       "      <th>type</th>\n",
       "    </tr>\n",
       "  </thead>\n",
       "  <tbody>\n",
       "    <tr>\n",
       "      <th>0</th>\n",
       "      <td>0</td>\n",
       "      <td>0.354512</td>\n",
       "      <td>0.350839</td>\n",
       "      <td>0.465761</td>\n",
       "      <td>0.781142</td>\n",
       "      <td>clear</td>\n",
       "      <td>Ghoul</td>\n",
       "    </tr>\n",
       "    <tr>\n",
       "      <th>1</th>\n",
       "      <td>1</td>\n",
       "      <td>0.575560</td>\n",
       "      <td>0.425868</td>\n",
       "      <td>0.531401</td>\n",
       "      <td>0.439899</td>\n",
       "      <td>green</td>\n",
       "      <td>Goblin</td>\n",
       "    </tr>\n",
       "    <tr>\n",
       "      <th>2</th>\n",
       "      <td>2</td>\n",
       "      <td>0.467875</td>\n",
       "      <td>0.354330</td>\n",
       "      <td>0.811616</td>\n",
       "      <td>0.791225</td>\n",
       "      <td>black</td>\n",
       "      <td>Ghoul</td>\n",
       "    </tr>\n",
       "    <tr>\n",
       "      <th>3</th>\n",
       "      <td>4</td>\n",
       "      <td>0.776652</td>\n",
       "      <td>0.508723</td>\n",
       "      <td>0.636766</td>\n",
       "      <td>0.884464</td>\n",
       "      <td>black</td>\n",
       "      <td>Ghoul</td>\n",
       "    </tr>\n",
       "    <tr>\n",
       "      <th>4</th>\n",
       "      <td>5</td>\n",
       "      <td>0.566117</td>\n",
       "      <td>0.875862</td>\n",
       "      <td>0.418594</td>\n",
       "      <td>0.636438</td>\n",
       "      <td>green</td>\n",
       "      <td>Ghost</td>\n",
       "    </tr>\n",
       "  </tbody>\n",
       "</table>\n",
       "</div>"
      ],
      "text/plain": [
       "   id  bone_length  rotting_flesh  hair_length  has_soul  color    type\n",
       "0   0     0.354512       0.350839     0.465761  0.781142  clear   Ghoul\n",
       "1   1     0.575560       0.425868     0.531401  0.439899  green  Goblin\n",
       "2   2     0.467875       0.354330     0.811616  0.791225  black   Ghoul\n",
       "3   4     0.776652       0.508723     0.636766  0.884464  black   Ghoul\n",
       "4   5     0.566117       0.875862     0.418594  0.636438  green   Ghost"
      ]
     },
     "execution_count": 4,
     "metadata": {},
     "output_type": "execute_result"
    }
   ],
   "source": [
    "train_df.head()"
   ]
  },
  {
   "cell_type": "markdown",
   "metadata": {},
   "source": [
    "The target variable: type of creature (of the night)"
   ]
  },
  {
   "cell_type": "code",
   "execution_count": 5,
   "metadata": {
    "collapsed": true
   },
   "outputs": [],
   "source": [
    "train_outcome = train_df[\"type\"]\n",
    "train_df.drop([\"type\"], axis=1, inplace=True)"
   ]
  },
  {
   "cell_type": "code",
   "execution_count": 6,
   "metadata": {
    "collapsed": false
   },
   "outputs": [
    {
     "data": {
      "text/plain": [
       "Ghoul     129\n",
       "Goblin    125\n",
       "Ghost     117\n",
       "Name: type, dtype: int64"
      ]
     },
     "execution_count": 6,
     "metadata": {},
     "output_type": "execute_result"
    }
   ],
   "source": [
    "train_outcome.value_counts()"
   ]
  },
  {
   "cell_type": "markdown",
   "metadata": {},
   "source": [
    "Encoding the categorical data: the color of the apparition (with the complete set (train and test)) "
   ]
  },
  {
   "cell_type": "code",
   "execution_count": 7,
   "metadata": {
    "collapsed": true
   },
   "outputs": [],
   "source": [
    "conjunto = pd.concat([train_df[[\"id\", \"color\"]], test_df[[\"id\", \"color\"]]])\n",
    "conjunto_encoded = pd.get_dummies(conjunto, columns=[\"color\"])\n",
    "train_file = train_df.merge(conjunto_encoded, on=\"id\", how=\"left\")\n",
    "test_file = test_df.merge(conjunto_encoded, on=\"id\", how=\"left\")\n",
    "train_df.drop([\"color\"], axis=1, inplace=True)\n",
    "test_df.drop([\"color\"], axis=1, inplace=True)"
   ]
  },
  {
   "cell_type": "markdown",
   "metadata": {},
   "source": [
    "Separating the IDs (And we don't really need the IDs of the training set)"
   ]
  },
  {
   "cell_type": "code",
   "execution_count": 8,
   "metadata": {
    "collapsed": true
   },
   "outputs": [],
   "source": [
    "train_id = train_df[[\"id\"]]\n",
    "test_id = test_df[[\"id\"]]\n",
    "train_df.drop([\"id\"], axis=1, inplace=True)\n",
    "test_df.drop([\"id\"], axis=1, inplace=True)"
   ]
  },
  {
   "cell_type": "markdown",
   "metadata": {},
   "source": [
    "### The Model"
   ]
  },
  {
   "cell_type": "code",
   "execution_count": 9,
   "metadata": {
    "collapsed": true
   },
   "outputs": [],
   "source": [
    "from sklearn.ensemble import RandomForestClassifier\n",
    "from sklearn.model_selection import train_test_split"
   ]
  },
  {
   "cell_type": "markdown",
   "metadata": {},
   "source": [
    "First, let's train a small(ish) haunted forest to get some metrics "
   ]
  },
  {
   "cell_type": "code",
   "execution_count": 10,
   "metadata": {
    "collapsed": true
   },
   "outputs": [],
   "source": [
    "X_train, X_val, y_train, y_val = train_test_split(train_df, train_outcome, test_size=0.2)\n",
    "forest = RandomForestClassifier(n_estimators=200, n_jobs=4)\n",
    "forest.fit(X_train, y_train)\n",
    "y_pred_val = forest.predict(X_val)"
   ]
  },
  {
   "cell_type": "code",
   "execution_count": 11,
   "metadata": {
    "collapsed": false
   },
   "outputs": [
    {
     "name": "stdout",
     "output_type": "stream",
     "text": [
      "             precision    recall  f1-score   support\n",
      "\n",
      "      Ghost       0.92      0.76      0.83        29\n",
      "      Ghoul       0.55      0.71      0.62        17\n",
      "     Goblin       0.59      0.59      0.59        29\n",
      "\n",
      "avg / total       0.70      0.68      0.69        75\n",
      "\n",
      "Haunting accuracy: 68.0%\n"
     ]
    }
   ],
   "source": [
    "from sklearn.metrics import classification_report, accuracy_score\n",
    "print(classification_report(y_val, y_pred_val))\n",
    "print(\"Haunting accuracy: {:.1%}\".format(accuracy_score(y_val, y_pred_val)))"
   ]
  },
  {
   "cell_type": "markdown",
   "metadata": {},
   "source": [
    "Now, we'll train the Haunted Random Forest with the complete training set..."
   ]
  },
  {
   "cell_type": "code",
   "execution_count": null,
   "metadata": {
    "collapsed": true
   },
   "outputs": [],
   "source": [
    "forest = RandomForestClassifier(n_estimators=500, n_jobs=4)\n",
    "forest.fit(train_df, train_outcome)\n",
    "y_pred = forest.predict(test_df)"
   ]
  },
  {
   "cell_type": "markdown",
   "metadata": {},
   "source": [
    "... and we'll predict of the type of creature haunting the forest"
   ]
  },
  {
   "cell_type": "code",
   "execution_count": null,
   "metadata": {
    "collapsed": true
   },
   "outputs": [],
   "source": [
    "results = pd.read_csv(\"../input/sample_submission.csv\")\n",
    "results[\"type\"] = y_pred"
   ]
  },
  {
   "cell_type": "markdown",
   "metadata": {},
   "source": [
    "Finally, we'll save the results to haunt the leaderboard"
   ]
  },
  {
   "cell_type": "code",
   "execution_count": null,
   "metadata": {
    "collapsed": true
   },
   "outputs": [],
   "source": [
    "results.to_csv(\"submission.csv\", index=False)"
   ]
  },
  {
   "cell_type": "markdown",
   "metadata": {},
   "source": [
    "### *0.71267 score on the leaderboard! Booo!*"
   ]
  }
 ],
 "metadata": {
  "anaconda-cloud": {},
  "kernelspec": {
   "display_name": "Python [default]",
   "language": "python",
   "name": "python3"
  },
  "language_info": {
   "codemirror_mode": {
    "name": "ipython",
    "version": 3
   },
   "file_extension": ".py",
   "mimetype": "text/x-python",
   "name": "python",
   "nbconvert_exporter": "python",
   "pygments_lexer": "ipython3",
   "version": "3.5.2"
  }
 },
 "nbformat": 4,
 "nbformat_minor": 0
}
